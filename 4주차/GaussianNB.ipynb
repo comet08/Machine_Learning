{
 "cells": [
  {
   "cell_type": "markdown",
   "metadata": {},
   "source": [
    "#### Naive Bayesian Classifier\n",
    "\n",
    "- 초기에 빠르게 사용 가능\n",
    "- 조건부 확률 사용..\n",
    "- n개의 특성 / k개의 클래스\n",
    "- 특성간에 서로 영향을 주지 않는다고 가정함 독립!\n",
    "- 최대 확률을 갖는 클래스 선택"
   ]
  },
  {
   "cell_type": "markdown",
   "metadata": {},
   "source": [
    "통계\n",
    "\n",
    ">- 테스트 데이터에 대해 판별을 위해 확률적 기법 사용\n",
    ">- 확률로 어느 카테고리에 속하는가 결정\n",
    "\n",
    ">- 평균, 분산, 표준 편차, 공분산, 상관계수\n",
    "\n",
    "> ...조건부 확률!\n",
    ">- p[b|a] = p[a⋂b]p[a]\n",
    ">- 사전확률 = p[w] , 우도 = p[x|w] , 사후확률 = p[w|x]\n",
    ">- 사후확률 = 사전확률 * 우도"
   ]
  },
  {
   "cell_type": "code",
   "execution_count": 2,
   "metadata": {},
   "outputs": [],
   "source": [
    "import numpy as np\n",
    "import pandas as pd\n",
    "import matplotlib\n",
    "import matplotlib.pyplot as plt\n",
    "import mglearn\n",
    "\n",
    "from matplotlib import font_manager, rc\n",
    "font_name = font_manager.FontProperties(fname='c:/Windows/Fonts/NanumBarunGothic.ttf').get_name()\n",
    "rc('font',family=font_name)\n",
    "\n",
    "matplotlib.rcParams['axes.unicode_minus'] = False "
   ]
  },
  {
   "cell_type": "code",
   "execution_count": 3,
   "metadata": {},
   "outputs": [
    {
     "name": "stdout",
     "output_type": "stream",
     "text": [
      "Accuracy =  1.0\n",
      "Number of misabeled points out of a total : 38, points : 0 \n"
     ]
    }
   ],
   "source": [
    "from sklearn.naive_bayes import GaussianNB\n",
    "from sklearn.datasets import load_iris\n",
    "from sklearn.model_selection import train_test_split\n",
    "\n",
    "#iris data 로드 후 훈련/테스트로 나눔\n",
    "iris_dataset = load_iris()\n",
    "X_train, X_test, y_train, y_test = train_test_split(iris_dataset.data, iris_dataset.target, random_state=0)\n",
    "\n",
    "#가우시안 네이브 베이스를 훈련 데이터로 훈련\n",
    "classifier = GaussianNB()\n",
    "classifier.fit(X_train, y_train)\n",
    "\n",
    "y_pred = classifier.predict(X_test)\n",
    "nErrors = (y_test != y_pred).sum()  # 예측과 실제와의 틀린 것 카운트\n",
    "accuracy = 1.0 - nErrors/y_test.shape[0]  #정확도\n",
    "\n",
    "#정확도 출력 ...\n",
    "print(\"Accuracy = \", accuracy)\n",
    "#print(classifier.score(X_test, y_test))\n",
    "#print(np.mean(y_pred==y_test))\n",
    "\n",
    "#테스트 샘플수와 오류수\n",
    "print(\"Number of misabeled points out of a total : %d, points : %d \"%(X_test.shape[0], nErrors))"
   ]
  },
  {
   "cell_type": "markdown",
   "metadata": {},
   "source": [
    "iris 데이터를 가우시안nb로 분류함\n",
    "\n",
    "- test size = default\n",
    "- 정확도는 1로 완벽 예측함.. 과대적합"
   ]
  },
  {
   "cell_type": "code",
   "execution_count": 4,
   "metadata": {},
   "outputs": [
    {
     "data": {
      "text/html": [
       "<div>\n",
       "<style scoped>\n",
       "    .dataframe tbody tr th:only-of-type {\n",
       "        vertical-align: middle;\n",
       "    }\n",
       "\n",
       "    .dataframe tbody tr th {\n",
       "        vertical-align: top;\n",
       "    }\n",
       "\n",
       "    .dataframe thead th {\n",
       "        text-align: right;\n",
       "    }\n",
       "</style>\n",
       "<table border=\"1\" class=\"dataframe\">\n",
       "  <thead>\n",
       "    <tr style=\"text-align: right;\">\n",
       "      <th></th>\n",
       "      <th>Accuracy</th>\n",
       "      <th>nErrors</th>\n",
       "    </tr>\n",
       "  </thead>\n",
       "  <tbody>\n",
       "    <tr>\n",
       "      <th>0.1</th>\n",
       "      <td>0.933333</td>\n",
       "      <td>1</td>\n",
       "    </tr>\n",
       "    <tr>\n",
       "      <th>0.2</th>\n",
       "      <td>0.966667</td>\n",
       "      <td>1</td>\n",
       "    </tr>\n",
       "    <tr>\n",
       "      <th>0.3</th>\n",
       "      <td>1.000000</td>\n",
       "      <td>0</td>\n",
       "    </tr>\n",
       "    <tr>\n",
       "      <th>0.4</th>\n",
       "      <td>0.933333</td>\n",
       "      <td>4</td>\n",
       "    </tr>\n",
       "    <tr>\n",
       "      <th>0.5</th>\n",
       "      <td>0.946667</td>\n",
       "      <td>4</td>\n",
       "    </tr>\n",
       "    <tr>\n",
       "      <th>0.6</th>\n",
       "      <td>0.944444</td>\n",
       "      <td>5</td>\n",
       "    </tr>\n",
       "    <tr>\n",
       "      <th>0.7</th>\n",
       "      <td>0.933333</td>\n",
       "      <td>7</td>\n",
       "    </tr>\n",
       "    <tr>\n",
       "      <th>0.9</th>\n",
       "      <td>0.948148</td>\n",
       "      <td>7</td>\n",
       "    </tr>\n",
       "  </tbody>\n",
       "</table>\n",
       "</div>"
      ],
      "text/plain": [
       "     Accuracy  nErrors\n",
       "0.1  0.933333        1\n",
       "0.2  0.966667        1\n",
       "0.3  1.000000        0\n",
       "0.4  0.933333        4\n",
       "0.5  0.946667        4\n",
       "0.6  0.944444        5\n",
       "0.7  0.933333        7\n",
       "0.9  0.948148        7"
      ]
     },
     "metadata": {},
     "output_type": "display_data"
    }
   ],
   "source": [
    "accure = []\n",
    "size = [0.1,0.2,0.3,0.4,0.5,0.6,0.7,0.9]\n",
    "\n",
    "for s in size:\n",
    "    X_train, X_test, y_train, y_test = train_test_split(iris_dataset.data, \n",
    "                            iris_dataset.target, random_state=0, test_size=s)\n",
    "    classifier = GaussianNB().fit(X_train, y_train)\n",
    "    y_pred = classifier.predict(X_test)\n",
    "    accure.append([classifier.score(X_test, y_test), (y_test!=y_pred).sum()])\n",
    "\n",
    "df = pd.DataFrame(accure, index=size, columns=[\"Accuracy\", \"nErrors\"])\n",
    "display(df)"
   ]
  },
  {
   "cell_type": "markdown",
   "metadata": {},
   "source": [
    "iris -  test size에 따른 정확도 결과\n",
    "\n",
    "- 0.3일때 가장 정확함\n",
    "- 0.6, 0.7보다 0.9일때 더 정확한 걸 보니까 데이터가 섞여있어서 미묘한 차이가 생기는 것 같음"
   ]
  },
  {
   "cell_type": "code",
   "execution_count": 5,
   "metadata": {},
   "outputs": [
    {
     "name": "stdout",
     "output_type": "stream",
     "text": [
      "['malignant' 'benign']\n",
      "클래스별 샘플 수 : [212 357] \n",
      "\n",
      "random state =  0\n",
      "[0 1 1 1 1 1 1 1 1 1 1 1 1 1 1 0 1 0 0 0 0 0 1 1 0 1 1 0 1 0 1 0 1 0 1 0 1\n",
      " 0 1 0 0 1 0 1 1 0 1 1 1 0 0 0 0 1 1 1 1 1 1 0 0 0 1 1 0 1 0 0 0 1 1 0 1 0\n",
      " 0 1 1 1 1 1 0 0 0 1 0 1 1 1 0 0 1 0 1 0 1 1 0 1 1 1 1 1 1 1 0 1 0 1 0 0 1\n",
      " 0 0 1 1 1 1 1 1 1 1 1 0 1 0 1 1 1 1 1 0 1 1 1 1 1 1 0 0 1 1 1 0]\n",
      "훈련 세트 점수: 0.951\n",
      "테스트 세트 점수: 0.937\n",
      "train rate =  37 % : 62 %\n",
      "test rate =  37 % : 62 %\n",
      "\n",
      "random state =  21\n",
      "[1 1 0 0 0 1 1 1 1 1 1 1 1 1 1 0 1 1 1 1 1 0 1 0 0 1 1 1 0 1 1 1 1 1 0 1 1\n",
      " 0 1 0 1 0 1 1 1 0 1 1 1 1 1 1 1 0 1 0 0 0 0 1 1 0 1 0 0 0 1 1 0 1 0 0 1 0\n",
      " 0 1 1 1 0 0 1 1 1 1 1 1 1 1 0 0 1 1 0 0 0 1 1 1 0 1 1 1 1 1 0 1 1 1 1 0 0\n",
      " 1 1 0 1 0 0 1 1 1 1 1 0 1 1 1 1 0 1 1 1 0 1 0 1 0 0 1 1 1 0 0 0]\n",
      "훈련 세트 점수: 0.946\n",
      "테스트 세트 점수: 0.923\n",
      "train rate =  38 % : 61 %\n",
      "test rate =  34 % : 65 %\n",
      "\n",
      "random state =  42\n",
      "[1 0 0 1 1 0 0 0 1 1 1 0 1 0 1 0 1 1 1 0 0 1 0 1 1 1 1 1 1 0 1 1 1 1 1 1 0\n",
      " 1 0 1 1 0 1 1 1 1 1 1 1 1 0 0 1 1 1 1 1 0 0 1 1 0 0 1 1 1 0 0 1 1 0 0 1 0\n",
      " 1 1 1 0 1 1 0 1 0 0 0 0 0 0 1 1 1 1 1 1 1 1 0 0 1 0 0 1 0 0 1 1 1 0 1 1 0\n",
      " 1 1 0 1 0 1 1 1 0 1 1 1 0 1 0 0 1 1 0 0 0 1 1 1 0 1 1 1 0 1 0 1]\n",
      "훈련 세트 점수: 0.937\n",
      "테스트 세트 점수: 0.958\n",
      "train rate =  37 % : 62 %\n",
      "test rate =  37 % : 62 %\n",
      "\n",
      "\n",
      " stratify = y \n",
      "\n",
      "random state =  0\n",
      "[1 0 0 1 0 1 0 0 0 1 0 0 0 1 1 1 1 0 0 0 1 0 0 1 1 0 1 1 1 0 1 1 1 1 1 1 0\n",
      " 0 0 1 0 0 0 0 1 1 1 1 0 1 0 1 1 1 1 1 1 1 1 1 0 1 1 0 0 0 0 1 1 0 1 1 1 1\n",
      " 1 0 1 1 1 0 1 1 0 0 0 1 1 1 1 1 1 0 0 1 0 0 1 1 1 0 0 1 0 1 1 1 0 0 1 1 1\n",
      " 0 1 1 1 1 1 1 1 1 1 1 1 1 0 1 1 0 1 1 1 0 1 1 1 1 0 1 0 1 0 1 0]\n",
      "훈련 세트 점수: 0.946\n",
      "테스트 세트 점수: 0.923\n",
      "train rate =  37 % : 62 %\n",
      "test rate =  37 % : 62 %\n",
      "\n",
      "random state =  21\n",
      "[1 1 1 1 1 1 1 1 1 0 0 0 1 1 1 0 1 1 1 1 1 1 0 0 0 1 0 1 0 1 0 1 1 0 1 1 0\n",
      " 1 0 1 0 0 0 0 1 1 1 0 0 1 0 1 1 0 1 1 1 1 1 1 0 0 0 0 0 0 1 0 1 1 0 1 1 0\n",
      " 1 1 0 1 1 1 1 1 1 1 0 1 1 1 1 1 0 1 1 1 1 1 1 0 1 1 1 1 1 0 1 0 0 0 1 1 0\n",
      " 0 0 0 1 0 0 0 0 1 1 1 1 1 0 1 0 1 1 0 1 0 0 1 1 1 0 1 1 1 1 0 1]\n",
      "훈련 세트 점수: 0.941\n",
      "테스트 세트 점수: 0.930\n",
      "train rate =  37 % : 62 %\n",
      "test rate =  37 % : 62 %\n",
      "\n",
      "random state =  42\n",
      "[1 0 1 1 0 0 0 0 0 1 1 1 0 0 1 1 0 0 1 1 0 0 1 1 1 1 1 1 1 0 1 1 1 1 1 1 1\n",
      " 1 0 1 0 1 0 1 1 1 0 1 0 1 1 1 1 0 1 1 1 0 0 0 1 0 0 0 1 1 0 1 1 1 1 1 1 1\n",
      " 1 0 0 0 0 1 1 1 1 1 0 1 0 1 1 1 1 0 1 1 0 0 0 1 0 1 0 0 0 1 1 0 1 1 0 1 0\n",
      " 1 1 0 1 0 1 1 0 0 1 1 0 1 0 1 1 0 1 1 1 1 1 0 0 0 1 1 1 1 1 1 1]\n",
      "훈련 세트 점수: 0.946\n",
      "테스트 세트 점수: 0.937\n",
      "train rate =  37 % : 62 %\n",
      "test rate =  37 % : 62 %\n",
      "\n"
     ]
    }
   ],
   "source": [
    "#cancer data\n",
    "\n",
    "from sklearn.datasets import load_breast_cancer\n",
    "\n",
    "cancer = load_breast_cancer()\n",
    "\n",
    "print(cancer.target_names)\n",
    "print(\"클래스별 샘플 수 : \", end='')\n",
    "print(np.bincount(cancer.target),'\\n')\n",
    "    \n",
    "for r in [0,21,42]:\n",
    "    print(\"random state = \", r)\n",
    "    X_train, X_test, y_train, y_test = train_test_split(cancer.data, \n",
    "                                cancer.target, random_state=r)\n",
    "    print(y_test)\n",
    "    \n",
    "    classifier = GaussianNB().fit(X_train, y_train) # 모델 생성\n",
    "\n",
    "    print(\"훈련 세트 점수: {:.3f}\".format(classifier.score(X_train, y_train)))\n",
    "    print(\"테스트 세트 점수: {:.3f}\".format(classifier.score(X_test, y_test)))\n",
    "                                               \n",
    "    rate = np.bincount(y_train)\n",
    "    print('train rate = ',(rate[0]*100//(rate[0]+rate[1])),'% :',(rate[1]*100//(rate[0]+rate[1])),'%')\n",
    "    \n",
    "    rate = np.bincount(y_test)\n",
    "    print('test rate = ',(rate[0]*100//(rate[0]+rate[1])),'% :',(rate[1]*100//(rate[0]+rate[1])),'%\\n')\n",
    "    \n",
    "## 원본 데이터와 클래스 비율 유지\n",
    "print(\"\\n stratify = y \\n\")\n",
    "for r in [0,21,42]:\n",
    "    print(\"random state = \", r)\n",
    "    X_train, X_test, y_train, y_test = train_test_split(cancer.data, \n",
    "                                cancer.target, random_state=r, stratify=cancer.target)\n",
    "    print(y_test)\n",
    "\n",
    "    classifier = GaussianNB().fit(X_train, y_train) # 모델 생성\n",
    "\n",
    "    print(\"훈련 세트 점수: {:.3f}\".format(classifier.score(X_train, y_train)))\n",
    "    print(\"테스트 세트 점수: {:.3f}\".format(classifier.score(X_test, y_test)))\n",
    "    \n",
    "    rate = np.bincount(y_train)\n",
    "    print('train rate = ',(rate[0]*100//(rate[0]+rate[1])),'% :',(rate[1]*100//(rate[0]+rate[1])),'%')\n",
    "    \n",
    "    rate = np.bincount(y_test)\n",
    "    print('test rate = ',(rate[0]*100//(rate[0]+rate[1])),'% :',(rate[1]*100//(rate[0]+rate[1])),'%\\n')\n",
    "    "
   ]
  },
  {
   "cell_type": "markdown",
   "metadata": {},
   "source": [
    "cancer data를 사용해서 분류를 해 보았음\n",
    "\n",
    ">- 훈련 세트보다 테스트 세트에 대해 더 좋은 정확도를 가짐 = 42일때\n",
    ">- 0, 21에서는 훈련 세트가 더 정확도가 높음\n",
    "\n",
    ">- stratify = 비율 고정  일때\n",
    ">- 전부 훈련 세트 점수가 높게 나왔음.\n",
    "\n",
    ">- random state가 같고 결과적으로 나뉘어진 비율이 0과 41의 경우는 같은데 결과가 다른 이유는..\n",
    ">- 나뉘어진 target 데이터를 보니까 서로 다름을 알 수 있음... 뭔가 다른 섞이는 작업이 들어가는걸까?"
   ]
  },
  {
   "cell_type": "code",
   "execution_count": 6,
   "metadata": {},
   "outputs": [
    {
     "name": "stdout",
     "output_type": "stream",
     "text": [
      "knn\n",
      "훈련 세트 점수: 0.951\n",
      "테스트 세트 점수: 0.930\n",
      "\n",
      "logistic\n",
      "훈련 세트 점수: 0.958\n",
      "테스트 세트 점수: 0.958\n"
     ]
    }
   ],
   "source": [
    "# knn과 logistic과 비교 - cancer데이터\n",
    "\n",
    "from sklearn.neighbors import KNeighborsClassifier\n",
    "from sklearn.linear_model import LogisticRegression\n",
    "\n",
    "knn = KNeighborsClassifier(n_neighbors=3).fit(X_train, y_train)\n",
    "logr = LogisticRegression(max_iter=3000).fit(X_train, y_train)\n",
    "\n",
    "#knn분류기\n",
    "print(\"knn\")\n",
    "print(\"훈련 세트 점수: {:.3f}\".format(knn.score(X_train, y_train)))\n",
    "print(\"테스트 세트 점수: {:.3f}\".format(knn.score(X_test, y_test)))\n",
    "\n",
    "#로지스틱\n",
    "print(\"\\nlogistic\")\n",
    "print(\"훈련 세트 점수: {:.3f}\".format(logr.score(X_train, y_train)))\n",
    "print(\"테스트 세트 점수: {:.3f}\".format(logr.score(X_test, y_test)))"
   ]
  },
  {
   "cell_type": "markdown",
   "metadata": {},
   "source": [
    "knn과 gaussianNB가 비슷하고 이들보다는 로지스틱회귀의 결과가 더 좋음"
   ]
  },
  {
   "cell_type": "code",
   "execution_count": 11,
   "metadata": {},
   "outputs": [
    {
     "data": {
      "image/png": "[encoded data removed]",
      "text/plain": [
       "<Figure size 720x216 with 3 Axes>"
      ]
     },
     "metadata": {},
     "output_type": "display_data"
    }
   ],
   "source": [
    "##위의 결과를 플롯으로\n",
    "\n",
    "fig, axes = plt.subplots(1,3,figsize=(10,3))\n",
    "\n",
    "for ax, model in zip(axes, [knn, logr, nb]):\n",
    "    mglearn.discrete_scatter(X[:,0],X[:,1],y,ax=ax)\n",
    "    mglearn.plots.plot_2d_classification(model, X, fill=True, alpha=.5, ax=ax)\n",
    "    ax.set_title(model.__class__.__name__)"
   ]
  },
  {
   "cell_type": "code",
   "execution_count": 12,
   "metadata": {},
   "outputs": [
    {
     "name": "stdout",
     "output_type": "stream",
     "text": [
      "Gaussian\n",
      "테스트 세트 점수: 0.840\n",
      "\n",
      "knn\n",
      "테스트 세트 점수: 0.920\n",
      "\n",
      "logistic\n",
      "테스트 세트 점수: 0.880\n"
     ]
    }
   ],
   "source": [
    "# make_blobs 데이터  0- sklearn의 \n",
    "import sklearn\n",
    "X, y =  sklearn.datasets.make_blobs(random_state=0)\n",
    "\n",
    "X_train, X_test, y_train, y_test = train_test_split(X,y,random_state=0)\n",
    "\n",
    "nb = GaussianNB().fit(X_train,y_train)\n",
    "knn = KNeighborsClassifier(n_neighbors=3).fit(X_train, y_train)\n",
    "logr = LogisticRegression(max_iter=3000).fit(X_train, y_train)\n",
    "\n",
    "#가우시안\n",
    "print(\"Gaussian\")\n",
    "print(\"테스트 세트 점수: {:.3f}\".format(nb.score(X_test, y_test)))\n",
    "\n",
    "#knn분류기\n",
    "print(\"\\nknn\")\n",
    "print(\"테스트 세트 점수: {:.3f}\".format(knn.score(X_test, y_test)))\n",
    "\n",
    "#로지스틱\n",
    "print(\"\\nlogistic\")\n",
    "print(\"테스트 세트 점수: {:.3f}\".format(logr.score(X_test, y_test)))\n"
   ]
  },
  {
   "cell_type": "code",
   "execution_count": 10,
   "metadata": {
    "scrolled": true
   },
   "outputs": [
    {
     "data": {
      "image/png": "[encoded data removed]",
      "text/plain": [
       "<Figure size 720x216 with 3 Axes>"
      ]
     },
     "metadata": {},
     "output_type": "display_data"
    }
   ],
   "source": [
    "fig, axes = plt.subplots(1,3,figsize=(10,3))\n",
    "\n",
    "for ax, model in zip(axes, [knn, logr, nb]):\n",
    "    mglearn.discrete_scatter(X[:,0],X[:,1],y,ax=ax)\n",
    "    mglearn.plots.plot_2d_classification(model, X, fill=True, alpha=.5, ax=ax)\n",
    "    ax.set_title(model.__class__.__name__)"
   ]
  },
  {
   "cell_type": "markdown",
   "metadata": {},
   "source": [
    "make blobs 데이터로 분류를 해봄 \n",
    "\n",
    "knn > logistic > guassian 순으로 성능이 좋음..."
   ]
  }
 ],
 "metadata": {
  "kernelspec": {
   "display_name": "Python 3",
   "language": "python",
   "name": "python3"
  }
 },
 "nbformat": 4,
 "nbformat_minor": 4
}
