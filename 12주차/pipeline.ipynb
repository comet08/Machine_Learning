{
 "cells": [
  {
   "cell_type": "markdown",
   "id": "e5fbfcbd",
   "metadata": {},
   "source": [
    "# Pipeline"
   ]
  },
  {
   "cell_type": "code",
   "execution_count": 6,
   "id": "bfed89af",
   "metadata": {},
   "outputs": [],
   "source": [
    "import numpy as np\n",
    "import pandas as pd\n",
    "import matplotlib\n",
    "import matplotlib.pyplot as plt\n",
    "from sklearn.model_selection import train_test_split\n",
    "\n",
    "#전처리\n",
    "from sklearn.preprocessing import StandardScaler\n",
    "from sklearn.preprocessing import MinMaxScaler\n",
    "\n",
    "from sklearn.preprocessing import OneHotEncoder\n",
    "from sklearn.compose import make_column_transformer\n",
    "from sklearn.preprocessing import KBinsDiscretizer\n",
    "\n",
    "# 매개변수 그리드\n",
    "from sklearn.model_selection import GridSearchCV\n",
    "\n",
    "#\n",
    "from sklearn.metrics import f1_score\n",
    "from sklearn.metrics import make_scorer\n",
    "\n",
    "f1_scorer = make_scorer(f1_score, pos_label=\"Y\")\n",
    "\n",
    "#파이프라인\n",
    "from sklearn.pipeline import Pipeline\n",
    "from sklearn.pipeline import make_pipeline\n",
    "\n",
    "# 성능 평가\n",
    "from sklearn.metrics import classification_report\n",
    "from sklearn.metrics import confusion_matrix\n",
    "\n",
    "# model\n",
    "from sklearn.svm import SVC\n",
    "from sklearn.svm import SVR\n",
    "from sklearn.ensemble import RandomForestClassifier\n",
    "from xgboost import XGBClassifier\n",
    "from xgboost import XGBRegressor\n",
    "from sklearn.linear_model import LogisticRegression\n",
    "from sklearn.neural_network import MLPClassifier"
   ]
  },
  {
   "cell_type": "code",
   "execution_count": 7,
   "id": "7e384937",
   "metadata": {},
   "outputs": [
    {
     "name": "stdout",
     "output_type": "stream",
     "text": [
      "테스트 점수 :  0.972027972027972\n"
     ]
    }
   ],
   "source": [
    "pipe = Pipeline([(\"scaler\", MinMaxScaler()), (\"svm\", SVC())])\n",
    "\n",
    "from sklearn.datasets import load_breast_cancer\n",
    "\n",
    "cancer = load_breast_cancer()\n",
    "\n",
    "X_train, X_test, y_train, y_test = train_test_split(cancer.data, cancer.target,\n",
    "                                                   random_state=0)\n",
    "\n",
    "pipe.fit(X_train, y_train)\n",
    "print(\"테스트 점수 : \", pipe.score(X_test,y_test))"
   ]
  },
  {
   "cell_type": "markdown",
   "id": "74f77532",
   "metadata": {},
   "source": [
    "파이프라인에 스케일링 + 적용까지를 합쳐서 코드를 줄인다"
   ]
  },
  {
   "cell_type": "code",
   "execution_count": 9,
   "id": "b0bf7635",
   "metadata": {},
   "outputs": [
    {
     "data": {
      "text/plain": [
       "GridSearchCV(cv=5,\n",
       "             estimator=Pipeline(steps=[('scaler', MinMaxScaler()),\n",
       "                                       ('svm', SVC())]),\n",
       "             param_grid={'svm__C': [0.001, 0.01, 0.1, 1, 10, 100],\n",
       "                         'svm__gamma': [0.001, 0.01, 0.1, 1, 10, 100]})"
      ]
     },
     "execution_count": 9,
     "metadata": {},
     "output_type": "execute_result"
    }
   ],
   "source": [
    "param_grid = {'svm__C' : [0.001, 0.01, 0.1, 1, 10, 100],\n",
    "             'svm__gamma' : [0.001, 0.01, 0.1, 1, 10, 100]}\n",
    "\n",
    "grid  = GridSearchCV(pipe, param_grid=param_grid, cv=5)\n",
    "grid.fit(X_train, y_train)\n",
    "\n",
    "# 파이프 + 그리드서치\n",
    "# 딕셔너리 키를 단계랑 맞춰서 써야한다"
   ]
  },
  {
   "cell_type": "code",
   "execution_count": 11,
   "id": "1c10429b",
   "metadata": {},
   "outputs": [
    {
     "name": "stdout",
     "output_type": "stream",
     "text": [
      "테스트 세트 점수 :  0.972027972027972\n",
      "최적 매개변수  {'svm__C': 1, 'svm__gamma': 1}\n",
      "최적 교차 검증 점수  0.9812311901504789\n",
      "최적 성능 모델  Pipeline(steps=[('scaler', MinMaxScaler()), ('svm', SVC(C=1, gamma=1))])\n"
     ]
    }
   ],
   "source": [
    "print(\"테스트 세트 점수 : \", grid.score(X_test, y_test))\n",
    "print(\"최적 매개변수 \", grid.best_params_)\n",
    "print(\"최적 교차 검증 점수 \", grid.best_score_)\n",
    "print(\"최적 성능 모델 \", grid.best_estimator_)\n",
    "\n",
    "# 결과! default값이 최적임..."
   ]
  },
  {
   "cell_type": "code",
   "execution_count": 14,
   "id": "5492f31f",
   "metadata": {},
   "outputs": [
    {
     "data": {
      "image/png": "[encoded data removed]",
      "text/plain": [
       "<Figure size 1080x576 with 2 Axes>"
      ]
     },
     "metadata": {},
     "output_type": "display_data"
    }
   ],
   "source": [
    "import mglearn\n",
    "mglearn.plots.plot_proper_processing()"
   ]
  },
  {
   "cell_type": "markdown",
   "id": "8d6d7c05",
   "metadata": {},
   "source": [
    "정보누설!\n",
    "\n",
    "- 훈련/테스트로 분할하지 않고 모든 데이터를 교차 검증에 적용한다던가\n",
    "- 훈련/검증을 함께 스케일링을 적용한다던가..."
   ]
  },
  {
   "cell_type": "code",
   "execution_count": 18,
   "id": "dbf70c83",
   "metadata": {},
   "outputs": [
    {
     "name": "stdout",
     "output_type": "stream",
     "text": [
      "단계 :  [('minmaxscaler', MinMaxScaler()), ('svc', SVC(C=100))]\n"
     ]
    }
   ],
   "source": [
    "pipes = make_pipeline(MinMaxScaler(), SVC(C=100))\n",
    "\n",
    "print(\"단계 : \", pipes.steps)\n",
    "\n",
    "#알아서 바꿔준다!"
   ]
  },
  {
   "cell_type": "code",
   "execution_count": 21,
   "id": "e7e4765d",
   "metadata": {
    "scrolled": true
   },
   "outputs": [
    {
     "name": "stdout",
     "output_type": "stream",
     "text": [
      "단계 :  [('standardscaler-1', StandardScaler()), ('pca', PCA(n_components=2)), ('standardscaler-2', StandardScaler())]\n"
     ]
    }
   ],
   "source": [
    "from sklearn.decomposition import PCA\n",
    "\n",
    "pipe_pca = make_pipeline(StandardScaler(), PCA(n_components=2), StandardScaler())\n",
    "\n",
    "print(\"단계 : \", pipe_pca.steps)\n",
    "\n",
    "# 같은 것을 여러번 쓰면 뒤에 번호를 붙여서 나온다"
   ]
  },
  {
   "cell_type": "code",
   "execution_count": 23,
   "id": "dff6545a",
   "metadata": {},
   "outputs": [
    {
     "name": "stdout",
     "output_type": "stream",
     "text": [
      "components.shape :  (2, 30)\n"
     ]
    }
   ],
   "source": [
    "pipe_pca.fit(cancer.data)\n",
    "components = pipe_pca.named_steps[\"pca\"].components_\n",
    "\n",
    "print(\"components.shape : \", components.shape)"
   ]
  },
  {
   "cell_type": "markdown",
   "id": "09aa3521",
   "metadata": {},
   "source": [
    "단계의 (여기에서는 pca) 속성에 접근하는법\n",
    "\n",
    "// named_steps[\"이름\"] 으로 접근 가능하다"
   ]
  },
  {
   "cell_type": "code",
   "execution_count": 25,
   "id": "6efdc924",
   "metadata": {},
   "outputs": [
    {
     "data": {
      "text/plain": [
       "GridSearchCV(cv=5,\n",
       "             estimator=Pipeline(steps=[('standardscaler', StandardScaler()),\n",
       "                                       ('logisticregression',\n",
       "                                        LogisticRegression(max_iter=1000))]),\n",
       "             param_grid={'logisticregression__C': [0.01, 0.1, 1, 10, 100]})"
      ]
     },
     "execution_count": 25,
     "metadata": {},
     "output_type": "execute_result"
    }
   ],
   "source": [
    "param_grid = {\n",
    "    'logisticregression__C' : [0.01, 0.1, 1, 10, 100]\n",
    "}\n",
    "\n",
    "pipe = make_pipeline(StandardScaler(), LogisticRegression(max_iter=1000))\n",
    "\n",
    "grid = GridSearchCV(pipe, param_grid, cv=5)\n",
    "grid.fit(X_train, y_train)"
   ]
  },
  {
   "cell_type": "code",
   "execution_count": 26,
   "id": "8e8c0d5e",
   "metadata": {},
   "outputs": [
    {
     "name": "stdout",
     "output_type": "stream",
     "text": [
      "테스트 세트 점수 :  0.958041958041958\n",
      "최적 매개변수  {'logisticregression__C': 1}\n",
      "최적 교차 검증 점수  0.9812038303693571\n",
      "최적 성능 모델  Pipeline(steps=[('standardscaler', StandardScaler()),\n",
      "                ('logisticregression', LogisticRegression(C=1, max_iter=1000))])\n"
     ]
    }
   ],
   "source": [
    "print(\"테스트 세트 점수 : \", grid.score(X_test, y_test))\n",
    "print(\"최적 매개변수 \", grid.best_params_)\n",
    "print(\"최적 교차 검증 점수 \", grid.best_score_)\n",
    "print(\"최적 성능 모델 \", grid.best_estimator_)\n"
   ]
  },
  {
   "cell_type": "code",
   "execution_count": 28,
   "id": "ab422570",
   "metadata": {},
   "outputs": [
    {
     "name": "stdout",
     "output_type": "stream",
     "text": [
      "로지스틱 회귀 단계 :  LogisticRegression(C=1, max_iter=1000)\n"
     ]
    }
   ],
   "source": [
    "print(\"로지스틱 회귀 단계 : \", grid.best_estimator_.named_steps[\"logisticregression\"])"
   ]
  },
  {
   "cell_type": "code",
   "execution_count": 29,
   "id": "e182d8ab",
   "metadata": {},
   "outputs": [
    {
     "name": "stdout",
     "output_type": "stream",
     "text": [
      "로지스틱 회귀 계수 :  [[-0.29792942 -0.58056355 -0.3109406  -0.377129   -0.11984232  0.42855478\n",
      "  -0.71131106 -0.85371164 -0.46688191  0.11762548 -1.38262136  0.0899184\n",
      "  -0.94778563 -0.94686238  0.18575731  0.99305313  0.11090349 -0.3458275\n",
      "   0.20290919  0.80470317 -0.91626377 -0.91726667 -0.8159834  -0.86539197\n",
      "  -0.45539191  0.10347391 -0.83009341 -0.98445173 -0.5920036  -0.61086989]]\n"
     ]
    }
   ],
   "source": [
    "print(\"로지스틱 회귀 계수 : \", grid.best_estimator_.named_steps[\"logisticregression\"].coef_)"
   ]
  },
  {
   "cell_type": "markdown",
   "id": "8afb1a35",
   "metadata": {},
   "source": [
    "전처리 매개변수를 위한 그리드서치"
   ]
  },
  {
   "cell_type": "code",
   "execution_count": 31,
   "id": "ea83844a",
   "metadata": {},
   "outputs": [
    {
     "data": {
      "text/plain": [
       "GridSearchCV(cv=5,\n",
       "             estimator=Pipeline(steps=[('standardscaler', StandardScaler()),\n",
       "                                       ('polynomialfeatures',\n",
       "                                        PolynomialFeatures()),\n",
       "                                       ('ridge', Ridge())]),\n",
       "             param_grid={'polynomialfeatures__degree': [1, 2, 3],\n",
       "                         'ridge__alpha': [0.001, 0.01, 0.1, 1, 10, 100]})"
      ]
     },
     "execution_count": 31,
     "metadata": {},
     "output_type": "execute_result"
    }
   ],
   "source": [
    "from sklearn.datasets import load_boston\n",
    "from sklearn.linear_model import Ridge\n",
    "from sklearn.preprocessing import PolynomialFeatures\n",
    "\n",
    "boston = load_boston()\n",
    "X_train, X_test, y_train, y_test = train_test_split(boston.data, boston.target,\n",
    "                                                   random_state=0)\n",
    "\n",
    "\n",
    "pipe = make_pipeline(\n",
    "    StandardScaler(),\n",
    "    PolynomialFeatures(),\n",
    "    Ridge()\n",
    ")\n",
    "\n",
    "param_grid = {'polynomialfeatures__degree' : [1,2,3],\n",
    "             'ridge__alpha':[0.001, 0.01, 0.1, 1, 10, 100]}\n",
    "\n",
    "# 다항식 특성 생성 차수 설정과\n",
    "# 릿지의 알파값 조정\n",
    "\n",
    "grid = GridSearchCV(pipe, param_grid, cv=5)\n",
    "grid.fit(X_train, y_train)"
   ]
  },
  {
   "cell_type": "code",
   "execution_count": 34,
   "id": "65aff84f",
   "metadata": {},
   "outputs": [
    {
     "name": "stdout",
     "output_type": "stream",
     "text": [
      "테스트 세트 점수 :  0.7683045464100136\n",
      "최적 매개변수  {'polynomialfeatures__degree': 2, 'ridge__alpha': 10}\n",
      "최적 교차 검증 점수  0.8287261407694715\n",
      "최적 성능 모델  Pipeline(steps=[('standardscaler', StandardScaler()),\n",
      "                ('polynomialfeatures', PolynomialFeatures()),\n",
      "                ('ridge', Ridge(alpha=10))])\n"
     ]
    }
   ],
   "source": [
    "print(\"테스트 세트 점수 : \", grid.score(X_test, y_test))\n",
    "print(\"최적 매개변수 \", grid.best_params_)\n",
    "print(\"최적 교차 검증 점수 \", grid.best_score_)\n",
    "print(\"최적 성능 모델 \", grid.best_estimator_)"
   ]
  },
  {
   "cell_type": "code",
   "execution_count": 33,
   "id": "ae9db274",
   "metadata": {},
   "outputs": [
    {
     "data": {
      "text/plain": [
       "<matplotlib.collections.PolyCollection at 0x184da207eb0>"
      ]
     },
     "execution_count": 33,
     "metadata": {},
     "output_type": "execute_result"
    },
    {
     "data": {
      "image/png": "[encoded data removed]",
      "text/plain": [
       "<Figure size 432x288 with 1 Axes>"
      ]
     },
     "metadata": {
      "needs_background": "light"
     },
     "output_type": "display_data"
    }
   ],
   "source": [
    "mglearn.tools.heatmap(grid.cv_results_['mean_test_score'].reshape(3,-1),\n",
    "                     xlabel = 'ridge__alpha', ylabel='polynomialfeatures__degree',\n",
    "                     xticklabels=param_grid['ridge__alpha'],\n",
    "                      yticklabels = param_grid['polynomialfeatures__degree']\n",
    "                     )\n",
    "\n",
    "# 위의 결과를 히트맵으로 확인\n",
    "# degree = 2일때 가장 효과가 좋고 3차항은 -값이 존재하는 정도로\n",
    "# 매우 나쁜 결정계수를 가진다"
   ]
  },
  {
   "cell_type": "code",
   "execution_count": 35,
   "id": "670a98cd",
   "metadata": {},
   "outputs": [
    {
     "data": {
      "text/plain": [
       "GridSearchCV(cv=5,\n",
       "             estimator=Pipeline(steps=[('standardscaler', StandardScaler()),\n",
       "                                       ('ridge', Ridge())]),\n",
       "             param_grid={'ridge__alpha': [0.001, 0.01, 0.1, 1, 10, 100]})"
      ]
     },
     "execution_count": 35,
     "metadata": {},
     "output_type": "execute_result"
    }
   ],
   "source": [
    "pipe = make_pipeline(\n",
    "    StandardScaler(),\n",
    "    Ridge()\n",
    ")\n",
    "\n",
    "param_grid = {\n",
    "             'ridge__alpha':[0.001, 0.01, 0.1, 1, 10, 100]}\n",
    "\n",
    "# 릿지의 알파값 조정\n",
    "\n",
    "grid = GridSearchCV(pipe, param_grid, cv=5)\n",
    "grid.fit(X_train, y_train)"
   ]
  },
  {
   "cell_type": "code",
   "execution_count": 36,
   "id": "faeaf293",
   "metadata": {},
   "outputs": [
    {
     "name": "stdout",
     "output_type": "stream",
     "text": [
      "테스트 세트 점수 :  0.6272671927504456\n",
      "최적 매개변수  {'ridge__alpha': 10}\n",
      "최적 교차 검증 점수  0.7233259452718361\n",
      "최적 성능 모델  Pipeline(steps=[('standardscaler', StandardScaler()),\n",
      "                ('ridge', Ridge(alpha=10))])\n"
     ]
    }
   ],
   "source": [
    "print(\"테스트 세트 점수 : \", grid.score(X_test, y_test))\n",
    "print(\"최적 매개변수 \", grid.best_params_)\n",
    "print(\"최적 교차 검증 점수 \", grid.best_score_)\n",
    "print(\"최적 성능 모델 \", grid.best_estimator_)\n",
    "\n",
    "# 다항 특성 없을때의 결과\n",
    "# 0.76 - 0.62로 점수 떨어짐...."
   ]
  },
  {
   "cell_type": "code",
   "execution_count": 47,
   "id": "79d0efee",
   "metadata": {},
   "outputs": [],
   "source": [
    "pipe = Pipeline([('preprocessing', StandardScaler()),\n",
    "                ('classifier', SVC())])\n",
    "\n",
    "param_grid = [\n",
    "    {'classifier' : [SVC()], 'preprocessing': [StandardScaler()],\n",
    "    'classifier__gamma' : [0.001, 0.01, 0.1, 1, 10, 100],\n",
    "     'classifier__C' : [0.001, 0.01, 0.1, 1, 10, 100]\n",
    "    }\n",
    "    ,\n",
    "    {\n",
    "        'classifier' : [RandomForestClassifier()],\n",
    "        'preprocessing' : [None], 'classifier__max_features' : [1,2,3]\n",
    "    }\n",
    "]\n",
    "\n",
    "# SVC + randomforest 각각을 담은 \n",
    "# 매개변수 그리드\n",
    "\n",
    "# SVC는 standardscaler적용 + c와 gamma\n",
    "# randomforest는 max_feautures로"
   ]
  },
  {
   "cell_type": "code",
   "execution_count": 48,
   "id": "725cde5a",
   "metadata": {},
   "outputs": [],
   "source": [
    "X_train, X_test, y_train, y_test = train_test_split(cancer.data,\n",
    "                                                   cancer.target,\n",
    "                                                   random_state=0)\n",
    "\n",
    "grid = GridSearchCV(pipe, param_grid, cv=5).fit(X_train, y_train)"
   ]
  },
  {
   "cell_type": "code",
   "execution_count": 49,
   "id": "d2b8a5a7",
   "metadata": {},
   "outputs": [
    {
     "name": "stdout",
     "output_type": "stream",
     "text": [
      "테스트 세트 점수 :  0.9790209790209791\n",
      "최적 매개변수  {'classifier': SVC(C=10, gamma=0.01), 'classifier__C': 10, 'classifier__gamma': 0.01, 'preprocessing': StandardScaler()}\n",
      "최적 교차 검증 점수  0.9858823529411765\n",
      "최적 성능 모델  Pipeline(steps=[('preprocessing', StandardScaler()),\n",
      "                ('classifier', SVC(C=10, gamma=0.01))])\n"
     ]
    }
   ],
   "source": [
    "print(\"테스트 세트 점수 : \", grid.score(X_test, y_test))\n",
    "print(\"최적 매개변수 \", grid.best_params_)\n",
    "print(\"최적 교차 검증 점수 \", grid.best_score_)\n",
    "print(\"최적 성능 모델 \", grid.best_estimator_)"
   ]
  },
  {
   "cell_type": "markdown",
   "id": "ce6c8482",
   "metadata": {},
   "source": [
    "랜덤포레스트보다 svc의 성능이 더 좋게 나온것을 확인할 수 있다."
   ]
  },
  {
   "cell_type": "code",
   "execution_count": 65,
   "id": "ab2ecf86",
   "metadata": {},
   "outputs": [
    {
     "data": {
      "text/html": [
       "<div>\n",
       "<style scoped>\n",
       "    .dataframe tbody tr th:only-of-type {\n",
       "        vertical-align: middle;\n",
       "    }\n",
       "\n",
       "    .dataframe tbody tr th {\n",
       "        vertical-align: top;\n",
       "    }\n",
       "\n",
       "    .dataframe thead th {\n",
       "        text-align: right;\n",
       "    }\n",
       "</style>\n",
       "<table border=\"1\" class=\"dataframe\">\n",
       "  <thead>\n",
       "    <tr style=\"text-align: right;\">\n",
       "      <th></th>\n",
       "      <th>mean_fit_time</th>\n",
       "      <th>std_fit_time</th>\n",
       "      <th>mean_score_time</th>\n",
       "      <th>std_score_time</th>\n",
       "      <th>param_classifier</th>\n",
       "      <th>param_classifier__C</th>\n",
       "      <th>param_classifier__gamma</th>\n",
       "      <th>param_preprocessing</th>\n",
       "      <th>param_classifier__max_features</th>\n",
       "      <th>params</th>\n",
       "      <th>split0_test_score</th>\n",
       "      <th>split1_test_score</th>\n",
       "      <th>split2_test_score</th>\n",
       "      <th>split3_test_score</th>\n",
       "      <th>split4_test_score</th>\n",
       "      <th>mean_test_score</th>\n",
       "      <th>std_test_score</th>\n",
       "      <th>rank_test_score</th>\n",
       "    </tr>\n",
       "  </thead>\n",
       "  <tbody>\n",
       "    <tr>\n",
       "      <th>0</th>\n",
       "      <td>0.009197</td>\n",
       "      <td>1.944406e-03</td>\n",
       "      <td>0.003800</td>\n",
       "      <td>0.000402</td>\n",
       "      <td>SVC(C=10, gamma=0.01)</td>\n",
       "      <td>0.001</td>\n",
       "      <td>0.001</td>\n",
       "      <td>StandardScaler()</td>\n",
       "      <td>NaN</td>\n",
       "      <td>{'classifier': SVC(C=10, gamma=0.01), 'classif...</td>\n",
       "      <td>0.627907</td>\n",
       "      <td>0.635294</td>\n",
       "      <td>0.623529</td>\n",
       "      <td>0.623529</td>\n",
       "      <td>0.623529</td>\n",
       "      <td>0.626758</td>\n",
       "      <td>0.004593</td>\n",
       "      <td>19</td>\n",
       "    </tr>\n",
       "    <tr>\n",
       "      <th>1</th>\n",
       "      <td>0.006997</td>\n",
       "      <td>1.533311e-06</td>\n",
       "      <td>0.003400</td>\n",
       "      <td>0.000489</td>\n",
       "      <td>SVC(C=10, gamma=0.01)</td>\n",
       "      <td>0.001</td>\n",
       "      <td>0.01</td>\n",
       "      <td>StandardScaler()</td>\n",
       "      <td>NaN</td>\n",
       "      <td>{'classifier': SVC(C=10, gamma=0.01), 'classif...</td>\n",
       "      <td>0.627907</td>\n",
       "      <td>0.635294</td>\n",
       "      <td>0.623529</td>\n",
       "      <td>0.623529</td>\n",
       "      <td>0.623529</td>\n",
       "      <td>0.626758</td>\n",
       "      <td>0.004593</td>\n",
       "      <td>19</td>\n",
       "    </tr>\n",
       "    <tr>\n",
       "      <th>2</th>\n",
       "      <td>0.006997</td>\n",
       "      <td>3.989506e-07</td>\n",
       "      <td>0.004000</td>\n",
       "      <td>0.000001</td>\n",
       "      <td>SVC(C=10, gamma=0.01)</td>\n",
       "      <td>0.001</td>\n",
       "      <td>0.1</td>\n",
       "      <td>StandardScaler()</td>\n",
       "      <td>NaN</td>\n",
       "      <td>{'classifier': SVC(C=10, gamma=0.01), 'classif...</td>\n",
       "      <td>0.627907</td>\n",
       "      <td>0.635294</td>\n",
       "      <td>0.623529</td>\n",
       "      <td>0.623529</td>\n",
       "      <td>0.623529</td>\n",
       "      <td>0.626758</td>\n",
       "      <td>0.004593</td>\n",
       "      <td>19</td>\n",
       "    </tr>\n",
       "    <tr>\n",
       "      <th>3</th>\n",
       "      <td>0.006798</td>\n",
       "      <td>3.999710e-04</td>\n",
       "      <td>0.003801</td>\n",
       "      <td>0.000400</td>\n",
       "      <td>SVC(C=10, gamma=0.01)</td>\n",
       "      <td>0.001</td>\n",
       "      <td>1</td>\n",
       "      <td>StandardScaler()</td>\n",
       "      <td>NaN</td>\n",
       "      <td>{'classifier': SVC(C=10, gamma=0.01), 'classif...</td>\n",
       "      <td>0.627907</td>\n",
       "      <td>0.635294</td>\n",
       "      <td>0.623529</td>\n",
       "      <td>0.623529</td>\n",
       "      <td>0.623529</td>\n",
       "      <td>0.626758</td>\n",
       "      <td>0.004593</td>\n",
       "      <td>19</td>\n",
       "    </tr>\n",
       "    <tr>\n",
       "      <th>4</th>\n",
       "      <td>0.009189</td>\n",
       "      <td>4.038978e-04</td>\n",
       "      <td>0.004608</td>\n",
       "      <td>0.000497</td>\n",
       "      <td>SVC(C=10, gamma=0.01)</td>\n",
       "      <td>0.001</td>\n",
       "      <td>10</td>\n",
       "      <td>StandardScaler()</td>\n",
       "      <td>NaN</td>\n",
       "      <td>{'classifier': SVC(C=10, gamma=0.01), 'classif...</td>\n",
       "      <td>0.627907</td>\n",
       "      <td>0.635294</td>\n",
       "      <td>0.623529</td>\n",
       "      <td>0.623529</td>\n",
       "      <td>0.623529</td>\n",
       "      <td>0.626758</td>\n",
       "      <td>0.004593</td>\n",
       "      <td>19</td>\n",
       "    </tr>\n",
       "  </tbody>\n",
       "</table>\n",
       "</div>"
      ],
      "text/plain": [
       "   mean_fit_time  std_fit_time  mean_score_time  std_score_time  \\\n",
       "0       0.009197  1.944406e-03         0.003800        0.000402   \n",
       "1       0.006997  1.533311e-06         0.003400        0.000489   \n",
       "2       0.006997  3.989506e-07         0.004000        0.000001   \n",
       "3       0.006798  3.999710e-04         0.003801        0.000400   \n",
       "4       0.009189  4.038978e-04         0.004608        0.000497   \n",
       "\n",
       "        param_classifier param_classifier__C param_classifier__gamma  \\\n",
       "0  SVC(C=10, gamma=0.01)               0.001                   0.001   \n",
       "1  SVC(C=10, gamma=0.01)               0.001                    0.01   \n",
       "2  SVC(C=10, gamma=0.01)               0.001                     0.1   \n",
       "3  SVC(C=10, gamma=0.01)               0.001                       1   \n",
       "4  SVC(C=10, gamma=0.01)               0.001                      10   \n",
       "\n",
       "  param_preprocessing param_classifier__max_features  \\\n",
       "0    StandardScaler()                            NaN   \n",
       "1    StandardScaler()                            NaN   \n",
       "2    StandardScaler()                            NaN   \n",
       "3    StandardScaler()                            NaN   \n",
       "4    StandardScaler()                            NaN   \n",
       "\n",
       "                                              params  split0_test_score  \\\n",
       "0  {'classifier': SVC(C=10, gamma=0.01), 'classif...           0.627907   \n",
       "1  {'classifier': SVC(C=10, gamma=0.01), 'classif...           0.627907   \n",
       "2  {'classifier': SVC(C=10, gamma=0.01), 'classif...           0.627907   \n",
       "3  {'classifier': SVC(C=10, gamma=0.01), 'classif...           0.627907   \n",
       "4  {'classifier': SVC(C=10, gamma=0.01), 'classif...           0.627907   \n",
       "\n",
       "   split1_test_score  split2_test_score  split3_test_score  split4_test_score  \\\n",
       "0           0.635294           0.623529           0.623529           0.623529   \n",
       "1           0.635294           0.623529           0.623529           0.623529   \n",
       "2           0.635294           0.623529           0.623529           0.623529   \n",
       "3           0.635294           0.623529           0.623529           0.623529   \n",
       "4           0.635294           0.623529           0.623529           0.623529   \n",
       "\n",
       "   mean_test_score  std_test_score  rank_test_score  \n",
       "0         0.626758        0.004593               19  \n",
       "1         0.626758        0.004593               19  \n",
       "2         0.626758        0.004593               19  \n",
       "3         0.626758        0.004593               19  \n",
       "4         0.626758        0.004593               19  "
      ]
     },
     "metadata": {},
     "output_type": "display_data"
    },
    {
     "data": {
      "text/html": [
       "<div>\n",
       "<style scoped>\n",
       "    .dataframe tbody tr th:only-of-type {\n",
       "        vertical-align: middle;\n",
       "    }\n",
       "\n",
       "    .dataframe tbody tr th {\n",
       "        vertical-align: top;\n",
       "    }\n",
       "\n",
       "    .dataframe thead th {\n",
       "        text-align: right;\n",
       "    }\n",
       "</style>\n",
       "<table border=\"1\" class=\"dataframe\">\n",
       "  <thead>\n",
       "    <tr style=\"text-align: right;\">\n",
       "      <th></th>\n",
       "      <th>mean_fit_time</th>\n",
       "      <th>std_fit_time</th>\n",
       "      <th>mean_score_time</th>\n",
       "      <th>std_score_time</th>\n",
       "      <th>param_classifier</th>\n",
       "      <th>param_classifier__C</th>\n",
       "      <th>param_classifier__gamma</th>\n",
       "      <th>param_preprocessing</th>\n",
       "      <th>param_classifier__max_features</th>\n",
       "      <th>params</th>\n",
       "      <th>split0_test_score</th>\n",
       "      <th>split1_test_score</th>\n",
       "      <th>split2_test_score</th>\n",
       "      <th>split3_test_score</th>\n",
       "      <th>split4_test_score</th>\n",
       "      <th>mean_test_score</th>\n",
       "      <th>std_test_score</th>\n",
       "      <th>rank_test_score</th>\n",
       "    </tr>\n",
       "  </thead>\n",
       "  <tbody>\n",
       "    <tr>\n",
       "      <th>36</th>\n",
       "      <td>0.200007</td>\n",
       "      <td>0.039477</td>\n",
       "      <td>0.014392</td>\n",
       "      <td>0.002402</td>\n",
       "      <td>RandomForestClassifier()</td>\n",
       "      <td>NaN</td>\n",
       "      <td>NaN</td>\n",
       "      <td>None</td>\n",
       "      <td>1</td>\n",
       "      <td>{'classifier': RandomForestClassifier(), 'clas...</td>\n",
       "      <td>0.918605</td>\n",
       "      <td>0.929412</td>\n",
       "      <td>0.929412</td>\n",
       "      <td>0.964706</td>\n",
       "      <td>0.988235</td>\n",
       "      <td>0.946074</td>\n",
       "      <td>0.026209</td>\n",
       "      <td>9</td>\n",
       "    </tr>\n",
       "    <tr>\n",
       "      <th>37</th>\n",
       "      <td>0.244656</td>\n",
       "      <td>0.097889</td>\n",
       "      <td>0.014799</td>\n",
       "      <td>0.001164</td>\n",
       "      <td>RandomForestClassifier()</td>\n",
       "      <td>NaN</td>\n",
       "      <td>NaN</td>\n",
       "      <td>None</td>\n",
       "      <td>2</td>\n",
       "      <td>{'classifier': RandomForestClassifier(), 'clas...</td>\n",
       "      <td>0.953488</td>\n",
       "      <td>0.952941</td>\n",
       "      <td>0.917647</td>\n",
       "      <td>0.964706</td>\n",
       "      <td>0.988235</td>\n",
       "      <td>0.955404</td>\n",
       "      <td>0.022802</td>\n",
       "      <td>6</td>\n",
       "    </tr>\n",
       "    <tr>\n",
       "      <th>38</th>\n",
       "      <td>0.200273</td>\n",
       "      <td>0.013850</td>\n",
       "      <td>0.013407</td>\n",
       "      <td>0.002869</td>\n",
       "      <td>RandomForestClassifier()</td>\n",
       "      <td>NaN</td>\n",
       "      <td>NaN</td>\n",
       "      <td>None</td>\n",
       "      <td>3</td>\n",
       "      <td>{'classifier': RandomForestClassifier(), 'clas...</td>\n",
       "      <td>0.953488</td>\n",
       "      <td>0.964706</td>\n",
       "      <td>0.929412</td>\n",
       "      <td>0.952941</td>\n",
       "      <td>0.976471</td>\n",
       "      <td>0.955404</td>\n",
       "      <td>0.015593</td>\n",
       "      <td>6</td>\n",
       "    </tr>\n",
       "  </tbody>\n",
       "</table>\n",
       "</div>"
      ],
      "text/plain": [
       "    mean_fit_time  std_fit_time  mean_score_time  std_score_time  \\\n",
       "36       0.200007      0.039477         0.014392        0.002402   \n",
       "37       0.244656      0.097889         0.014799        0.001164   \n",
       "38       0.200273      0.013850         0.013407        0.002869   \n",
       "\n",
       "            param_classifier param_classifier__C param_classifier__gamma  \\\n",
       "36  RandomForestClassifier()                 NaN                     NaN   \n",
       "37  RandomForestClassifier()                 NaN                     NaN   \n",
       "38  RandomForestClassifier()                 NaN                     NaN   \n",
       "\n",
       "   param_preprocessing param_classifier__max_features  \\\n",
       "36                None                              1   \n",
       "37                None                              2   \n",
       "38                None                              3   \n",
       "\n",
       "                                               params  split0_test_score  \\\n",
       "36  {'classifier': RandomForestClassifier(), 'clas...           0.918605   \n",
       "37  {'classifier': RandomForestClassifier(), 'clas...           0.953488   \n",
       "38  {'classifier': RandomForestClassifier(), 'clas...           0.953488   \n",
       "\n",
       "    split1_test_score  split2_test_score  split3_test_score  \\\n",
       "36           0.929412           0.929412           0.964706   \n",
       "37           0.952941           0.917647           0.964706   \n",
       "38           0.964706           0.929412           0.952941   \n",
       "\n",
       "    split4_test_score  mean_test_score  std_test_score  rank_test_score  \n",
       "36           0.988235         0.946074        0.026209                9  \n",
       "37           0.988235         0.955404        0.022802                6  \n",
       "38           0.976471         0.955404        0.015593                6  "
      ]
     },
     "metadata": {},
     "output_type": "display_data"
    }
   ],
   "source": [
    "df = pd.DataFrame(grid.cv_results_)\n",
    "\n",
    "display(df.head())\n",
    "display(df[36:])"
   ]
  }
 ],
 "metadata": {
  "kernelspec": {
   "display_name": "Python 3",
   "language": "python",
   "name": "python3"
  },
  "language_info": {
   "codemirror_mode": {
    "name": "ipython",
    "version": 3
   },
   "file_extension": ".py",
   "mimetype": "text/x-python",
   "name": "python",
   "nbconvert_exporter": "python",
   "pygments_lexer": "ipython3",
   "version": "3.8.8"
  }
 },
 "nbformat": 4,
 "nbformat_minor": 5
}
