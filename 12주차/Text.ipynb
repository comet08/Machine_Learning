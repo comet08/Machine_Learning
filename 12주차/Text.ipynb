{
 "cells": [
  {
   "cell_type": "markdown",
   "id": "05e32d92",
   "metadata": {},
   "source": [
    "# 문자열 데이터\n",
    "\n",
    "- 범주형 데이터\n",
    "- 범주에 의미를 연결시킬 수 있는 임의 문자열\n",
    "- 구조화된 문자열 / 장소, 이름, 번호 등\n",
    "- 텍스트 데이터(자유로운..) / corpus\n",
    "\n",
    "\n",
    "- 텍스트로 직접 입력을 받는 것은 자동 매핑이 어렵기 때문에 피해야 함"
   ]
  },
  {
   "cell_type": "code",
   "execution_count": 10,
   "id": "bcd859bc",
   "metadata": {},
   "outputs": [],
   "source": [
    "import mglearn\n",
    "import pandas as pd\n",
    "import numpy as np\n",
    "import matplotlib.pyplot as plt\n",
    "\n",
    "from sklearn.feature_extraction.text import CountVectorizer\n",
    "from sklearn.feature_extraction.text import TfidfVectorizer\n",
    "\n",
    "\n",
    "from sklearn.pipeline import make_pipeline\n",
    "from sklearn.model_selection import GridSearchCV\n",
    "from sklearn.model_selection import cross_val_score\n",
    "\n",
    "\n",
    "from sklearn.linear_model import LogisticRegression\n",
    "\n",
    "from sklearn.datasets import load_files"
   ]
  },
  {
   "cell_type": "markdown",
   "id": "c1d9e514",
   "metadata": {},
   "source": [
    "### 영화 리뷰 데이터\n",
    "\n",
    "\n",
    "- 1-4 음성 / 7-10 양성        부정/긍정"
   ]
  },
  {
   "cell_type": "code",
   "execution_count": 11,
   "id": "390cd61e",
   "metadata": {},
   "outputs": [
    {
     "name": "stdout",
     "output_type": "stream",
     "text": [
      "폴더 PATH의 목록입니다.\n",
      "볼륨 일련 번호는 FA7A-2A7C입니다.\n",
      "C:\\USERS\\LGPC\\DOCUMENTS\\MACHINELEARNING\\12주차\\ACLIMDB\n",
      "├─test\n",
      "│  ├─neg\n",
      "│  └─pos\n",
      "└─train\n",
      "    ├─neg\n",
      "    └─pos\n"
     ]
    }
   ],
   "source": [
    "!tree aclImdb"
   ]
  },
  {
   "cell_type": "code",
   "execution_count": 2,
   "id": "672e2b53",
   "metadata": {},
   "outputs": [],
   "source": [
    "\n",
    "\n",
    "reviews_train = load_files(\"./aclImdb/train/\")\n",
    "\n",
    "text_train, y_train = reviews_train.data, reviews_train.target\n"
   ]
  },
  {
   "cell_type": "markdown",
   "id": "005d6e4b",
   "metadata": {},
   "source": [
    "https://scikit-learn.org/stable/modules/generated/sklearn.datasets.load_files.html\n",
    "\n",
    "\n",
    "\n",
    "- load_files/ 폴더명으로 클래스를 구별해줌..."
   ]
  },
  {
   "cell_type": "code",
   "execution_count": 14,
   "id": "6772b8b3",
   "metadata": {},
   "outputs": [
    {
     "name": "stdout",
     "output_type": "stream",
     "text": [
      "<class 'list'>\n",
      "b\"Zero Day leads you to think, even re-think why two boys/young men would do what they did - commit mutual suicide via slaughtering their classmates. It captures what must be beyond a bizarre mode of being for two humans who have decided to withdraw from common civility in order to define their own/mutual world via coupled destruction.<br /><br />It is not a perfect movie but given what money/time the filmmaker and actors had - it is a remarkable product. In terms of explaining the motives and actions of the two young suicide/murderers it is better than 'Elephant' - in terms of being a film that gets under our 'rationalistic' skin it is a far, far better film than almost anything you are likely to see. <br /><br />Flawed but honest with a terrible honesty.\"\n"
     ]
    }
   ],
   "source": [
    "print(type(text_train))\n",
    "print(text_train[0])"
   ]
  },
  {
   "cell_type": "code",
   "execution_count": 16,
   "id": "959772a9",
   "metadata": {},
   "outputs": [
    {
     "name": "stdout",
     "output_type": "stream",
     "text": [
      "[12500 12500]\n"
     ]
    }
   ],
   "source": [
    "print(np.bincount(y_train))\n",
    "\n",
    "# 0 / 1   같은 비율..."
   ]
  },
  {
   "cell_type": "markdown",
   "id": "08792acd",
   "metadata": {},
   "source": [
    "중간 \\<br /> 과 같은 태그 존재... - > 지우기"
   ]
  },
  {
   "cell_type": "code",
   "execution_count": 3,
   "id": "21026117",
   "metadata": {},
   "outputs": [],
   "source": [
    "text_train = [doc.replace(b\"<br />\", b\" \") for doc in text_train]\n",
    "# <br /> 태그 ->  ' ' 공백으로 치환"
   ]
  },
  {
   "cell_type": "code",
   "execution_count": 20,
   "id": "7458b8d9",
   "metadata": {},
   "outputs": [
    {
     "data": {
      "text/plain": [
       "b\"Zero Day leads you to think, even re-think why two boys/young men would do what they did - commit mutual suicide via slaughtering their classmates. It captures what must be beyond a bizarre mode of being for two humans who have decided to withdraw from common civility in order to define their own/mutual world via coupled destruction.  It is not a perfect movie but given what money/time the filmmaker and actors had - it is a remarkable product. In terms of explaining the motives and actions of the two young suicide/murderers it is better than 'Elephant' - in terms of being a film that gets under our 'rationalistic' skin it is a far, far better film than almost anything you are likely to see.   Flawed but honest with a terrible honesty.\""
      ]
     },
     "execution_count": 20,
     "metadata": {},
     "output_type": "execute_result"
    }
   ],
   "source": [
    "text_train[0]"
   ]
  },
  {
   "cell_type": "code",
   "execution_count": 4,
   "id": "05000751",
   "metadata": {},
   "outputs": [
    {
     "name": "stdout",
     "output_type": "stream",
     "text": [
      "25000\n",
      "[12500 12500]\n"
     ]
    }
   ],
   "source": [
    "reviews_test = load_files(\"aclImdb/test/\")\n",
    "\n",
    "text_test, y_test = reviews_test.data, reviews_test.target\n",
    "\n",
    "print(len(text_test))\n",
    "print(np.bincount(y_test))\n",
    "\n",
    "text_test = [doc.replace(b\"<br />\", b\" \") for doc in text_test]"
   ]
  },
  {
   "cell_type": "markdown",
   "id": "83b39a5d",
   "metadata": {},
   "source": [
    "## Bag of Word(Bow)\n",
    "\n",
    "- 순서에 상관없이 단어 출현 횟수 카운트\n",
    "- 토큰화(공백, 구두점 기준)\n",
    "- 어휘 사전 구축(알파벳 순서) 후 단어 빈도수 계산"
   ]
  },
  {
   "cell_type": "code",
   "execution_count": 5,
   "id": "894ed4b3",
   "metadata": {},
   "outputs": [
    {
     "data": {
      "text/plain": [
       "CountVectorizer()"
      ]
     },
     "execution_count": 5,
     "metadata": {},
     "output_type": "execute_result"
    }
   ],
   "source": [
    "\n",
    "\n",
    "vect = CountVectorizer()\n",
    "# 토큰으로 나누고 어휘사전 구축해서 vocabulary_ 속성에 저장함\n",
    "\n",
    "bards_words = [\"The fool doth think he is wise\",\n",
    "              \"but the wise man knows himself to be a fool\"]\n",
    "vect.fit(bards_words)\n",
    "\n",
    "# token_pattern // 공백 사이의 둘 이상의 문자나 숫자가 연속된 단어\n",
    "# = 한 글자는 무시...  조정 가능함\n",
    "# 대소문자 구분 X"
   ]
  },
  {
   "cell_type": "code",
   "execution_count": 24,
   "id": "d7a9a309",
   "metadata": {},
   "outputs": [
    {
     "name": "stdout",
     "output_type": "stream",
     "text": [
      "어휘 사전의 크기 :  13\n",
      "어휘 사전의 내용 : \n",
      " {'the': 9, 'fool': 3, 'doth': 2, 'think': 10, 'he': 4, 'is': 6, 'wise': 12, 'but': 1, 'man': 8, 'knows': 7, 'himself': 5, 'to': 11, 'be': 0}\n"
     ]
    }
   ],
   "source": [
    "print(\"어휘 사전의 크기 : \", len(vect.vocabulary_))\n",
    "print(\"어휘 사전의 내용 : \\n\", vect.vocabulary_)"
   ]
  },
  {
   "cell_type": "code",
   "execution_count": 25,
   "id": "165605ca",
   "metadata": {},
   "outputs": [
    {
     "data": {
      "text/plain": [
       "<2x13 sparse matrix of type '<class 'numpy.int64'>'\n",
       "\twith 16 stored elements in Compressed Sparse Row format>"
      ]
     },
     "execution_count": 25,
     "metadata": {},
     "output_type": "execute_result"
    }
   ],
   "source": [
    "bag_of_words = vect.transform(bards_words)\n",
    "bag_of_words\n",
    "\n",
    "# 희소행렬이기 때문에 0이 아닌것만 인덱스로 저장"
   ]
  },
  {
   "cell_type": "code",
   "execution_count": 26,
   "id": "8187f627",
   "metadata": {},
   "outputs": [
    {
     "data": {
      "text/plain": [
       "array([[0, 0, 1, 1, 1, 0, 1, 0, 0, 1, 1, 0, 1],\n",
       "       [1, 1, 0, 1, 0, 1, 0, 1, 1, 1, 0, 1, 1]], dtype=int64)"
      ]
     },
     "execution_count": 26,
     "metadata": {},
     "output_type": "execute_result"
    }
   ],
   "source": [
    "bag_of_words.toarray()"
   ]
  },
  {
   "cell_type": "code",
   "execution_count": 27,
   "id": "de6b5aec",
   "metadata": {},
   "outputs": [
    {
     "name": "stdout",
     "output_type": "stream",
     "text": [
      "X_train  :  <25000x74849 sparse matrix of type '<class 'numpy.int64'>'\n",
      "\twith 3431196 stored elements in Compressed Sparse Row format>\n"
     ]
    }
   ],
   "source": [
    "vect = CountVectorizer().fit(text_train)\n",
    "X_train = vect.transform(text_train)\n",
    "print(\"X_train  : \", repr(X_train))\n",
    "\n",
    "\n",
    "# 단어 74849개"
   ]
  },
  {
   "cell_type": "code",
   "execution_count": 30,
   "id": "3d0b8d3f",
   "metadata": {},
   "outputs": [
    {
     "name": "stdout",
     "output_type": "stream",
     "text": [
      "특성 개수 :\n",
      "  74849\n",
      "첫 20개 :\n",
      "  ['00', '000', '0000000000001', '00001', '00015', '000s', '001', '003830', '006', '007', '0079', '0080', '0083', '0093638', '00am', '00pm', '00s', '01', '01pm', '02']\n",
      "매 2000번째 특성 \n",
      ":  ['00', 'aesir', 'aquarian', 'barking', 'blustering', 'bête', 'chicanery', 'condensing', 'cunning', 'detox', 'draper', 'enshrined', 'favorit', 'freezer', 'goldman', 'hasan', 'huitieme', 'intelligible', 'kantrowitz', 'lawful', 'maars', 'megalunged', 'mostey', 'norrland', 'padilla', 'pincher', 'promisingly', 'receptionist', 'rivals', 'schnaas', 'shunning', 'sparse', 'subset', 'temptations', 'treatises', 'unproven', 'walkman', 'xylophonist']\n"
     ]
    }
   ],
   "source": [
    "feature_names = vect.get_feature_names()\n",
    "print(\"특성 개수 :\\n \", len(feature_names))\n",
    "print(\"첫 20개 :\\n \", feature_names[:20])\n",
    "print(\"매 2000번째 특성 \\n: \", feature_names[::2000])"
   ]
  },
  {
   "cell_type": "markdown",
   "id": "d0698255",
   "metadata": {},
   "source": [
    "첫 20개.. 숫자 특성이 많다. "
   ]
  },
  {
   "cell_type": "code",
   "execution_count": 36,
   "id": "8fe4919d",
   "metadata": {},
   "outputs": [
    {
     "data": {
      "text/plain": [
       "array([0.8824, 0.876 , 0.8818, 0.8884, 0.8776])"
      ]
     },
     "execution_count": 36,
     "metadata": {},
     "output_type": "execute_result"
    }
   ],
   "source": [
    "\n",
    "\n",
    "cvs = cross_val_score(LogisticRegression(max_iter=1000), X_train, y_train, cv=5)\n",
    "cvs"
   ]
  },
  {
   "cell_type": "code",
   "execution_count": 37,
   "id": "2da13b67",
   "metadata": {},
   "outputs": [
    {
     "data": {
      "text/plain": [
       "GridSearchCV(cv=5, estimator=LogisticRegression(max_iter=5000),\n",
       "             param_grid={'C': [0.001, 0.01, 0.1, 1, 10]})"
      ]
     },
     "execution_count": 37,
     "metadata": {},
     "output_type": "execute_result"
    }
   ],
   "source": [
    "param_grid = {'C' : [0.001, 0.01, 0.1, 1, 10]}\n",
    "\n",
    "\n",
    "grid = GridSearchCV(LogisticRegression(max_iter=5000), param_grid, cv=5)\n",
    "grid.fit(X_train, y_train)"
   ]
  },
  {
   "cell_type": "code",
   "execution_count": 38,
   "id": "e26a926e",
   "metadata": {},
   "outputs": [
    {
     "name": "stdout",
     "output_type": "stream",
     "text": [
      "최상 교차 검증 점수 :  0.8881599999999998\n",
      "최적 매개변수 :  {'C': 0.1}\n"
     ]
    }
   ],
   "source": [
    "print(\"최상 교차 검증 점수 : \", grid.best_score_)\n",
    "print(\"최적 매개변수 : \", grid.best_params_)"
   ]
  },
  {
   "cell_type": "code",
   "execution_count": 39,
   "id": "c18e735c",
   "metadata": {},
   "outputs": [
    {
     "name": "stdout",
     "output_type": "stream",
     "text": [
      "테스트 점수 :  0.87892\n"
     ]
    }
   ],
   "source": [
    "X_test = vect.transform(text_test)\n",
    "print(\"테스트 점수 : \", grid.score(X_test, y_test))"
   ]
  },
  {
   "cell_type": "code",
   "execution_count": 40,
   "id": "7c29ddbd",
   "metadata": {},
   "outputs": [],
   "source": [
    "# 최소한 다섯개 이상의 문서에서 나타난 단어만 추출\n",
    "\n",
    "vect_f = CountVectorizer(min_df=5).fit(text_train)\n",
    "X_train = vect_f.transform(text_train)\n",
    "X_test = vect_f.transform(text_test)"
   ]
  },
  {
   "cell_type": "code",
   "execution_count": 44,
   "id": "a3f2825b",
   "metadata": {},
   "outputs": [
    {
     "name": "stdout",
     "output_type": "stream",
     "text": [
      "min_df로 제한\n",
      "\n",
      "특성 개수 :\n",
      "  27271\n",
      "첫 20개 :\n",
      "  ['00', '000', '007', '00s', '01', '02', '03', '04', '05', '06', '07', '08', '09', '10', '100', '1000', '100th', '101', '102', '103']\n",
      "매 2000번째 특성 \n",
      ":  ['00', 'baked', 'centipede', 'cutlery', 'elton', 'gaining', 'ideals', 'leering', 'moxy', 'picasso', 'repartee', 'silvers', 'talkative', 'verisimilitude']\n"
     ]
    }
   ],
   "source": [
    "print(\"min_df로 제한\\n\")\n",
    "feature_names = vect_f.get_feature_names()\n",
    "print(\"특성 개수 :\\n \", len(feature_names))\n",
    "print(\"첫 20개 :\\n \", feature_names[:20])\n",
    "print(\"매 2000번째 특성 \\n: \", feature_names[::2000])"
   ]
  },
  {
   "cell_type": "code",
   "execution_count": 42,
   "id": "5c9172d0",
   "metadata": {},
   "outputs": [
    {
     "name": "stdout",
     "output_type": "stream",
     "text": [
      "최상 교차 검증 점수 :  0.88812\n",
      "최적 매개변수 :  {'C': 0.1}\n",
      "테스트 점수 :  0.8778\n"
     ]
    }
   ],
   "source": [
    "grid =GridSearchCV(LogisticRegression(max_iter=5000), param_grid, cv=5)\n",
    "grid.fit(X_train, y_train)\n",
    "\n",
    "print(\"최상 교차 검증 점수 : \", grid.best_score_)\n",
    "print(\"최적 매개변수 : \", grid.best_params_)\n",
    "print(\"테스트 점수 : \", grid.score(X_test, y_test))"
   ]
  },
  {
   "cell_type": "code",
   "execution_count": 45,
   "id": "c3e77086",
   "metadata": {},
   "outputs": [
    {
     "name": "stdout",
     "output_type": "stream",
     "text": [
      "불용어 개수 :  318\n",
      "매 10번째 불용어 :  ['from', 'the', 'next', 'first', 'very', 'none', 'other', 'whole', 'my', 'became', 'anywhere', 'indeed', 'although', 'up', 'beyond', 'whither', 'seeming', 'behind', 'both', 'should', 'she', 'of', 'elsewhere', 'themselves', 'they', 'her', 'over', 'being', 'keep', 'thereafter', 'empty', 'afterwards']\n"
     ]
    }
   ],
   "source": [
    "# 불용어 처리\n",
    "# 너무 빈번하여 유용하지 않은 단어\n",
    "\n",
    "from sklearn.feature_extraction.text import ENGLISH_STOP_WORDS\n",
    "# sklearn에서 제공하는 불용어 모음\n",
    "\n",
    "print(\"불용어 개수 : \", len(ENGLISH_STOP_WORDS))\n",
    "print(\"매 10번째 불용어 : \", list(ENGLISH_STOP_WORDS)[::10])"
   ]
  },
  {
   "cell_type": "code",
   "execution_count": 46,
   "id": "b4522158",
   "metadata": {},
   "outputs": [
    {
     "name": "stdout",
     "output_type": "stream",
     "text": [
      "불용어 제거 후 훈련 :  <25000x26966 sparse matrix of type '<class 'numpy.int64'>'\n",
      "\twith 2149958 stored elements in Compressed Sparse Row format>\n"
     ]
    }
   ],
   "source": [
    "vect = CountVectorizer(min_df=5, stop_words=\"english\").fit(text_train)\n",
    "# 지정된 목록 사용 가능\n",
    "X_train = vect.transform(text_train)\n",
    "\n",
    "print(\"불용어 제거 후 훈련 : \", repr(X_train))"
   ]
  },
  {
   "cell_type": "code",
   "execution_count": 48,
   "id": "7034b3ce",
   "metadata": {},
   "outputs": [
    {
     "name": "stdout",
     "output_type": "stream",
     "text": [
      "최상 교차 검증 점수 :  0.8828400000000001\n",
      "최적 매개변수 :  {'C': 0.1}\n",
      "테스트 점수 :  0.87256\n"
     ]
    }
   ],
   "source": [
    "grid =GridSearchCV(LogisticRegression(max_iter=5000), param_grid, cv=5)\n",
    "grid.fit(X_train, y_train)\n",
    "\n",
    "X_test = vect.transform(text_test)\n",
    "print(\"최상 교차 검증 점수 : \", grid.best_score_)\n",
    "print(\"최적 매개변수 : \", grid.best_params_)\n",
    "print(\"테스트 점수 : \", grid.score(X_test, y_test))"
   ]
  },
  {
   "cell_type": "markdown",
   "id": "793495bc",
   "metadata": {},
   "source": [
    "최소 등장이나 불용어로 성능이 개선되지는 않음...."
   ]
  },
  {
   "cell_type": "markdown",
   "id": "ba344fcf",
   "metadata": {},
   "source": [
    "## Tf-idf\n",
    "\n",
    "- bow는 순서와 다른 문서와의 관계를 고려하지 않음\n",
    "- Term Frequency- inverse document Frequency\n",
    "\n",
    "\n",
    "- 다른 문서보다 특정 문서에 자주 나타나는 단어가 있다면 그 단어는 그 문서를 잘 설명한다고 해서 가중치를 높임\n",
    "\n",
    "\n",
    "\n",
    "\n",
    "-  tf-idf(w, d) = tf * (log(N+1 / Nw+1) + 1)\n",
    "\n",
    "- N = 전체 문서의 개수 , Nw = 단어 w가 나타난 문서의 수\n",
    "- tf = 단어의 빈도수"
   ]
  },
  {
   "cell_type": "code",
   "execution_count": 55,
   "id": "0e6ffc13",
   "metadata": {},
   "outputs": [
    {
     "data": {
      "text/plain": [
       "GridSearchCV(cv=5,\n",
       "             estimator=Pipeline(steps=[('tfidfvectorizer',\n",
       "                                        TfidfVectorizer(min_df=5)),\n",
       "                                       ('logisticregression',\n",
       "                                        LogisticRegression(max_iter=5000))]),\n",
       "             param_grid={'logisticregression__C': [0.001, 0.01, 0.1, 1, 10,\n",
       "                                                   100]})"
      ]
     },
     "execution_count": 55,
     "metadata": {},
     "output_type": "execute_result"
    }
   ],
   "source": [
    "from sklearn.feature_extraction.text import TfidfVectorizer\n",
    "from sklearn.pipeline import make_pipeline\n",
    "\n",
    "pipe = make_pipeline(\n",
    "        TfidfVectorizer(min_df=5),\n",
    "        LogisticRegression(max_iter=5000))\n",
    "\n",
    "param_grid = {'logisticregression__C' : [0.001, 0.01, 0.1, 1, 10,100]}\n",
    "\n",
    "grid = GridSearchCV(pipe, param_grid , cv=5)\n",
    "grid.fit(text_train, y_train)"
   ]
  },
  {
   "cell_type": "code",
   "execution_count": 54,
   "id": "e970fdf8",
   "metadata": {},
   "outputs": [
    {
     "name": "stdout",
     "output_type": "stream",
     "text": [
      "최상 교차검증 점수 :  0.89192\n"
     ]
    },
    {
     "data": {
      "text/plain": [
       "[('tfidfvectorizer', TfidfVectorizer(min_df=5)),\n",
       " ('logisticregression', LogisticRegression(max_iter=5000))]"
      ]
     },
     "execution_count": 54,
     "metadata": {},
     "output_type": "execute_result"
    }
   ],
   "source": [
    "print(\"최상 교차검증 점수 : \", grid.best_score_)\n",
    "pipe.steps"
   ]
  },
  {
   "cell_type": "code",
   "execution_count": 56,
   "id": "8fea2333",
   "metadata": {},
   "outputs": [],
   "source": [
    "vectorizer = grid.best_estimator_.named_steps['tfidfvectorizer']\n",
    "\n",
    "X_train = vectorizer.transform(text_train)\n",
    "\n",
    "max_value = X_train.max(axis=0).toarray().ravel()\n",
    "sorted_by_tfidf = max_value.argsort()\n",
    "# 특성별 가장 큰 값 / 인덱스로 정렬\n",
    "\n",
    "feature_names = np.array(vectorizer.get_feature_names())"
   ]
  },
  {
   "cell_type": "code",
   "execution_count": 57,
   "id": "a4e0874f",
   "metadata": {},
   "outputs": [
    {
     "name": "stdout",
     "output_type": "stream",
     "text": [
      "가장 낮은 tfidf를 가진 특성:\n",
      " ['suplexes' 'gauche' 'hypocrites' 'oncoming' 'songwriting' 'galadriel'\n",
      " 'emerald' 'mclaughlin' 'sylvain' 'oversee' 'cataclysmic' 'pressuring'\n",
      " 'uphold' 'thieving' 'inconsiderate' 'ware' 'denim' 'reverting' 'booed'\n",
      " 'spacious']\n",
      "가장 높은 tfidf를 가진 특성:\n",
      " ['gadget' 'sucks' 'zatoichi' 'demons' 'lennon' 'bye' 'dev' 'weller'\n",
      " 'sasquatch' 'botched' 'xica' 'darkman' 'woo' 'casper' 'doodlebops'\n",
      " 'smallville' 'wei' 'scanners' 'steve' 'pokemon']\n"
     ]
    }
   ],
   "source": [
    "print(\"가장 낮은 tfidf를 가진 특성:\\n\", feature_names[sorted_by_tfidf[:20]])\n",
    "print(\"가장 높은 tfidf를 가진 특성:\\n\", feature_names[sorted_by_tfidf[-20:]])"
   ]
  },
  {
   "cell_type": "markdown",
   "id": "aea9c5bf",
   "metadata": {},
   "source": [
    "낮은 것 : 조금씩만 사용되거나 매우 긴 문장에 사용..\n",
    "\n",
    "높은 것 : 특정 리뷰에서 많이 나타남"
   ]
  },
  {
   "cell_type": "code",
   "execution_count": 59,
   "id": "24ff438c",
   "metadata": {},
   "outputs": [
    {
     "name": "stdout",
     "output_type": "stream",
     "text": [
      "가장 낮은 idf를 가진 특성 : \n",
      " ['the' 'and' 'of' 'to' 'this' 'is' 'it' 'in' 'that' 'but' 'for' 'with'\n",
      " 'was' 'as' 'on' 'movie' 'not' 'have' 'one' 'be' 'film' 'are' 'you' 'all'\n",
      " 'at' 'an' 'by' 'so' 'from' 'like' 'who' 'they' 'there' 'if' 'his' 'out'\n",
      " 'just' 'about' 'he' 'or' 'has' 'what' 'some' 'good' 'can' 'more' 'when'\n",
      " 'time' 'up' 'very' 'even' 'only' 'no' 'would' 'my' 'see' 'really' 'story'\n",
      " 'which' 'well' 'had' 'me' 'than' 'much' 'their' 'get' 'were' 'other'\n",
      " 'been' 'do' 'most' 'don' 'her' 'also' 'into' 'first' 'made' 'how' 'great'\n",
      " 'because' 'will' 'people' 'make' 'way' 'could' 'we' 'bad' 'after' 'any'\n",
      " 'too' 'then' 'them' 'she' 'watch' 'think' 'acting' 'movies' 'seen' 'its'\n",
      " 'him']\n"
     ]
    }
   ],
   "source": [
    "sorted_by_idf = np.argsort(vectorizer.idf_)\n",
    "print(\"가장 낮은 idf를 가진 특성 : \\n\", feature_names[sorted_by_idf[:100]])"
   ]
  },
  {
   "cell_type": "markdown",
   "id": "76ecf598",
   "metadata": {},
   "source": [
    "자주 나타나서 덜 중요하다고 생각되는 단어들"
   ]
  },
  {
   "cell_type": "code",
   "execution_count": 61,
   "id": "3c629747",
   "metadata": {},
   "outputs": [
    {
     "name": "stdout",
     "output_type": "stream",
     "text": [
      "가장 높은 idf를 가진 특성 : \n",
      " ['tenement' 'tenements' 'tenets' 'preclude' 'gravelly' 'grandest'\n",
      " 'gravely' 'greendale' 'tenure' 'calligraphy' 'tepper' 'prc' 'greenstreet'\n",
      " 'callaghan' 'caligula' 'pratfall' 'prankster' 'prakash' 'grayce' 'émigré']\n"
     ]
    }
   ],
   "source": [
    "print(\"가장 높은 idf를 가진 특성 : \\n\", feature_names[sorted_by_idf[-20:]])"
   ]
  },
  {
   "cell_type": "code",
   "execution_count": 63,
   "id": "e7c4bf15",
   "metadata": {},
   "outputs": [
    {
     "data": {
      "image/png": "[encoded data removed]",
      "text/plain": [
       "<Figure size 1080x360 with 1 Axes>"
      ]
     },
     "metadata": {
      "needs_background": "light"
     },
     "output_type": "display_data"
    }
   ],
   "source": [
    "mglearn.tools.visualize_coefficients(\n",
    "    grid.best_estimator_.named_steps['logisticregression'].coef_[0],\n",
    "    feature_names, n_top_features=40)"
   ]
  },
  {
   "cell_type": "markdown",
   "id": "87b6d406",
   "metadata": {},
   "source": [
    "모델의 계수 분석"
   ]
  },
  {
   "cell_type": "markdown",
   "id": "17b72713",
   "metadata": {},
   "source": [
    "## N-gram\n",
    "\n",
    "- 순서를 고려하여\n",
    "- 토큰 하나 = 유니그램, 두 개 = 바이그램, 세 개 = 트라이그램\n",
    "- ngram_range 파라미터로 설정 가능함"
   ]
  },
  {
   "cell_type": "code",
   "execution_count": 64,
   "id": "f4647cd9",
   "metadata": {},
   "outputs": [
    {
     "name": "stdout",
     "output_type": "stream",
     "text": [
      "어휘 사전의 크기 :  13\n",
      "어휘 사전의 내용 : \n",
      " {'the': 9, 'fool': 3, 'doth': 2, 'think': 10, 'he': 4, 'is': 6, 'wise': 12, 'but': 1, 'man': 8, 'knows': 7, 'himself': 5, 'to': 11, 'be': 0}\n"
     ]
    }
   ],
   "source": [
    "# 유니그램\n",
    "vect = CountVectorizer(ngram_range=(1,1)).fit(bards_words)\n",
    "print(\"어휘 사전의 크기 : \", len(vect.vocabulary_))\n",
    "print(\"어휘 사전의 내용 : \\n\", vect.vocabulary_)"
   ]
  },
  {
   "cell_type": "code",
   "execution_count": 65,
   "id": "354f2994",
   "metadata": {},
   "outputs": [
    {
     "name": "stdout",
     "output_type": "stream",
     "text": [
      "어휘 사전의 크기 :  14\n",
      "어휘 사전의 내용 : \n",
      " {'the fool': 9, 'fool doth': 3, 'doth think': 2, 'think he': 11, 'he is': 4, 'is wise': 6, 'but the': 1, 'the wise': 10, 'wise man': 13, 'man knows': 8, 'knows himself': 7, 'himself to': 5, 'to be': 12, 'be fool': 0}\n"
     ]
    }
   ],
   "source": [
    "# 바이그램\n",
    "vect = CountVectorizer(ngram_range=(2,2)).fit(bards_words)\n",
    "print(\"어휘 사전의 크기 : \", len(vect.vocabulary_))\n",
    "print(\"어휘 사전의 내용 : \\n\", vect.vocabulary_)"
   ]
  },
  {
   "cell_type": "code",
   "execution_count": 66,
   "id": "fdf8ae39",
   "metadata": {},
   "outputs": [
    {
     "name": "stdout",
     "output_type": "stream",
     "text": [
      "어휘 사전의 크기 :  12\n",
      "어휘 사전의 내용 : \n",
      " {'the fool doth': 7, 'fool doth think': 2, 'doth think he': 1, 'think he is': 9, 'he is wise': 3, 'but the wise': 0, 'the wise man': 8, 'wise man knows': 11, 'man knows himself': 6, 'knows himself to': 5, 'himself to be': 4, 'to be fool': 10}\n"
     ]
    }
   ],
   "source": [
    "# 트라이 그램\n",
    "vect = CountVectorizer(ngram_range=(3,3)).fit(bards_words)\n",
    "print(\"어휘 사전의 크기 : \", len(vect.vocabulary_))\n",
    "print(\"어휘 사전의 내용 : \\n\", vect.vocabulary_)"
   ]
  },
  {
   "cell_type": "code",
   "execution_count": 67,
   "id": "3f1ba1b2",
   "metadata": {},
   "outputs": [
    {
     "name": "stdout",
     "output_type": "stream",
     "text": [
      "어휘 사전의 크기 :  39\n",
      "어휘 사전의 내용 : \n",
      " {'the': 25, 'fool': 8, 'doth': 5, 'think': 30, 'he': 11, 'is': 17, 'wise': 36, 'the fool': 26, 'fool doth': 9, 'doth think': 6, 'think he': 31, 'he is': 12, 'is wise': 18, 'the fool doth': 27, 'fool doth think': 10, 'doth think he': 7, 'think he is': 32, 'he is wise': 13, 'but': 2, 'man': 22, 'knows': 19, 'himself': 14, 'to': 33, 'be': 0, 'but the': 3, 'the wise': 28, 'wise man': 37, 'man knows': 23, 'knows himself': 20, 'himself to': 15, 'to be': 34, 'be fool': 1, 'but the wise': 4, 'the wise man': 29, 'wise man knows': 38, 'man knows himself': 24, 'knows himself to': 21, 'himself to be': 16, 'to be fool': 35}\n"
     ]
    }
   ],
   "source": [
    "vect = CountVectorizer(ngram_range=(1,3)).fit(bards_words)\n",
    "print(\"어휘 사전의 크기 : \", len(vect.vocabulary_))\n",
    "print(\"어휘 사전의 내용 : \\n\", vect.vocabulary_)\n",
    "\n",
    "\n",
    "# 유니~트라이까지 전부 포함"
   ]
  },
  {
   "cell_type": "code",
   "execution_count": 68,
   "id": "2c0ab7bf",
   "metadata": {},
   "outputs": [
    {
     "name": "stderr",
     "output_type": "stream",
     "text": [
      "D:\\anaconda3\\lib\\site-packages\\sklearn\\linear_model\\_logistic.py:763: ConvergenceWarning: lbfgs failed to converge (status=1):\n",
      "STOP: TOTAL NO. of ITERATIONS REACHED LIMIT.\n",
      "\n",
      "Increase the number of iterations (max_iter) or scale the data as shown in:\n",
      "    https://scikit-learn.org/stable/modules/preprocessing.html\n",
      "Please also refer to the documentation for alternative solver options:\n",
      "    https://scikit-learn.org/stable/modules/linear_model.html#logistic-regression\n",
      "  n_iter_i = _check_optimize_result(\n",
      "D:\\anaconda3\\lib\\site-packages\\sklearn\\linear_model\\_logistic.py:763: ConvergenceWarning: lbfgs failed to converge (status=1):\n",
      "STOP: TOTAL NO. of ITERATIONS REACHED LIMIT.\n",
      "\n",
      "Increase the number of iterations (max_iter) or scale the data as shown in:\n",
      "    https://scikit-learn.org/stable/modules/preprocessing.html\n",
      "Please also refer to the documentation for alternative solver options:\n",
      "    https://scikit-learn.org/stable/modules/linear_model.html#logistic-regression\n",
      "  n_iter_i = _check_optimize_result(\n",
      "D:\\anaconda3\\lib\\site-packages\\sklearn\\linear_model\\_logistic.py:763: ConvergenceWarning: lbfgs failed to converge (status=1):\n",
      "STOP: TOTAL NO. of ITERATIONS REACHED LIMIT.\n",
      "\n",
      "Increase the number of iterations (max_iter) or scale the data as shown in:\n",
      "    https://scikit-learn.org/stable/modules/preprocessing.html\n",
      "Please also refer to the documentation for alternative solver options:\n",
      "    https://scikit-learn.org/stable/modules/linear_model.html#logistic-regression\n",
      "  n_iter_i = _check_optimize_result(\n",
      "D:\\anaconda3\\lib\\site-packages\\sklearn\\linear_model\\_logistic.py:763: ConvergenceWarning: lbfgs failed to converge (status=1):\n",
      "STOP: TOTAL NO. of ITERATIONS REACHED LIMIT.\n",
      "\n",
      "Increase the number of iterations (max_iter) or scale the data as shown in:\n",
      "    https://scikit-learn.org/stable/modules/preprocessing.html\n",
      "Please also refer to the documentation for alternative solver options:\n",
      "    https://scikit-learn.org/stable/modules/linear_model.html#logistic-regression\n",
      "  n_iter_i = _check_optimize_result(\n",
      "D:\\anaconda3\\lib\\site-packages\\sklearn\\linear_model\\_logistic.py:763: ConvergenceWarning: lbfgs failed to converge (status=1):\n",
      "STOP: TOTAL NO. of ITERATIONS REACHED LIMIT.\n",
      "\n",
      "Increase the number of iterations (max_iter) or scale the data as shown in:\n",
      "    https://scikit-learn.org/stable/modules/preprocessing.html\n",
      "Please also refer to the documentation for alternative solver options:\n",
      "    https://scikit-learn.org/stable/modules/linear_model.html#logistic-regression\n",
      "  n_iter_i = _check_optimize_result(\n",
      "D:\\anaconda3\\lib\\site-packages\\sklearn\\linear_model\\_logistic.py:763: ConvergenceWarning: lbfgs failed to converge (status=1):\n",
      "STOP: TOTAL NO. of ITERATIONS REACHED LIMIT.\n",
      "\n",
      "Increase the number of iterations (max_iter) or scale the data as shown in:\n",
      "    https://scikit-learn.org/stable/modules/preprocessing.html\n",
      "Please also refer to the documentation for alternative solver options:\n",
      "    https://scikit-learn.org/stable/modules/linear_model.html#logistic-regression\n",
      "  n_iter_i = _check_optimize_result(\n",
      "D:\\anaconda3\\lib\\site-packages\\sklearn\\linear_model\\_logistic.py:763: ConvergenceWarning: lbfgs failed to converge (status=1):\n",
      "STOP: TOTAL NO. of ITERATIONS REACHED LIMIT.\n",
      "\n",
      "Increase the number of iterations (max_iter) or scale the data as shown in:\n",
      "    https://scikit-learn.org/stable/modules/preprocessing.html\n",
      "Please also refer to the documentation for alternative solver options:\n",
      "    https://scikit-learn.org/stable/modules/linear_model.html#logistic-regression\n",
      "  n_iter_i = _check_optimize_result(\n",
      "D:\\anaconda3\\lib\\site-packages\\sklearn\\linear_model\\_logistic.py:763: ConvergenceWarning: lbfgs failed to converge (status=1):\n",
      "STOP: TOTAL NO. of ITERATIONS REACHED LIMIT.\n",
      "\n",
      "Increase the number of iterations (max_iter) or scale the data as shown in:\n",
      "    https://scikit-learn.org/stable/modules/preprocessing.html\n",
      "Please also refer to the documentation for alternative solver options:\n",
      "    https://scikit-learn.org/stable/modules/linear_model.html#logistic-regression\n",
      "  n_iter_i = _check_optimize_result(\n",
      "D:\\anaconda3\\lib\\site-packages\\sklearn\\linear_model\\_logistic.py:763: ConvergenceWarning: lbfgs failed to converge (status=1):\n",
      "STOP: TOTAL NO. of ITERATIONS REACHED LIMIT.\n",
      "\n",
      "Increase the number of iterations (max_iter) or scale the data as shown in:\n",
      "    https://scikit-learn.org/stable/modules/preprocessing.html\n",
      "Please also refer to the documentation for alternative solver options:\n",
      "    https://scikit-learn.org/stable/modules/linear_model.html#logistic-regression\n",
      "  n_iter_i = _check_optimize_result(\n",
      "D:\\anaconda3\\lib\\site-packages\\sklearn\\linear_model\\_logistic.py:763: ConvergenceWarning: lbfgs failed to converge (status=1):\n",
      "STOP: TOTAL NO. of ITERATIONS REACHED LIMIT.\n",
      "\n",
      "Increase the number of iterations (max_iter) or scale the data as shown in:\n",
      "    https://scikit-learn.org/stable/modules/preprocessing.html\n",
      "Please also refer to the documentation for alternative solver options:\n",
      "    https://scikit-learn.org/stable/modules/linear_model.html#logistic-regression\n",
      "  n_iter_i = _check_optimize_result(\n",
      "D:\\anaconda3\\lib\\site-packages\\sklearn\\linear_model\\_logistic.py:763: ConvergenceWarning: lbfgs failed to converge (status=1):\n",
      "STOP: TOTAL NO. of ITERATIONS REACHED LIMIT.\n",
      "\n",
      "Increase the number of iterations (max_iter) or scale the data as shown in:\n",
      "    https://scikit-learn.org/stable/modules/preprocessing.html\n",
      "Please also refer to the documentation for alternative solver options:\n",
      "    https://scikit-learn.org/stable/modules/linear_model.html#logistic-regression\n",
      "  n_iter_i = _check_optimize_result(\n",
      "D:\\anaconda3\\lib\\site-packages\\sklearn\\linear_model\\_logistic.py:763: ConvergenceWarning: lbfgs failed to converge (status=1):\n",
      "STOP: TOTAL NO. of ITERATIONS REACHED LIMIT.\n",
      "\n",
      "Increase the number of iterations (max_iter) or scale the data as shown in:\n",
      "    https://scikit-learn.org/stable/modules/preprocessing.html\n",
      "Please also refer to the documentation for alternative solver options:\n",
      "    https://scikit-learn.org/stable/modules/linear_model.html#logistic-regression\n",
      "  n_iter_i = _check_optimize_result(\n",
      "D:\\anaconda3\\lib\\site-packages\\sklearn\\linear_model\\_logistic.py:763: ConvergenceWarning: lbfgs failed to converge (status=1):\n",
      "STOP: TOTAL NO. of ITERATIONS REACHED LIMIT.\n",
      "\n",
      "Increase the number of iterations (max_iter) or scale the data as shown in:\n",
      "    https://scikit-learn.org/stable/modules/preprocessing.html\n",
      "Please also refer to the documentation for alternative solver options:\n",
      "    https://scikit-learn.org/stable/modules/linear_model.html#logistic-regression\n",
      "  n_iter_i = _check_optimize_result(\n",
      "D:\\anaconda3\\lib\\site-packages\\sklearn\\linear_model\\_logistic.py:763: ConvergenceWarning: lbfgs failed to converge (status=1):\n",
      "STOP: TOTAL NO. of ITERATIONS REACHED LIMIT.\n",
      "\n",
      "Increase the number of iterations (max_iter) or scale the data as shown in:\n",
      "    https://scikit-learn.org/stable/modules/preprocessing.html\n",
      "Please also refer to the documentation for alternative solver options:\n",
      "    https://scikit-learn.org/stable/modules/linear_model.html#logistic-regression\n",
      "  n_iter_i = _check_optimize_result(\n",
      "D:\\anaconda3\\lib\\site-packages\\sklearn\\linear_model\\_logistic.py:763: ConvergenceWarning: lbfgs failed to converge (status=1):\n",
      "STOP: TOTAL NO. of ITERATIONS REACHED LIMIT.\n",
      "\n",
      "Increase the number of iterations (max_iter) or scale the data as shown in:\n",
      "    https://scikit-learn.org/stable/modules/preprocessing.html\n",
      "Please also refer to the documentation for alternative solver options:\n",
      "    https://scikit-learn.org/stable/modules/linear_model.html#logistic-regression\n",
      "  n_iter_i = _check_optimize_result(\n",
      "D:\\anaconda3\\lib\\site-packages\\sklearn\\linear_model\\_logistic.py:763: ConvergenceWarning: lbfgs failed to converge (status=1):\n",
      "STOP: TOTAL NO. of ITERATIONS REACHED LIMIT.\n",
      "\n",
      "Increase the number of iterations (max_iter) or scale the data as shown in:\n",
      "    https://scikit-learn.org/stable/modules/preprocessing.html\n",
      "Please also refer to the documentation for alternative solver options:\n",
      "    https://scikit-learn.org/stable/modules/linear_model.html#logistic-regression\n",
      "  n_iter_i = _check_optimize_result(\n",
      "D:\\anaconda3\\lib\\site-packages\\sklearn\\linear_model\\_logistic.py:763: ConvergenceWarning: lbfgs failed to converge (status=1):\n",
      "STOP: TOTAL NO. of ITERATIONS REACHED LIMIT.\n",
      "\n",
      "Increase the number of iterations (max_iter) or scale the data as shown in:\n",
      "    https://scikit-learn.org/stable/modules/preprocessing.html\n",
      "Please also refer to the documentation for alternative solver options:\n",
      "    https://scikit-learn.org/stable/modules/linear_model.html#logistic-regression\n",
      "  n_iter_i = _check_optimize_result(\n"
     ]
    },
    {
     "name": "stderr",
     "output_type": "stream",
     "text": [
      "D:\\anaconda3\\lib\\site-packages\\sklearn\\linear_model\\_logistic.py:763: ConvergenceWarning: lbfgs failed to converge (status=1):\n",
      "STOP: TOTAL NO. of ITERATIONS REACHED LIMIT.\n",
      "\n",
      "Increase the number of iterations (max_iter) or scale the data as shown in:\n",
      "    https://scikit-learn.org/stable/modules/preprocessing.html\n",
      "Please also refer to the documentation for alternative solver options:\n",
      "    https://scikit-learn.org/stable/modules/linear_model.html#logistic-regression\n",
      "  n_iter_i = _check_optimize_result(\n"
     ]
    }
   ],
   "source": [
    "pipe = make_pipeline(TfidfVectorizer(min_df=5), LogisticRegression())\n",
    "\n",
    "param_grid = {'logisticregression__C' : [0.001, 0.01, 0.1, 1, 10, 100],\n",
    "             'tfidfvectorizer__ngram_range':[(1,1),(1,2), (1,3)]}\n",
    "\n",
    "grid = GridSearchCV(pipe, param_grid, cv=5).fit(text_train, y_train)"
   ]
  },
  {
   "cell_type": "code",
   "execution_count": 70,
   "id": "05dc2b49",
   "metadata": {},
   "outputs": [
    {
     "name": "stdout",
     "output_type": "stream",
     "text": [
      "최상의 교차 검증 점수 :  0.9064\n",
      "최적 매개변수 :  {'logisticregression__C': 100, 'tfidfvectorizer__ngram_range': (1, 3)}\n"
     ]
    }
   ],
   "source": [
    "print(\"최상의 교차 검증 점수 : \", grid.best_score_)\n",
    "print(\"최적 매개변수 : \", grid.best_params_)"
   ]
  },
  {
   "cell_type": "markdown",
   "id": "6cd0c6be",
   "metadata": {},
   "source": [
    "C=100, Tragram일때 가장 성능이 좋음"
   ]
  },
  {
   "cell_type": "code",
   "execution_count": 74,
   "id": "0a12a999",
   "metadata": {},
   "outputs": [
    {
     "data": {
      "text/plain": [
       "<matplotlib.colorbar.Colorbar at 0x18e09a1db20>"
      ]
     },
     "execution_count": 74,
     "metadata": {},
     "output_type": "execute_result"
    },
    {
     "data": {
      "image/png": "[encoded data removed]",
      "text/plain": [
       "<Figure size 432x288 with 2 Axes>"
      ]
     },
     "metadata": {
      "needs_background": "light"
     },
     "output_type": "display_data"
    }
   ],
   "source": [
    "scores = grid.cv_results_['mean_test_score'].reshape(-1,3).T\n",
    "\n",
    "heatmap = mglearn.tools.heatmap(\n",
    "    scores, xlabel=\"C\", ylabel=\"ngram_range\", cmap='viridis',\n",
    "    fmt='%.3f', xticklabels=param_grid['logisticregression__C'],\n",
    "    yticklabels=param_grid['tfidfvectorizer__ngram_range'])\n",
    "\n",
    "plt.colorbar(heatmap)"
   ]
  },
  {
   "cell_type": "markdown",
   "id": "e100711e",
   "metadata": {},
   "source": [
    "규제가 완화되고, ngram range의 범위도 넓어질수록 성능이 개선됨\n",
    "\n",
    "성능이 개선되지만 사이즈가 많이 커지기 때문에 고려해서 파라미터 설정을 해야한다"
   ]
  },
  {
   "cell_type": "code",
   "execution_count": 69,
   "id": "afbe9bd7",
   "metadata": {},
   "outputs": [
    {
     "data": {
      "image/png": "[encoded data removed]",
      "text/plain": [
       "<Figure size 1080x360 with 1 Axes>"
      ]
     },
     "metadata": {
      "needs_background": "light"
     },
     "output_type": "display_data"
    }
   ],
   "source": [
    "vect= grid.best_estimator_.named_steps['tfidfvectorizer']\n",
    "feature_names = np.array(vect.get_feature_names())\n",
    "\n",
    "mglearn.tools.visualize_coefficients(\n",
    "    grid.best_estimator_.named_steps['logisticregression'].coef_[0],\n",
    "    feature_names, n_top_features=40)"
   ]
  },
  {
   "cell_type": "markdown",
   "id": "97c8c45a",
   "metadata": {},
   "source": [
    "유니그램부터 트라이그램까지 포함된 결과"
   ]
  },
  {
   "cell_type": "markdown",
   "id": "1ab75937",
   "metadata": {},
   "source": [
    "### 어간 추출 / 표제어 추출\n",
    "\n",
    "- 어간! (단어의 뿌리)  drawback, drawbacks\n",
    "- 표제어 (단어의 역할) 동사/비동사 등....\n"
   ]
  },
  {
   "cell_type": "code",
   "execution_count": 7,
   "id": "f8ccdae9",
   "metadata": {},
   "outputs": [],
   "source": [
    "import en_core_web_sm\n",
    "from nltk.stem.porter import PorterStemmer\n",
    "\n",
    "nlp =  en_core_web_sm.load()\n",
    "# spacy의 영어 모델\n",
    "stemmer = PorterStemmer()\n",
    "# nltk의 포터스티머 // \n",
    "\n",
    "# spacy는 표제어 추출을 하고 nltk는 어간 추출을 한다\n",
    "\n",
    "\n",
    "def compare_spacy_nltk(doc):\n",
    "    doc_spacy = nlp(doc)\n",
    "    print(\"표제어 : \")\n",
    "    print([token.lemma_ for token in doc_spacy])\n",
    "    # 안의 lemma_ 에 표제어가 들어감\n",
    "    \n",
    "    print(\"어간 : \")\n",
    "    print([stemmer.stem(token.norm_.lower()) for token in doc_spacy])"
   ]
  },
  {
   "cell_type": "code",
   "execution_count": 100,
   "id": "74006966",
   "metadata": {
    "scrolled": true
   },
   "outputs": [
    {
     "name": "stdout",
     "output_type": "stream",
     "text": [
      "표제어 : \n",
      "['-PRON-', 'meeting', 'today', 'be', 'bad', 'than', 'yesterday', ',', '-PRON-', 'be', 'scared', 'of', 'meet', 'the', 'client', 'tomorrow', '.']\n",
      "어간 : \n",
      "['our', 'meet', 'today', 'wa', 'wors', 'than', 'yesterday', ',', 'i', 'am', 'scare', 'of', 'meet', 'the', 'client', 'tomorrow', '.']\n"
     ]
    }
   ],
   "source": [
    "compare_spacy_nltk(u\"Our meeting today was worse than yesterday, \"\n",
    "                  \"I'm scared of meeting the clients tomorrow.\")"
   ]
  },
  {
   "cell_type": "markdown",
   "id": "01998ae4",
   "metadata": {},
   "source": [
    "어간은 was의 wa만 추출했고 표제어는 올바른 be를 추출함\n",
    "\n",
    "worse도 bad / wors\n",
    "\n",
    "일반적으로 표제어 추출은 어간 추출보다 훨씬 복잡한 처리를 하지만 더 좋은 결과를 낸다고 함"
   ]
  },
  {
   "cell_type": "markdown",
   "id": "21e14c5a",
   "metadata": {},
   "source": [
    "#### 표제어 추출 + tf-idf + ngram으로 테스트"
   ]
  },
  {
   "cell_type": "code",
   "execution_count": 8,
   "id": "b1155dcf",
   "metadata": {},
   "outputs": [],
   "source": [
    "def custom_tokenizer(doc):\n",
    "    docs = nlp(doc)\n",
    "    return [token.lemma_ for token in docs]"
   ]
  },
  {
   "cell_type": "code",
   "execution_count": null,
   "id": "c50e81a4",
   "metadata": {},
   "outputs": [],
   "source": [
    "\n",
    "\n",
    "pipe = make_pipeline(\n",
    "    TfidfVectorizer(tokenizer=custom_tokenizer, min_df=5, ngram_range=(1,3)), \n",
    "    LogisticRegression(max_iter=5000)\n",
    "    )\n",
    "\n",
    "param_grid = {'logisticregression__C' : [0.001, 0.01, 0.1, 1, 10, 100]}\n",
    "\n",
    "grid = GridSearchCV(pipe, param_grid, cv=5).fit(text_test, y_train)"
   ]
  },
  {
   "cell_type": "markdown",
   "id": "b798afc5",
   "metadata": {},
   "source": [
    "## 토픽 모델링\n",
    "\n",
    "\n",
    "- 비지도 학습!\n",
    "- 문서를 하나 이상의 토픽에 할당\n",
    "- 자주 나타나는 단어의 그룹 느낌\n",
    "- LDA 잠재 디리클레 할당 / 선형판별분석과는 다른 것\n",
    "- 성분 분석과 비슷함\n",
    "\n",
    "\n",
    "- 훈련 샘플이 적을때 과대적합 방지를 위해서..."
   ]
  },
  {
   "cell_type": "code",
   "execution_count": null,
   "id": "59181df9",
   "metadata": {},
   "outputs": [],
   "source": [
    "vect = CountVectorizer(max_features=10000, max_df=.15)\n",
    "# 15퍼센트!\n",
    "\n",
    "X = vect.fit_transform(text_train)\n",
    "\n",
    "from sklearn.decomposition import LatentDirichletAllocation\n",
    "\n",
    "lda = LatentDirichletAllocation(n_components=10,\n",
    "                               learning_method='batch', max_iter=25,\n",
    "                               random_state=0)\n",
    "# batch가 online보다 느리지만 성능이 더 낫다\n",
    "\n",
    "topics = lda.fit_transform(X)\n",
    "lda.components_.shape"
   ]
  },
  {
   "cell_type": "code",
   "execution_count": null,
   "id": "32f93e87",
   "metadata": {},
   "outputs": [],
   "source": [
    "sorting = np.argsort(lda.components_, axis=1)[:, ::-1]\n",
    "# 토픽마다 특성을 내림차순으로...\n",
    "\n",
    "feature_names = np.array(vect.get_feature_names)\n",
    "\n",
    "mglearn.tools.print_topics(topics=range(10), feature_names=feature_names,\n",
    "                          sorting=sorting, topics_per_chunk=5, n_words=10)"
   ]
  }
 ],
 "metadata": {
  "kernelspec": {
   "display_name": "Python 3",
   "language": "python",
   "name": "python3"
  },
  "language_info": {
   "codemirror_mode": {
    "name": "ipython",
    "version": 3
   },
   "file_extension": ".py",
   "mimetype": "text/x-python",
   "name": "python",
   "nbconvert_exporter": "python",
   "pygments_lexer": "ipython3",
   "version": "3.8.8"
  }
 },
 "nbformat": 4,
 "nbformat_minor": 5
}
