{
 "cells": [
  {
   "cell_type": "markdown",
   "metadata": {
    "_cell_guid": "6876755d-3552-491d-b416-a012fbe221e4",
    "_uuid": "0b46910d15d98513ea81fb24e0f8ab28134c5f5f"
   },
   "source": [
    "분류 성능비교\n",
    "==\n",
    "\n",
    "다루는 내용\n",
    "--\n",
    "- 분류 알고리즘 비교\n",
    "- 교차검증\n",
    "- 정적 성능평가 Confusion matrix  \n",
    "- 동적 성능평가 ROC\n",
    "\n",
    "데이터\n",
    "--\n",
    "- 포도주 품질 분류 https://goo.gl/Gyc8K7\n",
    "\n",
    "출처\n",
    "--\n",
    "https://www.kaggle.com/vishalyo990/prediction-of-quality-of-wine/notebook\n",
    "\n"
   ]
  },
  {
   "cell_type": "markdown",
   "metadata": {},
   "source": [
    "모듈 불러오기\n",
    "--"
   ]
  },
  {
   "cell_type": "code",
   "execution_count": 1,
   "metadata": {
    "_cell_guid": "87c7b371-53b1-4d4d-bfbd-373d2b84b33a",
    "_uuid": "da5343fb3f6b3942909c94bf8e2add04fd3ff1a3"
   },
   "outputs": [],
   "source": [
    "import pandas as pd\n",
    "import numpy as np\n",
    "# import seaborn as sns\n",
    "import matplotlib.pyplot as plt\n",
    "\n",
    "#트리\n",
    "from sklearn import tree\n",
    "\n",
    "#최근접 이웃\n",
    "from sklearn.neighbors import KNeighborsClassifier\n",
    "\n",
    "#앙상블\n",
    "from sklearn.ensemble import RandomForestClassifier\n",
    "from sklearn.ensemble import GradientBoostingClassifier\n",
    "#from xgboost import XGBClassifier <- pip install xgboost\n",
    "\n",
    "#서포트 벡터 분류, 회귀\n",
    "from sklearn.svm import SVC\n",
    "from sklearn.svm import SVR # Support Vector Regression\n",
    "\n",
    "#선형 모델\n",
    "from sklearn.linear_model import LinearRegression, Ridge, Lasso, LogisticRegression\n",
    "\n",
    "from sklearn.metrics import confusion_matrix, classification_report, roc_curve, auc\n",
    "from sklearn.metrics import mean_squared_error, mean_absolute_error, r2_score\n",
    "\n",
    "#전처리\n",
    "from sklearn.preprocessing import StandardScaler, LabelEncoder\n",
    "\n",
    "\n",
    "from sklearn.model_selection import train_test_split, GridSearchCV, cross_val_score \n",
    "%matplotlib inline\n",
    "\n",
    "import matplotlib\n",
    "from matplotlib import font_manager, rc\n",
    "font_name = font_manager.FontProperties(fname='c:/Windows/Fonts/NanumBarunGothic.ttf').get_name()\n",
    "rc('font',family=font_name)\n",
    "\n",
    "matplotlib.rcParams['axes.unicode_minus'] = False "
   ]
  },
  {
   "cell_type": "markdown",
   "metadata": {},
   "source": [
    "데이터 읽기 (포도주 품질 평가)\n",
    "--"
   ]
  },
  {
   "cell_type": "code",
   "execution_count": 2,
   "metadata": {
    "_cell_guid": "800f9ff4-79bf-4785-9569-23e1d9b9b03b",
    "_uuid": "07c8409e4eccd80507d9846e8cc70ea42e58cbe6"
   },
   "outputs": [],
   "source": [
    "wine = pd.read_csv('data/winequality-red.csv')\n",
    "# 데이터 사본 https://goo.gl/m3eCrf"
   ]
  },
  {
   "cell_type": "code",
   "execution_count": 3,
   "metadata": {
    "_cell_guid": "019cbcee-6cb2-478c-922b-ccebe4962769",
    "_uuid": "45ff42953e9082cd55612a4774408cc97a05fb11"
   },
   "outputs": [
    {
     "data": {
      "text/html": [
       "<div>\n",
       "<style scoped>\n",
       "    .dataframe tbody tr th:only-of-type {\n",
       "        vertical-align: middle;\n",
       "    }\n",
       "\n",
       "    .dataframe tbody tr th {\n",
       "        vertical-align: top;\n",
       "    }\n",
       "\n",
       "    .dataframe thead th {\n",
       "        text-align: right;\n",
       "    }\n",
       "</style>\n",
       "<table border=\"1\" class=\"dataframe\">\n",
       "  <thead>\n",
       "    <tr style=\"text-align: right;\">\n",
       "      <th></th>\n",
       "      <th>fixed acidity</th>\n",
       "      <th>volatile acidity</th>\n",
       "      <th>citric acid</th>\n",
       "      <th>residual sugar</th>\n",
       "      <th>chlorides</th>\n",
       "      <th>free sulfur dioxide</th>\n",
       "      <th>total sulfur dioxide</th>\n",
       "      <th>density</th>\n",
       "      <th>pH</th>\n",
       "      <th>sulphates</th>\n",
       "      <th>alcohol</th>\n",
       "      <th>quality</th>\n",
       "    </tr>\n",
       "  </thead>\n",
       "  <tbody>\n",
       "    <tr>\n",
       "      <th>0</th>\n",
       "      <td>7.4</td>\n",
       "      <td>0.70</td>\n",
       "      <td>0.00</td>\n",
       "      <td>1.9</td>\n",
       "      <td>0.076</td>\n",
       "      <td>11.0</td>\n",
       "      <td>34.0</td>\n",
       "      <td>0.9978</td>\n",
       "      <td>3.51</td>\n",
       "      <td>0.56</td>\n",
       "      <td>9.4</td>\n",
       "      <td>5</td>\n",
       "    </tr>\n",
       "    <tr>\n",
       "      <th>1</th>\n",
       "      <td>7.8</td>\n",
       "      <td>0.88</td>\n",
       "      <td>0.00</td>\n",
       "      <td>2.6</td>\n",
       "      <td>0.098</td>\n",
       "      <td>25.0</td>\n",
       "      <td>67.0</td>\n",
       "      <td>0.9968</td>\n",
       "      <td>3.20</td>\n",
       "      <td>0.68</td>\n",
       "      <td>9.8</td>\n",
       "      <td>5</td>\n",
       "    </tr>\n",
       "    <tr>\n",
       "      <th>2</th>\n",
       "      <td>7.8</td>\n",
       "      <td>0.76</td>\n",
       "      <td>0.04</td>\n",
       "      <td>2.3</td>\n",
       "      <td>0.092</td>\n",
       "      <td>15.0</td>\n",
       "      <td>54.0</td>\n",
       "      <td>0.9970</td>\n",
       "      <td>3.26</td>\n",
       "      <td>0.65</td>\n",
       "      <td>9.8</td>\n",
       "      <td>5</td>\n",
       "    </tr>\n",
       "    <tr>\n",
       "      <th>3</th>\n",
       "      <td>11.2</td>\n",
       "      <td>0.28</td>\n",
       "      <td>0.56</td>\n",
       "      <td>1.9</td>\n",
       "      <td>0.075</td>\n",
       "      <td>17.0</td>\n",
       "      <td>60.0</td>\n",
       "      <td>0.9980</td>\n",
       "      <td>3.16</td>\n",
       "      <td>0.58</td>\n",
       "      <td>9.8</td>\n",
       "      <td>6</td>\n",
       "    </tr>\n",
       "    <tr>\n",
       "      <th>4</th>\n",
       "      <td>7.4</td>\n",
       "      <td>0.70</td>\n",
       "      <td>0.00</td>\n",
       "      <td>1.9</td>\n",
       "      <td>0.076</td>\n",
       "      <td>11.0</td>\n",
       "      <td>34.0</td>\n",
       "      <td>0.9978</td>\n",
       "      <td>3.51</td>\n",
       "      <td>0.56</td>\n",
       "      <td>9.4</td>\n",
       "      <td>5</td>\n",
       "    </tr>\n",
       "  </tbody>\n",
       "</table>\n",
       "</div>"
      ],
      "text/plain": [
       "   fixed acidity  volatile acidity  citric acid  residual sugar  chlorides  \\\n",
       "0            7.4              0.70         0.00             1.9      0.076   \n",
       "1            7.8              0.88         0.00             2.6      0.098   \n",
       "2            7.8              0.76         0.04             2.3      0.092   \n",
       "3           11.2              0.28         0.56             1.9      0.075   \n",
       "4            7.4              0.70         0.00             1.9      0.076   \n",
       "\n",
       "   free sulfur dioxide  total sulfur dioxide  density    pH  sulphates  \\\n",
       "0                 11.0                  34.0   0.9978  3.51       0.56   \n",
       "1                 25.0                  67.0   0.9968  3.20       0.68   \n",
       "2                 15.0                  54.0   0.9970  3.26       0.65   \n",
       "3                 17.0                  60.0   0.9980  3.16       0.58   \n",
       "4                 11.0                  34.0   0.9978  3.51       0.56   \n",
       "\n",
       "   alcohol  quality  \n",
       "0      9.4        5  \n",
       "1      9.8        5  \n",
       "2      9.8        5  \n",
       "3      9.8        6  \n",
       "4      9.4        5  "
      ]
     },
     "execution_count": 3,
     "metadata": {},
     "output_type": "execute_result"
    }
   ],
   "source": [
    "wine.head(5)\n",
    "# 데이터 위에서 5개만 출력"
   ]
  },
  {
   "cell_type": "code",
   "execution_count": 4,
   "metadata": {},
   "outputs": [
    {
     "data": {
      "text/plain": [
       "(1599, 12)"
      ]
     },
     "execution_count": 4,
     "metadata": {},
     "output_type": "execute_result"
    }
   ],
   "source": [
    "wine.shape"
   ]
  },
  {
   "cell_type": "markdown",
   "metadata": {},
   "source": [
    "- fixed acidity - 결합 산도 \n",
    "- volatile acidity - 휘발성 산도 \n",
    "- citric acid - 시트르산 \n",
    "- residual sugar - 잔류 설탕 \n",
    "- chlorides\t - 염화물 \n",
    "- free sulfur dioxide - 자유 이산화황 \n",
    "- total sulfur dioxide - 총 이산화황 \n",
    "- density - 밀도 \n",
    "- pH - pH \n",
    "- sulphates - 황산염 \n",
    "- alcohol - 알코올 \n",
    "- quality - 품질 (0 ~ 10 점)"
   ]
  },
  {
   "cell_type": "code",
   "execution_count": 5,
   "metadata": {},
   "outputs": [
    {
     "data": {
      "text/plain": [
       "array([3, 4, 5, 6, 7, 8], dtype=int64)"
      ]
     },
     "execution_count": 5,
     "metadata": {},
     "output_type": "execute_result"
    }
   ],
   "source": [
    "np.unique(wine.quality)"
   ]
  },
  {
   "cell_type": "code",
   "execution_count": 6,
   "metadata": {
    "_cell_guid": "704f4830-5804-436d-9b78-6ca00f5ae510",
    "_uuid": "af141503385967f92d409c5e111e2724b4c9636f"
   },
   "outputs": [
    {
     "name": "stdout",
     "output_type": "stream",
     "text": [
      "<class 'pandas.core.frame.DataFrame'>\n",
      "RangeIndex: 1599 entries, 0 to 1598\n",
      "Data columns (total 12 columns):\n",
      " #   Column                Non-Null Count  Dtype  \n",
      "---  ------                --------------  -----  \n",
      " 0   fixed acidity         1599 non-null   float64\n",
      " 1   volatile acidity      1599 non-null   float64\n",
      " 2   citric acid           1599 non-null   float64\n",
      " 3   residual sugar        1599 non-null   float64\n",
      " 4   chlorides             1599 non-null   float64\n",
      " 5   free sulfur dioxide   1599 non-null   float64\n",
      " 6   total sulfur dioxide  1599 non-null   float64\n",
      " 7   density               1599 non-null   float64\n",
      " 8   pH                    1599 non-null   float64\n",
      " 9   sulphates             1599 non-null   float64\n",
      " 10  alcohol               1599 non-null   float64\n",
      " 11  quality               1599 non-null   int64  \n",
      "dtypes: float64(11), int64(1)\n",
      "memory usage: 150.0 KB\n"
     ]
    }
   ],
   "source": [
    "wine.info() # 데이터 정보\n",
    "\n",
    "# 특성 12개. 데이터 샘플 1599개"
   ]
  },
  {
   "cell_type": "code",
   "execution_count": 7,
   "metadata": {},
   "outputs": [
    {
     "data": {
      "text/plain": [
       "Index(['fixed acidity', 'volatile acidity', 'citric acid', 'residual sugar',\n",
       "       'chlorides', 'free sulfur dioxide', 'total sulfur dioxide', 'density',\n",
       "       'pH', 'sulphates', 'alcohol', 'quality'],\n",
       "      dtype='object')"
      ]
     },
     "execution_count": 7,
     "metadata": {},
     "output_type": "execute_result"
    }
   ],
   "source": [
    "wine.columns"
   ]
  },
  {
   "cell_type": "markdown",
   "metadata": {
    "_cell_guid": "12b9e3c1-006d-4b1d-b01d-02be5a594bbb",
    "_uuid": "e9ad3ce0e67ea7a5178222164d784a974846bc54"
   },
   "source": [
    "## 여러 특성 한번에 보기 (박스 플롯)"
   ]
  },
  {
   "cell_type": "code",
   "execution_count": 8,
   "metadata": {
    "scrolled": false
   },
   "outputs": [
    {
     "data": {
      "text/plain": [
       "(array([ 1,  2,  3,  4,  5,  6,  7,  8,  9, 10, 11, 12]),\n",
       " [Text(1, 0, 'fixed acidity'),\n",
       "  Text(2, 0, 'volatile acidity'),\n",
       "  Text(3, 0, 'citric acid'),\n",
       "  Text(4, 0, 'residual sugar'),\n",
       "  Text(5, 0, 'chlorides'),\n",
       "  Text(6, 0, 'free sulfur dioxide'),\n",
       "  Text(7, 0, 'total sulfur dioxide'),\n",
       "  Text(8, 0, 'density'),\n",
       "  Text(9, 0, 'pH'),\n",
       "  Text(10, 0, 'sulphates'),\n",
       "  Text(11, 0, 'alcohol'),\n",
       "  Text(12, 0, 'quality')])"
      ]
     },
     "execution_count": 8,
     "metadata": {},
     "output_type": "execute_result"
    },
    {
     "data": {
      "image/png": "[encoded data removed]",
      "text/plain": [
       "<Figure size 720x576 with 1 Axes>"
      ]
     },
     "metadata": {
      "needs_background": "light"
     },
     "output_type": "display_data"
    }
   ],
   "source": [
    "#맨처음에 박스플롯을 그린다 거의 한눈에 다보여주기 때문에\n",
    "wine.boxplot(figsize = (10,8))\n",
    "plt.xticks(rotation=30)"
   ]
  },
  {
   "cell_type": "markdown",
   "metadata": {},
   "source": [
    "free sulfur, total sulfur의 값이 크고 이상치도 매우 높다"
   ]
  },
  {
   "cell_type": "markdown",
   "metadata": {},
   "source": [
    "줄여서 보기\n",
    "--"
   ]
  },
  {
   "cell_type": "code",
   "execution_count": 9,
   "metadata": {},
   "outputs": [
    {
     "data": {
      "text/plain": [
       "(array([ 1,  2,  3,  4,  5,  6,  7,  8,  9, 10]),\n",
       " [Text(1, 0, 'fixed acidity'),\n",
       "  Text(2, 0, 'volatile acidity'),\n",
       "  Text(3, 0, 'citric acid'),\n",
       "  Text(4, 0, 'residual sugar'),\n",
       "  Text(5, 0, 'chlorides'),\n",
       "  Text(6, 0, 'density'),\n",
       "  Text(7, 0, 'pH'),\n",
       "  Text(8, 0, 'sulphates'),\n",
       "  Text(9, 0, 'alcohol'),\n",
       "  Text(10, 0, 'quality')])"
      ]
     },
     "execution_count": 9,
     "metadata": {},
     "output_type": "execute_result"
    },
    {
     "data": {
      "image/png": "[encoded data removed]",
      "text/plain": [
       "<Figure size 720x576 with 1 Axes>"
      ]
     },
     "metadata": {
      "needs_background": "light"
     },
     "output_type": "display_data"
    }
   ],
   "source": [
    "#위에서 크게나온 그림 빼고 다시그림 다른것들을 자세히 보기위해서\n",
    "wine.drop(['free sulfur dioxide', 'total sulfur dioxide'], axis=1).boxplot(figsize = (10,8))\n",
    "plt.xticks(rotation=30)"
   ]
  },
  {
   "cell_type": "markdown",
   "metadata": {},
   "source": [
    "위의 차이가 심한 두 가지 특성을 빼고 다시 그린 박스플롯\n",
    "\n",
    "- fixed acidity와 alcohol의 값이 비교적 큼\n",
    "- residual sugar의 이상치가 매우 많음"
   ]
  },
  {
   "cell_type": "markdown",
   "metadata": {},
   "source": [
    "cancer데이터에 데이터프레임을 입히고 0,1열을 지움"
   ]
  },
  {
   "cell_type": "code",
   "execution_count": 10,
   "metadata": {},
   "outputs": [
    {
     "data": {
      "text/html": [
       "<div>\n",
       "<style scoped>\n",
       "    .dataframe tbody tr th:only-of-type {\n",
       "        vertical-align: middle;\n",
       "    }\n",
       "\n",
       "    .dataframe tbody tr th {\n",
       "        vertical-align: top;\n",
       "    }\n",
       "\n",
       "    .dataframe thead th {\n",
       "        text-align: right;\n",
       "    }\n",
       "</style>\n",
       "<table border=\"1\" class=\"dataframe\">\n",
       "  <thead>\n",
       "    <tr style=\"text-align: right;\">\n",
       "      <th></th>\n",
       "      <th>alcohol</th>\n",
       "      <th>quality</th>\n",
       "    </tr>\n",
       "  </thead>\n",
       "  <tbody>\n",
       "    <tr>\n",
       "      <th>0</th>\n",
       "      <td>9.4</td>\n",
       "      <td>5</td>\n",
       "    </tr>\n",
       "    <tr>\n",
       "      <th>1</th>\n",
       "      <td>9.8</td>\n",
       "      <td>5</td>\n",
       "    </tr>\n",
       "    <tr>\n",
       "      <th>2</th>\n",
       "      <td>9.8</td>\n",
       "      <td>5</td>\n",
       "    </tr>\n",
       "    <tr>\n",
       "      <th>3</th>\n",
       "      <td>9.8</td>\n",
       "      <td>6</td>\n",
       "    </tr>\n",
       "    <tr>\n",
       "      <th>4</th>\n",
       "      <td>9.4</td>\n",
       "      <td>5</td>\n",
       "    </tr>\n",
       "    <tr>\n",
       "      <th>5</th>\n",
       "      <td>9.4</td>\n",
       "      <td>5</td>\n",
       "    </tr>\n",
       "    <tr>\n",
       "      <th>6</th>\n",
       "      <td>9.4</td>\n",
       "      <td>5</td>\n",
       "    </tr>\n",
       "    <tr>\n",
       "      <th>7</th>\n",
       "      <td>10.0</td>\n",
       "      <td>7</td>\n",
       "    </tr>\n",
       "    <tr>\n",
       "      <th>8</th>\n",
       "      <td>9.5</td>\n",
       "      <td>7</td>\n",
       "    </tr>\n",
       "    <tr>\n",
       "      <th>9</th>\n",
       "      <td>10.5</td>\n",
       "      <td>5</td>\n",
       "    </tr>\n",
       "  </tbody>\n",
       "</table>\n",
       "</div>"
      ],
      "text/plain": [
       "   alcohol  quality\n",
       "0      9.4        5\n",
       "1      9.8        5\n",
       "2      9.8        5\n",
       "3      9.8        6\n",
       "4      9.4        5\n",
       "5      9.4        5\n",
       "6      9.4        5\n",
       "7     10.0        7\n",
       "8      9.5        7\n",
       "9     10.5        5"
      ]
     },
     "execution_count": 10,
     "metadata": {},
     "output_type": "execute_result"
    }
   ],
   "source": [
    "wine[['alcohol', 'quality']].head(10)"
   ]
  },
  {
   "cell_type": "markdown",
   "metadata": {},
   "source": [
    "알콜과 품질에 대해 10가지 row"
   ]
  },
  {
   "cell_type": "code",
   "execution_count": 11,
   "metadata": {},
   "outputs": [
    {
     "data": {
      "text/plain": [
       "<AxesSubplot:>"
      ]
     },
     "execution_count": 11,
     "metadata": {},
     "output_type": "execute_result"
    },
    {
     "data": {
      "image/png": "[encoded data removed]",
      "text/plain": [
       "<Figure size 720x576 with 1 Axes>"
      ]
     },
     "metadata": {
      "needs_background": "light"
     },
     "output_type": "display_data"
    }
   ],
   "source": [
    "wine[['alcohol', 'quality']].boxplot(figsize = (10,8))"
   ]
  },
  {
   "cell_type": "markdown",
   "metadata": {},
   "source": [
    "두 특성만 박스플롯으로 표현. "
   ]
  },
  {
   "cell_type": "markdown",
   "metadata": {},
   "source": [
    "히스토그램\n",
    "--"
   ]
  },
  {
   "cell_type": "code",
   "execution_count": 12,
   "metadata": {},
   "outputs": [
    {
     "data": {
      "text/plain": [
       "array([[<AxesSubplot:title={'center':'alcohol'}>,\n",
       "        <AxesSubplot:title={'center':'quality'}>]], dtype=object)"
      ]
     },
     "execution_count": 12,
     "metadata": {},
     "output_type": "execute_result"
    },
    {
     "data": {
      "image/png": "[encoded data removed]",
      "text/plain": [
       "<Figure size 720x576 with 2 Axes>"
      ]
     },
     "metadata": {
      "needs_background": "light"
     },
     "output_type": "display_data"
    }
   ],
   "source": [
    "wine[['alcohol', 'quality']].hist(figsize = (10,8))"
   ]
  },
  {
   "cell_type": "markdown",
   "metadata": {},
   "source": [
    "히스토그램으로 표현함\n",
    "\n",
    "- 알콜은 9, 10사이가 가장 많고 품질은 5, 6 이 가장 많다"
   ]
  },
  {
   "cell_type": "markdown",
   "metadata": {},
   "source": [
    "품질관련 데이터 파악\n",
    "--"
   ]
  },
  {
   "cell_type": "code",
   "execution_count": 13,
   "metadata": {},
   "outputs": [
    {
     "data": {
      "text/plain": [
       "<AxesSubplot:title={'center':'alcohol'}, xlabel='[quality]'>"
      ]
     },
     "execution_count": 13,
     "metadata": {},
     "output_type": "execute_result"
    },
    {
     "data": {
      "image/png": "[encoded data removed]",
      "text/plain": [
       "<Figure size 576x432 with 1 Axes>"
      ]
     },
     "metadata": {
      "needs_background": "light"
     },
     "output_type": "display_data"
    }
   ],
   "source": [
    "#퀄리티가 3인것만 모아서 그리고 4만모아서 그리고...\n",
    "wine[['alcohol', 'quality']].boxplot(by='quality',figsize = (8,6)) # by값 - 기준\n",
    "#quality가 좋은건 평균적으로 알코올 성분이 좋다.\n",
    "#포도주도 알코올이 있는것들을 좋아함"
   ]
  },
  {
   "cell_type": "code",
   "execution_count": 14,
   "metadata": {
    "scrolled": false
   },
   "outputs": [
    {
     "data": {
      "text/plain": [
       "array([<AxesSubplot:title={'center':'chlorides'}, xlabel='[quality]'>,\n",
       "       <AxesSubplot:title={'center':'citric acid'}, xlabel='[quality]'>],\n",
       "      dtype=object)"
      ]
     },
     "execution_count": 14,
     "metadata": {},
     "output_type": "execute_result"
    },
    {
     "data": {
      "image/png": "[encoded data removed]",
      "text/plain": [
       "<Figure size 576x432 with 2 Axes>"
      ]
     },
     "metadata": {
      "needs_background": "light"
     },
     "output_type": "display_data"
    }
   ],
   "source": [
    "#chlorides : 염화물 , citric acid : 시트르산\n",
    "wine1 = wine[[ 'chlorides', 'citric acid', 'quality']]\n",
    "wine1.boxplot(by='quality',figsize = (8,6))"
   ]
  },
  {
   "cell_type": "markdown",
   "metadata": {},
   "source": [
    "품질에 의해 표현된 염화물과 시트르산.\n",
    "\n",
    "- 품질이 높을수록 시트르산도 높음\n",
    "- 염화물은 큰 차이가 없었다"
   ]
  },
  {
   "cell_type": "code",
   "execution_count": 15,
   "metadata": {},
   "outputs": [
    {
     "data": {
      "text/plain": [
       "<AxesSubplot:title={'center':'chlorides'}, xlabel='[citric acid]'>"
      ]
     },
     "execution_count": 15,
     "metadata": {},
     "output_type": "execute_result"
    },
    {
     "data": {
      "image/png": "[encoded data removed]",
      "text/plain": [
       "<Figure size 576x432 with 1 Axes>"
      ]
     },
     "metadata": {
      "needs_background": "light"
     },
     "output_type": "display_data"
    }
   ],
   "source": [
    "#chlorides : 염화물 , citric acid : 시트르산\n",
    "wine1 = wine[[ 'chlorides', 'citric acid']]\n",
    "wine1.boxplot(by='citric acid',figsize = (8,6))"
   ]
  },
  {
   "cell_type": "markdown",
   "metadata": {},
   "source": [
    "염화물과 시트르산.. 염화물은 값의 분산이 크지 않은 것을 확인할 수 있다."
   ]
  },
  {
   "cell_type": "code",
   "execution_count": 16,
   "metadata": {},
   "outputs": [
    {
     "data": {
      "text/plain": [
       "0.04705058260331576"
      ]
     },
     "execution_count": 16,
     "metadata": {},
     "output_type": "execute_result"
    }
   ],
   "source": [
    "np.std(wine.chlorides)"
   ]
  },
  {
   "cell_type": "code",
   "execution_count": 17,
   "metadata": {},
   "outputs": [
    {
     "data": {
      "text/plain": [
       "0.1947402144523329"
      ]
     },
     "execution_count": 17,
     "metadata": {},
     "output_type": "execute_result"
    }
   ],
   "source": [
    "np.std(wine['citric acid'])"
   ]
  },
  {
   "cell_type": "markdown",
   "metadata": {},
   "source": [
    "염화물과 시트르산의 표준편차 .  관찰한 결과와 같이 시트르산의 분산이 더 큼"
   ]
  },
  {
   "cell_type": "code",
   "execution_count": 18,
   "metadata": {
    "scrolled": false
   },
   "outputs": [
    {
     "data": {
      "text/plain": [
       "array([[<AxesSubplot:title={'center':'alcohol'}, xlabel='[quality]'>,\n",
       "        <AxesSubplot:title={'center':'chlorides'}, xlabel='[quality]'>,\n",
       "        <AxesSubplot:title={'center':'citric acid'}, xlabel='[quality]'>],\n",
       "       [<AxesSubplot:title={'center':'density'}, xlabel='[quality]'>,\n",
       "        <AxesSubplot:title={'center':'fixed acidity'}, xlabel='[quality]'>,\n",
       "        <AxesSubplot:title={'center':'free sulfur dioxide'}, xlabel='[quality]'>],\n",
       "       [<AxesSubplot:title={'center':'pH'}, xlabel='[quality]'>,\n",
       "        <AxesSubplot:title={'center':'residual sugar'}, xlabel='[quality]'>,\n",
       "        <AxesSubplot:title={'center':'sulphates'}, xlabel='[quality]'>],\n",
       "       [<AxesSubplot:title={'center':'total sulfur dioxide'}, xlabel='[quality]'>,\n",
       "        <AxesSubplot:title={'center':'volatile acidity'}, xlabel='[quality]'>,\n",
       "        <AxesSubplot:>]], dtype=object)"
      ]
     },
     "execution_count": 18,
     "metadata": {},
     "output_type": "execute_result"
    },
    {
     "data": {
      "image/png": "[encoded data removed]",
      "text/plain": [
       "<Figure size 1296x1152 with 12 Axes>"
      ]
     },
     "metadata": {
      "needs_background": "light"
     },
     "output_type": "display_data"
    }
   ],
   "source": [
    "wine.boxplot(by='quality',figsize = (18,16))"
   ]
  },
  {
   "cell_type": "markdown",
   "metadata": {},
   "source": [
    "품질에 따른 특성들 값.\n",
    "\n",
    "free sulfur dioxide과 total sulfur dioxide에 크게 값의 차이가 있다"
   ]
  },
  {
   "cell_type": "code",
   "execution_count": 19,
   "metadata": {},
   "outputs": [
    {
     "data": {
      "text/plain": [
       "array([[<AxesSubplot:title={'center':'alcohol'}, xlabel='[quality]'>,\n",
       "        <AxesSubplot:title={'center':'chlorides'}, xlabel='[quality]'>,\n",
       "        <AxesSubplot:title={'center':'citric acid'}, xlabel='[quality]'>],\n",
       "       [<AxesSubplot:title={'center':'density'}, xlabel='[quality]'>,\n",
       "        <AxesSubplot:title={'center':'fixed acidity'}, xlabel='[quality]'>,\n",
       "        <AxesSubplot:title={'center':'pH'}, xlabel='[quality]'>],\n",
       "       [<AxesSubplot:title={'center':'residual sugar'}, xlabel='[quality]'>,\n",
       "        <AxesSubplot:title={'center':'sulphates'}, xlabel='[quality]'>,\n",
       "        <AxesSubplot:title={'center':'volatile acidity'}, xlabel='[quality]'>]],\n",
       "      dtype=object)"
      ]
     },
     "execution_count": 19,
     "metadata": {},
     "output_type": "execute_result"
    },
    {
     "data": {
      "image/png": "[encoded data removed]",
      "text/plain": [
       "<Figure size 1296x1152 with 9 Axes>"
      ]
     },
     "metadata": {
      "needs_background": "light"
     },
     "output_type": "display_data"
    }
   ],
   "source": [
    "wine.drop(['free sulfur dioxide', 'total sulfur dioxide'], axis=1).boxplot(by='quality',figsize = (18,16))"
   ]
  },
  {
   "cell_type": "markdown",
   "metadata": {},
   "source": [
    "위에서 언급한 두 가지 특성을 제외하고 다시 그린 박스플롯\n",
    "\n",
    "alcohol, fixed acidity, residual sugar이 크게 나타남"
   ]
  },
  {
   "cell_type": "code",
   "execution_count": 20,
   "metadata": {},
   "outputs": [
    {
     "data": {
      "text/plain": [
       "array([[<AxesSubplot:title={'center':'chlorides'}, xlabel='[quality]'>,\n",
       "        <AxesSubplot:title={'center':'citric acid'}, xlabel='[quality]'>],\n",
       "       [<AxesSubplot:title={'center':'density'}, xlabel='[quality]'>,\n",
       "        <AxesSubplot:title={'center':'sulphates'}, xlabel='[quality]'>],\n",
       "       [<AxesSubplot:title={'center':'volatile acidity'}, xlabel='[quality]'>,\n",
       "        <AxesSubplot:>]], dtype=object)"
      ]
     },
     "execution_count": 20,
     "metadata": {},
     "output_type": "execute_result"
    },
    {
     "data": {
      "image/png": "[encoded data removed]",
      "text/plain": [
       "<Figure size 1296x1152 with 6 Axes>"
      ]
     },
     "metadata": {
      "needs_background": "light"
     },
     "output_type": "display_data"
    }
   ],
   "source": [
    "wine.drop(['free sulfur dioxide', 'total sulfur dioxide','alcohol','fixed acidity','residual sugar','pH'], axis=1).boxplot(by='quality',figsize = (18,16))"
   ]
  },
  {
   "cell_type": "markdown",
   "metadata": {},
   "source": [
    "위에 나타난 것들 전부 제외하고 그림.\n",
    "\n",
    "- critric acid(시트르산), sulphates(황산염)은 품질이 커질수록 증가\n",
    "- volatile acidity(휘발성 산도)는 품질이 커질수록 감소\n",
    "- chlorides(염화물)과 density(밀도)는 거의 영향이 없다"
   ]
  },
  {
   "cell_type": "code",
   "execution_count": 21,
   "metadata": {},
   "outputs": [
    {
     "data": {
      "text/plain": [
       "array([<AxesSubplot:title={'center':'chlorides'}, xlabel='[quality]'>,\n",
       "       <AxesSubplot:title={'center':'density'}, xlabel='[quality]'>],\n",
       "      dtype=object)"
      ]
     },
     "execution_count": 21,
     "metadata": {},
     "output_type": "execute_result"
    },
    {
     "data": {
      "image/png": "[encoded data removed]",
      "text/plain": [
       "<Figure size 720x360 with 2 Axes>"
      ]
     },
     "metadata": {
      "needs_background": "light"
     },
     "output_type": "display_data"
    }
   ],
   "source": [
    "wine[['quality', 'chlorides', 'density']].boxplot(by='quality', figsize=(10,5))"
   ]
  },
  {
   "cell_type": "markdown",
   "metadata": {},
   "source": [
    "chlorides는 품질이 커질수록 조금씩 감소하는 형태"
   ]
  },
  {
   "cell_type": "code",
   "execution_count": 22,
   "metadata": {},
   "outputs": [
    {
     "data": {
      "text/plain": [
       "0.99007"
      ]
     },
     "execution_count": 22,
     "metadata": {},
     "output_type": "execute_result"
    }
   ],
   "source": [
    "np.min(wine.density)"
   ]
  },
  {
   "cell_type": "code",
   "execution_count": 23,
   "metadata": {},
   "outputs": [
    {
     "data": {
      "text/plain": [
       "1.00369"
      ]
     },
     "execution_count": 23,
     "metadata": {},
     "output_type": "execute_result"
    }
   ],
   "source": [
    "np.max(wine.density)"
   ]
  },
  {
   "cell_type": "markdown",
   "metadata": {},
   "source": [
    "density의 값의 범위가 좁은 편임을 확인"
   ]
  },
  {
   "cell_type": "markdown",
   "metadata": {},
   "source": [
    "기본 값의 범위가 큰 것은\n",
    "- free sulfur dioxide, total sulfur dioxide\n",
    "- alcohol, fixed acidity, residual sugar\n",
    "- critric acid, sulphates, volatile acidity\n",
    "- chlorides\n",
    "- density\n",
    "\n",
    "순이다"
   ]
  },
  {
   "cell_type": "markdown",
   "metadata": {
    "_cell_guid": "9838ca3d-4b89-4503-9d7e-247cc3a9730b",
    "_uuid": "974be3136a2f13bf26a88b26cbddbf73f5cafda9"
   },
   "source": [
    "## 데이터 전처리 (레이블 만들기)"
   ]
  },
  {
   "cell_type": "code",
   "execution_count": 24,
   "metadata": {
    "scrolled": true
   },
   "outputs": [
    {
     "data": {
      "text/plain": [
       "array([5, 6, 7, 4, 8, 3], dtype=int64)"
      ]
     },
     "execution_count": 24,
     "metadata": {},
     "output_type": "execute_result"
    }
   ],
   "source": [
    "wine['quality'].unique()\n",
    "\n",
    "# = wine.quality.unique()"
   ]
  },
  {
   "cell_type": "markdown",
   "metadata": {},
   "source": [
    "품질은 3부터 8까지의 데이터가 존재한다"
   ]
  },
  {
   "cell_type": "code",
   "execution_count": 25,
   "metadata": {},
   "outputs": [
    {
     "data": {
      "text/plain": [
       "5    681\n",
       "6    638\n",
       "7    199\n",
       "4     53\n",
       "8     18\n",
       "3     10\n",
       "Name: quality, dtype: int64"
      ]
     },
     "execution_count": 25,
     "metadata": {},
     "output_type": "execute_result"
    }
   ],
   "source": [
    "wine['quality'].value_counts()"
   ]
  },
  {
   "cell_type": "markdown",
   "metadata": {},
   "source": [
    "- wine이 dataframe 형식이기 때문에 value_counts()로 빈도 계산이 가능하다\n",
    "- 품질에 대한 빈도 조사.. \n",
    "- 5~6이 가장 많음"
   ]
  },
  {
   "cell_type": "code",
   "execution_count": 195,
   "metadata": {
    "_cell_guid": "33e1c5c0-a65a-4918-8d94-db8e4c521d50",
    "_uuid": "3f082340d1b157391052f0fa20a44aa0105ce987"
   },
   "outputs": [],
   "source": [
    "# 품질이 좋고 나쁜 것을 나누는 기준 설정\n",
    "# 6.5를 기준으로 bad(0) good(1)으로 나눈다 (임의로 나눈 것임)\n",
    "bins = (2.9, 6.5, 8.1)\n",
    "#bins 구간을 나눌때 쓴다.(마지막에 8을썼더니 컴퓨터나 8을 뺴버렸다. 그래서 8을 포함시키기 위해 안전하게 8.1을 사용)\n",
    "#8만 잡게하면 성능이 좋아진다.\n",
    "group_names = [0, 1]\n",
    "wine['qual'] = pd.cut(wine['quality'], bins = bins, labels = group_names) #cut 함수 2.9 초과 6.5 이하, 6.5 초과 8.1 이하로 범위를 나눠줌"
   ]
  },
  {
   "cell_type": "markdown",
   "metadata": {},
   "source": [
    "qual이라는 새 특성으로 quality를  2.9-6.5는 0 / 6.5-8.1은 1로 나눔\n",
    "\n",
    "pandas로 cut해서 0, 1로 라벨링"
   ]
  },
  {
   "cell_type": "code",
   "execution_count": 27,
   "metadata": {},
   "outputs": [
    {
     "data": {
      "text/html": [
       "<div>\n",
       "<style scoped>\n",
       "    .dataframe tbody tr th:only-of-type {\n",
       "        vertical-align: middle;\n",
       "    }\n",
       "\n",
       "    .dataframe tbody tr th {\n",
       "        vertical-align: top;\n",
       "    }\n",
       "\n",
       "    .dataframe thead th {\n",
       "        text-align: right;\n",
       "    }\n",
       "</style>\n",
       "<table border=\"1\" class=\"dataframe\">\n",
       "  <thead>\n",
       "    <tr style=\"text-align: right;\">\n",
       "      <th></th>\n",
       "      <th>fixed acidity</th>\n",
       "      <th>volatile acidity</th>\n",
       "      <th>citric acid</th>\n",
       "      <th>residual sugar</th>\n",
       "      <th>chlorides</th>\n",
       "      <th>free sulfur dioxide</th>\n",
       "      <th>total sulfur dioxide</th>\n",
       "      <th>density</th>\n",
       "      <th>pH</th>\n",
       "      <th>sulphates</th>\n",
       "      <th>alcohol</th>\n",
       "      <th>quality</th>\n",
       "      <th>qual</th>\n",
       "    </tr>\n",
       "  </thead>\n",
       "  <tbody>\n",
       "    <tr>\n",
       "      <th>0</th>\n",
       "      <td>7.4</td>\n",
       "      <td>0.70</td>\n",
       "      <td>0.00</td>\n",
       "      <td>1.9</td>\n",
       "      <td>0.076</td>\n",
       "      <td>11.0</td>\n",
       "      <td>34.0</td>\n",
       "      <td>0.9978</td>\n",
       "      <td>3.51</td>\n",
       "      <td>0.56</td>\n",
       "      <td>9.4</td>\n",
       "      <td>5</td>\n",
       "      <td>0</td>\n",
       "    </tr>\n",
       "    <tr>\n",
       "      <th>1</th>\n",
       "      <td>7.8</td>\n",
       "      <td>0.88</td>\n",
       "      <td>0.00</td>\n",
       "      <td>2.6</td>\n",
       "      <td>0.098</td>\n",
       "      <td>25.0</td>\n",
       "      <td>67.0</td>\n",
       "      <td>0.9968</td>\n",
       "      <td>3.20</td>\n",
       "      <td>0.68</td>\n",
       "      <td>9.8</td>\n",
       "      <td>5</td>\n",
       "      <td>0</td>\n",
       "    </tr>\n",
       "    <tr>\n",
       "      <th>2</th>\n",
       "      <td>7.8</td>\n",
       "      <td>0.76</td>\n",
       "      <td>0.04</td>\n",
       "      <td>2.3</td>\n",
       "      <td>0.092</td>\n",
       "      <td>15.0</td>\n",
       "      <td>54.0</td>\n",
       "      <td>0.9970</td>\n",
       "      <td>3.26</td>\n",
       "      <td>0.65</td>\n",
       "      <td>9.8</td>\n",
       "      <td>5</td>\n",
       "      <td>0</td>\n",
       "    </tr>\n",
       "    <tr>\n",
       "      <th>3</th>\n",
       "      <td>11.2</td>\n",
       "      <td>0.28</td>\n",
       "      <td>0.56</td>\n",
       "      <td>1.9</td>\n",
       "      <td>0.075</td>\n",
       "      <td>17.0</td>\n",
       "      <td>60.0</td>\n",
       "      <td>0.9980</td>\n",
       "      <td>3.16</td>\n",
       "      <td>0.58</td>\n",
       "      <td>9.8</td>\n",
       "      <td>6</td>\n",
       "      <td>0</td>\n",
       "    </tr>\n",
       "    <tr>\n",
       "      <th>4</th>\n",
       "      <td>7.4</td>\n",
       "      <td>0.70</td>\n",
       "      <td>0.00</td>\n",
       "      <td>1.9</td>\n",
       "      <td>0.076</td>\n",
       "      <td>11.0</td>\n",
       "      <td>34.0</td>\n",
       "      <td>0.9978</td>\n",
       "      <td>3.51</td>\n",
       "      <td>0.56</td>\n",
       "      <td>9.4</td>\n",
       "      <td>5</td>\n",
       "      <td>0</td>\n",
       "    </tr>\n",
       "  </tbody>\n",
       "</table>\n",
       "</div>"
      ],
      "text/plain": [
       "   fixed acidity  volatile acidity  citric acid  residual sugar  chlorides  \\\n",
       "0            7.4              0.70         0.00             1.9      0.076   \n",
       "1            7.8              0.88         0.00             2.6      0.098   \n",
       "2            7.8              0.76         0.04             2.3      0.092   \n",
       "3           11.2              0.28         0.56             1.9      0.075   \n",
       "4            7.4              0.70         0.00             1.9      0.076   \n",
       "\n",
       "   free sulfur dioxide  total sulfur dioxide  density    pH  sulphates  \\\n",
       "0                 11.0                  34.0   0.9978  3.51       0.56   \n",
       "1                 25.0                  67.0   0.9968  3.20       0.68   \n",
       "2                 15.0                  54.0   0.9970  3.26       0.65   \n",
       "3                 17.0                  60.0   0.9980  3.16       0.58   \n",
       "4                 11.0                  34.0   0.9978  3.51       0.56   \n",
       "\n",
       "   alcohol  quality qual  \n",
       "0      9.4        5    0  \n",
       "1      9.8        5    0  \n",
       "2      9.8        5    0  \n",
       "3      9.8        6    0  \n",
       "4      9.4        5    0  "
      ]
     },
     "execution_count": 27,
     "metadata": {},
     "output_type": "execute_result"
    }
   ],
   "source": [
    "wine.head(5)"
   ]
  },
  {
   "cell_type": "markdown",
   "metadata": {},
   "source": [
    "qual이란 특성이 추가됨"
   ]
  },
  {
   "cell_type": "code",
   "execution_count": 28,
   "metadata": {
    "_cell_guid": "2fe7339e-837e-48c0-b988-a36c89632844",
    "_uuid": "d2a4c7e14dc6b8faa31efd1fcbe4f61b80a7d3e1"
   },
   "outputs": [
    {
     "data": {
      "text/plain": [
       "0    1382\n",
       "1     217\n",
       "Name: qual, dtype: int64"
      ]
     },
     "execution_count": 28,
     "metadata": {},
     "output_type": "execute_result"
    }
   ],
   "source": [
    "wine['qual'].value_counts()"
   ]
  },
  {
   "cell_type": "markdown",
   "metadata": {},
   "source": [
    "- 2.9~6.5는 1382개\n",
    "- 6.5~8.1은 217개로 나뉨"
   ]
  },
  {
   "cell_type": "code",
   "execution_count": 197,
   "metadata": {
    "_cell_guid": "ba89712a-ad66-4a92-9214-4e35c3802d59",
    "_uuid": "b893deb26bb309c914de12aadf9ad8437deb8358"
   },
   "outputs": [],
   "source": [
    "# 예측변수와 레이블을 나눈다\n",
    "# X 데이터에서는 'quality'와 'qual' 컬럼 제거\n",
    "# y는 레이블만 담는다\n",
    "\n",
    "X_new = wine.drop(['quality', 'qual'], axis = 1)\n",
    "y_ = wine['quality'] # regression 용\n",
    "y = wine['qual'] "
   ]
  },
  {
   "cell_type": "code",
   "execution_count": 30,
   "metadata": {
    "scrolled": true
   },
   "outputs": [
    {
     "data": {
      "text/html": [
       "<div>\n",
       "<style scoped>\n",
       "    .dataframe tbody tr th:only-of-type {\n",
       "        vertical-align: middle;\n",
       "    }\n",
       "\n",
       "    .dataframe tbody tr th {\n",
       "        vertical-align: top;\n",
       "    }\n",
       "\n",
       "    .dataframe thead th {\n",
       "        text-align: right;\n",
       "    }\n",
       "</style>\n",
       "<table border=\"1\" class=\"dataframe\">\n",
       "  <thead>\n",
       "    <tr style=\"text-align: right;\">\n",
       "      <th></th>\n",
       "      <th>fixed acidity</th>\n",
       "      <th>volatile acidity</th>\n",
       "      <th>citric acid</th>\n",
       "      <th>residual sugar</th>\n",
       "      <th>chlorides</th>\n",
       "      <th>free sulfur dioxide</th>\n",
       "      <th>total sulfur dioxide</th>\n",
       "      <th>density</th>\n",
       "      <th>pH</th>\n",
       "      <th>sulphates</th>\n",
       "      <th>alcohol</th>\n",
       "    </tr>\n",
       "  </thead>\n",
       "  <tbody>\n",
       "    <tr>\n",
       "      <th>0</th>\n",
       "      <td>7.4</td>\n",
       "      <td>0.70</td>\n",
       "      <td>0.00</td>\n",
       "      <td>1.9</td>\n",
       "      <td>0.076</td>\n",
       "      <td>11.0</td>\n",
       "      <td>34.0</td>\n",
       "      <td>0.9978</td>\n",
       "      <td>3.51</td>\n",
       "      <td>0.56</td>\n",
       "      <td>9.4</td>\n",
       "    </tr>\n",
       "    <tr>\n",
       "      <th>1</th>\n",
       "      <td>7.8</td>\n",
       "      <td>0.88</td>\n",
       "      <td>0.00</td>\n",
       "      <td>2.6</td>\n",
       "      <td>0.098</td>\n",
       "      <td>25.0</td>\n",
       "      <td>67.0</td>\n",
       "      <td>0.9968</td>\n",
       "      <td>3.20</td>\n",
       "      <td>0.68</td>\n",
       "      <td>9.8</td>\n",
       "    </tr>\n",
       "    <tr>\n",
       "      <th>2</th>\n",
       "      <td>7.8</td>\n",
       "      <td>0.76</td>\n",
       "      <td>0.04</td>\n",
       "      <td>2.3</td>\n",
       "      <td>0.092</td>\n",
       "      <td>15.0</td>\n",
       "      <td>54.0</td>\n",
       "      <td>0.9970</td>\n",
       "      <td>3.26</td>\n",
       "      <td>0.65</td>\n",
       "      <td>9.8</td>\n",
       "    </tr>\n",
       "    <tr>\n",
       "      <th>3</th>\n",
       "      <td>11.2</td>\n",
       "      <td>0.28</td>\n",
       "      <td>0.56</td>\n",
       "      <td>1.9</td>\n",
       "      <td>0.075</td>\n",
       "      <td>17.0</td>\n",
       "      <td>60.0</td>\n",
       "      <td>0.9980</td>\n",
       "      <td>3.16</td>\n",
       "      <td>0.58</td>\n",
       "      <td>9.8</td>\n",
       "    </tr>\n",
       "    <tr>\n",
       "      <th>4</th>\n",
       "      <td>7.4</td>\n",
       "      <td>0.70</td>\n",
       "      <td>0.00</td>\n",
       "      <td>1.9</td>\n",
       "      <td>0.076</td>\n",
       "      <td>11.0</td>\n",
       "      <td>34.0</td>\n",
       "      <td>0.9978</td>\n",
       "      <td>3.51</td>\n",
       "      <td>0.56</td>\n",
       "      <td>9.4</td>\n",
       "    </tr>\n",
       "  </tbody>\n",
       "</table>\n",
       "</div>"
      ],
      "text/plain": [
       "   fixed acidity  volatile acidity  citric acid  residual sugar  chlorides  \\\n",
       "0            7.4              0.70         0.00             1.9      0.076   \n",
       "1            7.8              0.88         0.00             2.6      0.098   \n",
       "2            7.8              0.76         0.04             2.3      0.092   \n",
       "3           11.2              0.28         0.56             1.9      0.075   \n",
       "4            7.4              0.70         0.00             1.9      0.076   \n",
       "\n",
       "   free sulfur dioxide  total sulfur dioxide  density    pH  sulphates  \\\n",
       "0                 11.0                  34.0   0.9978  3.51       0.56   \n",
       "1                 25.0                  67.0   0.9968  3.20       0.68   \n",
       "2                 15.0                  54.0   0.9970  3.26       0.65   \n",
       "3                 17.0                  60.0   0.9980  3.16       0.58   \n",
       "4                 11.0                  34.0   0.9978  3.51       0.56   \n",
       "\n",
       "   alcohol  \n",
       "0      9.4  \n",
       "1      9.8  \n",
       "2      9.8  \n",
       "3      9.8  \n",
       "4      9.4  "
      ]
     },
     "execution_count": 30,
     "metadata": {},
     "output_type": "execute_result"
    }
   ],
   "source": [
    "X_new.head(5)\n",
    "\n",
    "#quality와 qual이 빠진 데이터셋"
   ]
  },
  {
   "cell_type": "code",
   "execution_count": 31,
   "metadata": {},
   "outputs": [
    {
     "data": {
      "text/plain": [
       "0    1382\n",
       "1     217\n",
       "Name: qual, dtype: int64"
      ]
     },
     "execution_count": 31,
     "metadata": {},
     "output_type": "execute_result"
    }
   ],
   "source": [
    "y.value_counts()\n",
    "\n",
    "# = wine['qual'].value_counts()"
   ]
  },
  {
   "cell_type": "markdown",
   "metadata": {},
   "source": [
    "표준 스케일링\n",
    "--\n",
    "\n",
    "전체 자료의 분포를 평균 0, 분산 1이 되도록 만든다.  \n",
    "X에는 수치 데이터만 들어야 한다.  \n",
    "테스트 데이터도 같이 스케일링하는 것을 잊지 않는다"
   ]
  },
  {
   "cell_type": "code",
   "execution_count": 198,
   "metadata": {
    "_cell_guid": "d7703d9a-3397-4c42-9b38-6f341cac1cde",
    "_uuid": "bdfc0f6ba146f947f265fd493e8327366fdb5c9a"
   },
   "outputs": [],
   "source": [
    "# 데이터를 랜덤하게 섞은 후 80%를 훈련데이터로 사용\n",
    "# random_state 같은 값으로 지정하면 랜덤하게 섞이는 순서가 같다.\n",
    "X_train, X_test, y_train, y_test = train_test_split(X_new, y, test_size = 0.2, random_state = 7) # 분류용 = qual\n",
    "X_train_, X_test_, y_train_, y_test_ = train_test_split(X_new, y_, test_size = 0.2, random_state = 7) # 회귀용 = quality\n",
    "\n",
    "#직접 실습을 해보는데 지금은 80%이지만 다르게 할 수도 있다.\n",
    "#위에 모델을 바꿔서 6.5가 맛있다가 아니라 8만 맛있다 등 바꿔본다."
   ]
  },
  {
   "cell_type": "code",
   "execution_count": 33,
   "metadata": {},
   "outputs": [
    {
     "data": {
      "text/plain": [
       "((1279, 11), (1279,))"
      ]
     },
     "execution_count": 33,
     "metadata": {},
     "output_type": "execute_result"
    }
   ],
   "source": [
    "X_train.shape, y_train.shape"
   ]
  },
  {
   "cell_type": "code",
   "execution_count": 34,
   "metadata": {
    "scrolled": true
   },
   "outputs": [
    {
     "data": {
      "text/plain": [
       "((320, 11), (320,))"
      ]
     },
     "execution_count": 34,
     "metadata": {},
     "output_type": "execute_result"
    }
   ],
   "source": [
    "X_test.shape, y_test.shape"
   ]
  },
  {
   "cell_type": "code",
   "execution_count": 35,
   "metadata": {},
   "outputs": [],
   "source": [
    "sc = StandardScaler().fit(X_train)\n",
    "\n",
    "X_train = sc.transform(X_train)\n",
    "X_test = sc.transform(X_test)\n",
    "\n",
    "X_train_ = sc.transform(X_train_)\n",
    "X_test_ = sc.transform(X_test_)\n",
    "\n",
    "\n",
    "\n",
    "#fit을 하고 transform을 한번에 한것, 코드를 줄여주기 위해서\n",
    "#fit은 데이터를 읽고 평균과 시그마를 구한다. (하나의 모델을 만듬, 여기에 들어가는 파라미터가 평균과 시그마) -> 스케일링 하기위한 상수구하기\n",
    "#transform은 실제 값들을 넣어서 나오는 값들\n",
    "\n",
    "#원래는 데이터를 자체적으로 나눠서 cross valredation을 해야한다. 하지만 지금은 통으로했다."
   ]
  },
  {
   "cell_type": "markdown",
   "metadata": {},
   "source": [
    "1279 : 320로 훈련 : 테스트 데이터 셋으로 나뉨"
   ]
  },
  {
   "cell_type": "markdown",
   "metadata": {},
   "source": [
    "# 1. 분류"
   ]
  },
  {
   "cell_type": "markdown",
   "metadata": {},
   "source": [
    "## KNN(K-최근접 이웃)"
   ]
  },
  {
   "cell_type": "code",
   "execution_count": 36,
   "metadata": {
    "scrolled": true
   },
   "outputs": [
    {
     "name": "stdout",
     "output_type": "stream",
     "text": [
      "0.9033373112217604\n",
      "0.8824013157894737\n"
     ]
    },
    {
     "data": {
      "image/png": "[encoded data removed]",
      "text/plain": [
       "<Figure size 432x288 with 1 Axes>"
      ]
     },
     "metadata": {
      "needs_background": "light"
     },
     "output_type": "display_data"
    }
   ],
   "source": [
    "#clf = KNeighborsClassifier(n_neighbors=3)\n",
    "#clf = clf.fit(X_train, y_train)\n",
    "#clf.score(X_test,y_test)\n",
    "\n",
    "rang = range(1,20)\n",
    "score_train = []\n",
    "score_test = []\n",
    "\n",
    "for k in rang:\n",
    "    knn = KNeighborsClassifier(n_neighbors=k).fit(X_train, y_train)\n",
    "    score_train.append(knn.score(X_train, y_train))\n",
    "    score_test.append(knn.score(X_test, y_test))\n",
    "    \n",
    "plt.plot(rang, score_train, label='train')\n",
    "plt.plot(rang, score_test, label='test')\n",
    "plt.legend()\n",
    "plt.xlabel(\"n_neighbors\")\n",
    "plt.ylim(0.8,1)\n",
    "plt.xticks(range(0,20))\n",
    "plt.title(\"KNN\")\n",
    "\n",
    "print(np.array(score_train).mean())\n",
    "print(np.array(score_test).mean())"
   ]
  },
  {
   "cell_type": "markdown",
   "metadata": {},
   "source": [
    "이웃수가 늘어날수록 훈련데이터의 과적합 정도가 풀림\n",
    "\n",
    "테스트 데이터의 경우는 비슷한 정확도를 보인다"
   ]
  },
  {
   "cell_type": "code",
   "execution_count": 37,
   "metadata": {},
   "outputs": [
    {
     "name": "stdout",
     "output_type": "stream",
     "text": [
      "1.0\n",
      "0.9001644736842105\n"
     ]
    },
    {
     "data": {
      "image/png": "[encoded data removed]",
      "text/plain": [
       "<Figure size 432x288 with 1 Axes>"
      ]
     },
     "metadata": {
      "needs_background": "light"
     },
     "output_type": "display_data"
    }
   ],
   "source": [
    "#clf = KNeighborsClassifier(n_neighbors=3)\n",
    "#clf = clf.fit(X_train, y_train)\n",
    "#clf.score(X_test,y_test)\n",
    "\n",
    "rang = range(1,20)\n",
    "score_train = []\n",
    "score_test = []\n",
    "\n",
    "for k in rang:\n",
    "    knn = KNeighborsClassifier(n_neighbors=k, weights='distance').fit(X_train, y_train)\n",
    "    score_train.append(knn.score(X_train, y_train))\n",
    "    score_test.append(knn.score(X_test, y_test))\n",
    "    \n",
    "plt.plot(rang, score_train, label='train')\n",
    "plt.plot(rang, score_test, label='test')\n",
    "plt.legend()\n",
    "plt.xlabel(\"n_neighbors\")\n",
    "plt.ylim(0.8,1.1)\n",
    "plt.title(\"KNN\")\n",
    "plt.xticks(range(0,20))\n",
    "\n",
    "\n",
    "print(np.array(score_train).mean())\n",
    "print(np.array(score_test).mean())"
   ]
  },
  {
   "cell_type": "markdown",
   "metadata": {},
   "source": [
    "- 이웃 거리에 가중치를 주어서 테스트 한 결과. 훈련 데이터는 다 과적합.\n",
    "- 클래스별로 가깝게 밀집되어 있어서 그 영향을 많이 받는 것 같다"
   ]
  },
  {
   "cell_type": "markdown",
   "metadata": {},
   "source": [
    "결정 트리 (Decesion Tree)\n",
    "--"
   ]
  },
  {
   "cell_type": "code",
   "execution_count": 38,
   "metadata": {},
   "outputs": [
    {
     "name": "stdout",
     "output_type": "stream",
     "text": [
      "0.965285379202502\n",
      "0.86265625\n"
     ]
    },
    {
     "data": {
      "image/png": "[encoded data removed]",
      "text/plain": [
       "<Figure size 432x288 with 1 Axes>"
      ]
     },
     "metadata": {
      "needs_background": "light"
     },
     "output_type": "display_data"
    }
   ],
   "source": [
    "rang = range(1,21)\n",
    "score_train = []\n",
    "score_test = []\n",
    "for d in rang:\n",
    "    clf = tree.DecisionTreeClassifier(max_depth=d,random_state=0).fit(X_train, y_train)\n",
    "    score_train.append(clf.score(X_train, y_train))\n",
    "    score_test.append(clf.score(X_test, y_test))\n",
    "    \n",
    "plt.plot(rang, score_train, label='train')\n",
    "plt.plot(rang, score_test, label='test')\n",
    "plt.legend()\n",
    "plt.xlabel(\"max_depth\")\n",
    "plt.ylim(0.8,1)\n",
    "plt.title(\"Decision Tree\")\n",
    "plt.xticks(range(1,21))\n",
    "\n",
    "print(np.array(score_train).mean())\n",
    "print(np.array(score_test).mean())"
   ]
  },
  {
   "cell_type": "markdown",
   "metadata": {},
   "source": [
    "최대 깊이가 커질수록 훈련 데이터는 과적합됨\n",
    "\n",
    "테스트 데이터는 반대로 2에서 가장 높은 성능을 보이고 살짝 떨어짐\n",
    "\n",
    "깊이 2로 자른 트리에서 데이터가 잘 분류됐던 모양임"
   ]
  },
  {
   "cell_type": "code",
   "execution_count": 39,
   "metadata": {},
   "outputs": [
    {
     "data": {
      "image/png": "[encoded data removed]",
      "text/plain": [
       "<Figure size 432x288 with 1 Axes>"
      ]
     },
     "metadata": {
      "needs_background": "light"
     },
     "output_type": "display_data"
    }
   ],
   "source": [
    "from sklearn.tree import plot_tree\n",
    "\n",
    "dt = tree.DecisionTreeClassifier(random_state=0).fit(X_train, y_train)\n",
    "plot_tree(dt, max_depth=2, filled=True)\n",
    "plt.show()\n",
    "\n",
    "#깊이 2에서의 트리"
   ]
  },
  {
   "cell_type": "code",
   "execution_count": 40,
   "metadata": {},
   "outputs": [
    {
     "data": {
      "image/png": "[encoded data removed]",
      "text/plain": [
       "<Figure size 432x288 with 1 Axes>"
      ]
     },
     "metadata": {
      "needs_background": "light"
     },
     "output_type": "display_data"
    }
   ],
   "source": [
    "dt = tree.DecisionTreeClassifier(random_state=0).fit(X_train, y_train)\n",
    "plot_tree(dt, max_depth=16, filled=True)\n",
    "plt.show()\n",
    "\n",
    "#16에서의 트리\n"
   ]
  },
  {
   "cell_type": "markdown",
   "metadata": {},
   "source": [
    "16일때 전부 순수리프노드다"
   ]
  },
  {
   "cell_type": "code",
   "execution_count": 41,
   "metadata": {
    "scrolled": true
   },
   "outputs": [
    {
     "name": "stdout",
     "output_type": "stream",
     "text": [
      "0.9976544175136826\n",
      "1.0\n"
     ]
    }
   ],
   "source": [
    "dt = tree.DecisionTreeClassifier(max_depth = 15,random_state=0).fit(X_train, y_train)\n",
    "print(dt.score(X_train, y_train))\n",
    "\n",
    "dt = tree.DecisionTreeClassifier(max_depth = 16,random_state=0).fit(X_train, y_train)\n",
    "print(dt.score(X_train, y_train))\n",
    "\n",
    "# max_depth에 따른 훈련 데이터 정확도. 16에서 1로 완전과적합됨"
   ]
  },
  {
   "cell_type": "code",
   "execution_count": 42,
   "metadata": {},
   "outputs": [],
   "source": [
    "# wine의 중요도 함수\n",
    "def plot_feature_importances_wine(model):\n",
    "    n_features = 11\n",
    "    plt.barh(range(n_features), model.feature_importances_, align='center')\n",
    "    plt.yticks(np.arange(n_features), wine.columns[:11])\n",
    "    plt.xlabel(\"특성 중요도\")\n",
    "    plt.ylabel(\"특성\")\n",
    "    plt.ylim(-1, n_features)\n",
    "    plt.xlim(0,1)\n",
    "    plt.grid()"
   ]
  },
  {
   "cell_type": "code",
   "execution_count": 43,
   "metadata": {},
   "outputs": [
    {
     "name": "stdout",
     "output_type": "stream",
     "text": [
      "3\n"
     ]
    },
    {
     "data": {
      "image/png": "[encoded data removed]",
      "text/plain": [
       "<Figure size 432x288 with 1 Axes>"
      ]
     },
     "metadata": {
      "needs_background": "light"
     },
     "output_type": "display_data"
    }
   ],
   "source": [
    "dt = tree.DecisionTreeClassifier(max_depth = 2,random_state=0).fit(X_train, y_train)\n",
    "\n",
    "print(np.sum(dt.feature_importances_!=0))\n",
    "\n",
    "plot_feature_importances_wine(dt)"
   ]
  },
  {
   "cell_type": "markdown",
   "metadata": {},
   "source": [
    "알코올의 중요도가 가장 높다"
   ]
  },
  {
   "cell_type": "code",
   "execution_count": 44,
   "metadata": {},
   "outputs": [
    {
     "name": "stdout",
     "output_type": "stream",
     "text": [
      "11\n"
     ]
    },
    {
     "data": {
      "image/png": "[encoded data removed]",
      "text/plain": [
       "<Figure size 432x288 with 1 Axes>"
      ]
     },
     "metadata": {
      "needs_background": "light"
     },
     "output_type": "display_data"
    }
   ],
   "source": [
    "dt = tree.DecisionTreeClassifier(max_depth = 16,random_state=0).fit(X_train, y_train)\n",
    "\n",
    "print(np.sum(dt.feature_importances_!=0))\n",
    "\n",
    "plot_feature_importances_wine(dt)"
   ]
  },
  {
   "cell_type": "markdown",
   "metadata": {},
   "source": [
    "깊이를 늘려서 뽑은 특성 중요도. 역시 알코올이 가장 높고 리프 노드까지 갔기 때문에 모든 특성이 다 사용됐다"
   ]
  },
  {
   "cell_type": "code",
   "execution_count": 45,
   "metadata": {},
   "outputs": [
    {
     "name": "stdout",
     "output_type": "stream",
     "text": [
      "0.9589132134480064\n",
      "0.8796874999999998\n"
     ]
    },
    {
     "data": {
      "image/png": "[encoded data removed]",
      "text/plain": [
       "<Figure size 432x288 with 1 Axes>"
      ]
     },
     "metadata": {
      "needs_background": "light"
     },
     "output_type": "display_data"
    }
   ],
   "source": [
    "rang = range(1,21)\n",
    "score_train = []\n",
    "score_test = []\n",
    "for d in rang:\n",
    "    clf = tree.DecisionTreeClassifier(random_state=0, max_depth=d, criterion='entropy').fit(X_train, y_train)\n",
    "    score_train.append(clf.score(X_train, y_train))\n",
    "    score_test.append(clf.score(X_test, y_test))\n",
    "    \n",
    "plt.plot(rang, score_train, label='train')\n",
    "plt.plot(rang, score_test, label='test')\n",
    "plt.legend()\n",
    "plt.xlabel(\"max_depth\")\n",
    "plt.ylim(0.8,1)\n",
    "plt.title(\"DecisionTree entropy\")\n",
    "plt.xticks(range(1,21))\n",
    "\n",
    "print(np.array(score_train).mean())\n",
    "print(np.array(score_test).mean())"
   ]
  },
  {
   "cell_type": "markdown",
   "metadata": {},
   "source": [
    "엔트로피로 손실 계산을 했을땐 지니지수보다 테스트 세트 점수가 차이가 크지 않다"
   ]
  },
  {
   "cell_type": "code",
   "execution_count": 199,
   "metadata": {},
   "outputs": [
    {
     "data": {
      "text/plain": [
       "array([[271,   8],\n",
       "       [ 23,  18]], dtype=int64)"
      ]
     },
     "execution_count": 199,
     "metadata": {},
     "output_type": "execute_result"
    }
   ],
   "source": [
    "df = tree.DecisionTreeClassifier(max_depth=2,random_state=0).fit(X_train, y_train)\n",
    "\n",
    "confusion_matrix( y_test, df.predict(X_test))\n"
   ]
  },
  {
   "cell_type": "code",
   "execution_count": 200,
   "metadata": {},
   "outputs": [
    {
     "data": {
      "text/plain": [
       "array([[246,  33],\n",
       "       [ 16,  25]], dtype=int64)"
      ]
     },
     "execution_count": 200,
     "metadata": {},
     "output_type": "execute_result"
    }
   ],
   "source": [
    "df = tree.DecisionTreeClassifier(max_depth=16,random_state=0).fit(X_train, y_train)\n",
    "confusion_matrix( y_test, df.predict(X_test))\n"
   ]
  },
  {
   "cell_type": "markdown",
   "metadata": {},
   "source": [
    "혼돈 행렬 결과"
   ]
  },
  {
   "cell_type": "markdown",
   "metadata": {
    "_cell_guid": "0a12868b-8780-43b9-ae70-4c849407aac6",
    "_uuid": "093572f70cda59063611c1c888974e6a863ec7ef"
   },
   "source": [
    "## 랜덤 포래스트 (Random Forest Classifier)"
   ]
  },
  {
   "cell_type": "code",
   "execution_count": 48,
   "metadata": {},
   "outputs": [
    {
     "name": "stdout",
     "output_type": "stream",
     "text": [
      "0.9524181838489892\n",
      "0.8745535714285715\n"
     ]
    },
    {
     "data": {
      "image/png": "[encoded data removed]",
      "text/plain": [
       "<Figure size 432x288 with 1 Axes>"
      ]
     },
     "metadata": {
      "needs_background": "light"
     },
     "output_type": "display_data"
    }
   ],
   "source": [
    "rang = [1,5,10,20,30,40,50]\n",
    "score_train = []\n",
    "score_test = []\n",
    "for n in rang:\n",
    "    rfc = RandomForestClassifier(max_depth=7, n_estimators=n, random_state=0).fit(X_train, y_train)\n",
    "   \n",
    "    score_train.append(rfc.score(X_train, y_train))\n",
    "    score_test.append(rfc.score(X_test, y_test))\n",
    "    \n",
    "plt.plot(rang, score_train, label='train')\n",
    "plt.plot(rang, score_test, label='test')\n",
    "plt.ylim(0.8,1)\n",
    "plt.legend()\n",
    "plt.title(\"RandomForest\")\n",
    "\n",
    "plt.xlabel(\"n_estimators\")\n",
    "\n",
    "print(np.array(score_train).mean())\n",
    "print(np.array(score_test).mean())\n",
    "\n",
    "#estimators에 따른 결과"
   ]
  },
  {
   "cell_type": "markdown",
   "metadata": {},
   "source": [
    "estimators 수에 따른 정확도\n",
    "\n",
    "- 훈련 데이터는 처음에 살짝 상승하고 비슷한 정도의 정확도를 가짐\n",
    "- 테스트 데이터도 처음에 조금 상승하고 이후로는 비슷하다"
   ]
  },
  {
   "cell_type": "code",
   "execution_count": 49,
   "metadata": {},
   "outputs": [
    {
     "name": "stdout",
     "output_type": "stream",
     "text": [
      "0.932447224394058\n",
      "0.89125\n"
     ]
    },
    {
     "data": {
      "image/png": "[encoded data removed]",
      "text/plain": [
       "<Figure size 432x288 with 1 Axes>"
      ]
     },
     "metadata": {
      "needs_background": "light"
     },
     "output_type": "display_data"
    }
   ],
   "source": [
    "rang = np.linspace(1,10, 10)\n",
    "score_train = []\n",
    "score_test = []\n",
    "for d in rang:\n",
    "    rfc = RandomForestClassifier(max_depth=d, n_estimators=100, random_state=0).fit(X_train, y_train)\n",
    "    score_train.append(rfc.score(X_train, y_train))\n",
    "    score_test.append(rfc.score(X_test, y_test))\n",
    "    \n",
    "plt.plot(rang, score_train, label='train')\n",
    "plt.plot(rang, score_test, label='test')\n",
    "plt.ylim(0.8,1)\n",
    "plt.legend()\n",
    "plt.title(\"RandomForest\")\n",
    "plt.xlabel(\"max_depth\")\n",
    "\n",
    "\n",
    "\n",
    "print(np.array(score_train).mean())\n",
    "print(np.array(score_test).mean())\n",
    "\n",
    "#estimators에 따른 결과"
   ]
  },
  {
   "cell_type": "markdown",
   "metadata": {},
   "source": [
    "처음엔 훈련과 테스트가 비슷하다가 훈련세트는 max_depth가 커질수록 과적합됨\n",
    "\n",
    "테스트 데이터는 처음에 조금 상승하다가 이후로는 비슷한 수준을 유지함"
   ]
  },
  {
   "cell_type": "code",
   "execution_count": 50,
   "metadata": {},
   "outputs": [
    {
     "data": {
      "image/png": "[encoded data removed]",
      "text/plain": [
       "<Figure size 432x288 with 1 Axes>"
      ]
     },
     "metadata": {
      "needs_background": "light"
     },
     "output_type": "display_data"
    }
   ],
   "source": [
    "rf = RandomForestClassifier(max_depth=3, random_state=0).fit(X_train, y_train)\n",
    "plot_feature_importances_wine(rf)"
   ]
  },
  {
   "cell_type": "markdown",
   "metadata": {},
   "source": [
    "랜덤 포레스트 에서의 특성 중요도. 역시 알코올이 가장 높음"
   ]
  },
  {
   "cell_type": "markdown",
   "metadata": {},
   "source": [
    "## 그라디언트 부스팅 (Gradient Boosting Classifier)"
   ]
  },
  {
   "cell_type": "code",
   "execution_count": 51,
   "metadata": {},
   "outputs": [
    {
     "name": "stdout",
     "output_type": "stream",
     "text": [
      "0.9584050039093042\n",
      "0.881875\n"
     ]
    },
    {
     "data": {
      "image/png": "[encoded data removed]",
      "text/plain": [
       "<Figure size 432x288 with 1 Axes>"
      ]
     },
     "metadata": {
      "needs_background": "light"
     },
     "output_type": "display_data"
    }
   ],
   "source": [
    "\n",
    "rang = [0.001, 0.01, 0.1, 0.5, 1]\n",
    "score_test = []\n",
    "score_train = []\n",
    "for r in rang:\n",
    "    GBC = GradientBoostingClassifier(max_depth=5, n_estimators=100, learning_rate=r, random_state=42).fit(X_train, y_train)\n",
    "    score_test.append(GBC.score(X_test, y_test))\n",
    "    score_train.append(GBC.score(X_train, y_train))\n",
    "plt.plot(rang, score_train, label='train')\n",
    "plt.plot(rang, score_test, label='test')\n",
    "plt.ylim(0.8,1)\n",
    "plt.legend()\n",
    "plt.xlabel(\"learning_rate\")\n",
    "plt.title(\"GradientBoosting\")\n",
    "\n",
    "\n",
    "\n",
    "print(np.array(score_train).mean())\n",
    "print(np.array(score_test).mean())\n",
    "\n",
    "#learning rate에 따른 결과"
   ]
  },
  {
   "cell_type": "code",
   "execution_count": 52,
   "metadata": {},
   "outputs": [
    {
     "name": "stdout",
     "output_type": "stream",
     "text": [
      "0.9476897874083176\n",
      "0.8922619047619048\n"
     ]
    },
    {
     "data": {
      "image/png": "[encoded data removed]",
      "text/plain": [
       "<Figure size 432x288 with 1 Axes>"
      ]
     },
     "metadata": {
      "needs_background": "light"
     },
     "output_type": "display_data"
    }
   ],
   "source": [
    "rang = [1,2,5,10,15,20,30,50,70,90,100,110,120,130,140,150,160,170,180,190,200]\n",
    "score_test = []\n",
    "score_train = []\n",
    "for d in rang:\n",
    "    GBC = GradientBoostingClassifier(max_depth=3, n_estimators=d, random_state=42).fit(X_train, y_train)\n",
    "    score_test.append(GBC.score(X_test, y_test))\n",
    "    score_train.append(GBC.score(X_train, y_train))\n",
    "plt.plot(rang, score_train, label='train')\n",
    "plt.plot(rang, score_test, label='test')\n",
    "plt.ylim(0.8,1)\n",
    "plt.legend()\n",
    "plt.title(\"Gradient Boosting\")\n",
    "plt.xlabel(\"n_estimators\")\n",
    "\n",
    "\n",
    "print(np.array(score_train).mean())\n",
    "print(np.array(score_test).mean())\n",
    "\n",
    "\n",
    "#n_estimators에 따른 결과"
   ]
  },
  {
   "cell_type": "markdown",
   "metadata": {},
   "source": [
    "테스트 데이터는 비슷한 점수대다\n",
    "\n",
    "훈련 데이터는 급상승하여 과적합된다. > 부스팅 모델은 과적합이 잘 됨."
   ]
  },
  {
   "cell_type": "code",
   "execution_count": 53,
   "metadata": {
    "scrolled": true
   },
   "outputs": [
    {
     "name": "stdout",
     "output_type": "stream",
     "text": [
      "0.9791243158717748\n",
      "0.8837499999999998\n"
     ]
    },
    {
     "data": {
      "image/png": "[encoded data removed]",
      "text/plain": [
       "<Figure size 432x288 with 1 Axes>"
      ]
     },
     "metadata": {
      "needs_background": "light"
     },
     "output_type": "display_data"
    }
   ],
   "source": [
    "rang = np.linspace(1,10, 10)\n",
    "score_test = []\n",
    "score_train = []\n",
    "for d in rang:\n",
    "    GBC = GradientBoostingClassifier(max_depth=d, n_estimators=100, random_state=42).fit(X_train, y_train)\n",
    "    score_test.append(GBC.score(X_test, y_test))\n",
    "    score_train.append(GBC.score(X_train, y_train))\n",
    "plt.plot(rang, score_train, label='train')\n",
    "plt.plot(rang, score_test, label='test')\n",
    "plt.ylim(0.8,1)\n",
    "plt.legend()\n",
    "plt.title(\"Gradient Boosting\")\n",
    "plt.xlabel(\"max_depth\")\n",
    "\n",
    "\n",
    "print(np.array(score_train).mean())\n",
    "print(np.array(score_test).mean())\n",
    "\n",
    "\n",
    "#max_depth에 따른 결과"
   ]
  },
  {
   "cell_type": "markdown",
   "metadata": {},
   "source": [
    "역시 훈련 데이터는 깊이가 깊어질수록 과적합된다\n",
    "\n",
    "테스트 데이터는 조금씩 변동이 있지만 비슷한 점수대를 유지한다"
   ]
  },
  {
   "cell_type": "markdown",
   "metadata": {},
   "source": [
    "## GaussianNB"
   ]
  },
  {
   "cell_type": "code",
   "execution_count": 54,
   "metadata": {},
   "outputs": [
    {
     "name": "stdout",
     "output_type": "stream",
     "text": [
      "train score  0.8467552775605942\n",
      "test score 0.828125\n"
     ]
    }
   ],
   "source": [
    "from sklearn.naive_bayes import GaussianNB\n",
    "\n",
    "nb = GaussianNB().fit(X_train, y_train)\n",
    "\n",
    "\n",
    "print(\"train score \" ,nb.score(X_train, y_train))\n",
    "print(\"test score\", nb.score(X_test, y_test))\n",
    "\n"
   ]
  },
  {
   "cell_type": "markdown",
   "metadata": {},
   "source": [
    "비교적 정확도가 훈련, 테스트 모두 떨어진다"
   ]
  },
  {
   "cell_type": "markdown",
   "metadata": {},
   "source": [
    "## MLPClassifier"
   ]
  },
  {
   "cell_type": "code",
   "execution_count": 109,
   "metadata": {},
   "outputs": [
    {
     "name": "stdout",
     "output_type": "stream",
     "text": [
      "train score  0.962470680218921\n",
      "test score 0.875\n"
     ]
    }
   ],
   "source": [
    "from sklearn.neural_network import MLPClassifier\n",
    "\n",
    "mp = MLPClassifier(random_state=0, max_iter=2000,hidden_layer_sizes=(100,)).fit(X_train, y_train)\n",
    "print(\"train score \" ,mp.score(X_train, y_train))\n",
    "print(\"test score\", mp.score(X_test, y_test))\n",
    "\n"
   ]
  },
  {
   "cell_type": "code",
   "execution_count": 56,
   "metadata": {},
   "outputs": [
    {
     "name": "stdout",
     "output_type": "stream",
     "text": [
      "0.8852071931196245\n",
      "0.8775625000000001\n"
     ]
    },
    {
     "data": {
      "image/png": "[encoded data removed]",
      "text/plain": [
       "<Figure size 432x288 with 1 Axes>"
      ]
     },
     "metadata": {
      "needs_background": "light"
     },
     "output_type": "display_data"
    }
   ],
   "source": [
    "\n",
    "rang = np.linspace(0.0001,10)\n",
    "score_test = []\n",
    "score_train = []\n",
    "for a in rang:\n",
    "    mlp = MLPClassifier(alpha=a, random_state=0, max_iter=5000).fit(X_train, y_train)\n",
    "    score_test.append(mlp.score(X_test, y_test))\n",
    "    score_train.append(mlp.score(X_train, y_train))\n",
    "    \n",
    "plt.plot(rang, score_train, label='train')\n",
    "plt.plot(rang, score_test, label='test')\n",
    "plt.ylim(0.8,1)\n",
    "plt.legend()\n",
    "plt.title(\"mlp\")\n",
    "plt.xlabel(\"alpha\")\n",
    "\n",
    "\n",
    "print(np.array(score_train).mean())\n",
    "print(np.array(score_test).mean())\n"
   ]
  },
  {
   "cell_type": "markdown",
   "metadata": {},
   "source": [
    "규제 alpha에 따른 결과. 규제가 강화될수록 훈련 데이터는 과대 적합에서 벗어남"
   ]
  },
  {
   "cell_type": "markdown",
   "metadata": {},
   "source": [
    "##  정적 평가, 혼돈 매트릭스 (confusion_matrix)"
   ]
  },
  {
   "cell_type": "code",
   "execution_count": 57,
   "metadata": {
    "_cell_guid": "84334dbd-d36c-4650-87ab-d3e8f73be63c",
    "_uuid": "0fd8c7cd7741be25fd0d5f56d5711e8aaf44ac0f"
   },
   "outputs": [
    {
     "data": {
      "text/plain": [
       "array([[265,  14],\n",
       "       [ 17,  24]], dtype=int64)"
      ]
     },
     "execution_count": 57,
     "metadata": {},
     "output_type": "execute_result"
    }
   ],
   "source": [
    "rfc = RandomForestClassifier(random_state=0).fit(X_train, y_train)\n",
    "\n",
    "pred_rfc = rfc.predict(X_test)\n",
    "confusion_matrix(y_test, pred_rfc)\n",
    "# RandomForest에 대한 confusion_matrix"
   ]
  },
  {
   "cell_type": "markdown",
   "metadata": {},
   "source": [
    "랜덤포레스트 / 혼돈행렬"
   ]
  },
  {
   "cell_type": "markdown",
   "metadata": {},
   "source": [
    "아래는 모델이 올바르게 예측했는지를 평가하기 위한 값들이다"
   ]
  },
  {
   "cell_type": "code",
   "execution_count": 58,
   "metadata": {
    "_cell_guid": "1cc15e56-0589-4fa3-a4f1-6f5e7b5547b2",
    "_uuid": "61e8a79a7db4fef289b8d4e3b3dd8e1c01756697"
   },
   "outputs": [
    {
     "name": "stdout",
     "output_type": "stream",
     "text": [
      "              precision    recall  f1-score   support\n",
      "\n",
      "           0       0.94      0.95      0.94       279\n",
      "           1       0.63      0.59      0.61        41\n",
      "\n",
      "    accuracy                           0.90       320\n",
      "   macro avg       0.79      0.77      0.78       320\n",
      "weighted avg       0.90      0.90      0.90       320\n",
      "\n"
     ]
    }
   ],
   "source": [
    "# 여러 성능 지표를 출력한다\n",
    "print(classification_report(y_test, pred_rfc))\n",
    "#밑에 숫자는 0을 기준으로 0.94 맞춤 \n",
    "#pos 긍정이 아닌 내가 찾고자 하는 답을 pos라고 봄(암환자)"
   ]
  },
  {
   "cell_type": "markdown",
   "metadata": {},
   "source": [
    "- Precision  = 모델이 옳다고 한 것이 실제로 옳은 비율     TP / ( TP + FP ) \n",
    "- Recall =  실제 정답인 것들 중, 모델이 정답이라고 예측한 것    TP / TP+FN\n",
    "- f1-score = Precision과 Recall의 조화평균  (2 x  Precision x Recall ) /  (Precision + Recall)\n",
    "- support는 이 모델에서 응답한 샘플의 수이다"
   ]
  },
  {
   "cell_type": "markdown",
   "metadata": {},
   "source": [
    "> precision을 보면 0번 클래스에 대해서는 0.92 / 1번은 0.62\n",
    "> confusion matrix로 확인했을때 1번의 분류가 제대로 이루어지지 않은 것을 수치로도 확인할 수 있다\n",
    "\n",
    "\n",
    "> Recall, f1-score도 정확도와 관련있어서 모두 0번 클래스의 값이 좋게 나온다"
   ]
  },
  {
   "cell_type": "markdown",
   "metadata": {
    "_cell_guid": "eda98e5a-552d-4318-8ae7-1fc45c360be4",
    "_uuid": "9ec5e14c6c24713d6b6e0aaa76ddc5d45886c626"
   },
   "source": [
    "## Support Vector Classifier (SVC)"
   ]
  },
  {
   "cell_type": "code",
   "execution_count": 59,
   "metadata": {
    "_cell_guid": "c09c2885-0ae7-424b-8bfb-8d60eeab8910",
    "_uuid": "432c960068fac4d27d9be14a39ac0fe92933f532"
   },
   "outputs": [
    {
     "data": {
      "image/png": "[encoded data removed]",
      "text/plain": [
       "<Figure size 1080x360 with 4 Axes>"
      ]
     },
     "metadata": {
      "needs_background": "light"
     },
     "output_type": "display_data"
    }
   ],
   "source": [
    "\n",
    "rang = [0.0001, 0.001, 0.01, 0.1, 0.5, 1]\n",
    "gamma = [0.1,1,10,100]\n",
    "\n",
    "fig,axes = plt.subplots(1,4,figsize=(15,5))\n",
    "\n",
    "for g, ax in zip(gamma, axes):\n",
    "    score_train = []\n",
    "    score_test = []\n",
    "    for r in rang:\n",
    "        svc = SVC(gamma = g, C=r).fit(X_train,y_train)\n",
    "        score_train.append(svc.score(X_train, y_train))\n",
    "        score_test.append(svc.score(X_test, y_test))\n",
    "    ax.plot(rang, score_train, label=\"train\")\n",
    "    ax.plot(rang, score_test, label=\"test\")\n",
    "    ax.legend(loc=4)\n",
    "    ax.set_ylim(0.8,1)\n",
    "    ax.set_title('gamma = {}'.format(g))\n",
    "    ax.set_xlabel(\"C\")\n",
    "#c와 gamma에 따른 결과\n"
   ]
  },
  {
   "cell_type": "markdown",
   "metadata": {},
   "source": [
    "C가 커질수록(규제가 약화될수록) 성능이 좋은 것을 확인할 수 있다 / 너무 강한 규제는 패널티의 영향력 증가로 좋지만은 않음\n",
    "\n"
   ]
  },
  {
   "cell_type": "markdown",
   "metadata": {},
   "source": [
    "Logistic Regression\n",
    "--"
   ]
  },
  {
   "cell_type": "code",
   "execution_count": 206,
   "metadata": {},
   "outputs": [
    {
     "name": "stdout",
     "output_type": "stream",
     "text": [
      "C= 0.01\n",
      "Test = 0.86875\n",
      "Train = 0.8608287724784989\n",
      "[[275   4]\n",
      " [ 38   3]]\n",
      "C= 1\n",
      "Test = 0.878125\n",
      "Train = 0.8788115715402658\n",
      "[[265  14]\n",
      " [ 25  16]]\n",
      "C= 100\n",
      "Test = 0.890625\n",
      "Train = 0.8780297107114934\n",
      "[[266  13]\n",
      " [ 22  19]]\n"
     ]
    },
    {
     "data": {
      "image/png": "[encoded data removed]",
      "text/plain": [
       "<Figure size 1080x360 with 3 Axes>"
      ]
     },
     "metadata": {
      "needs_background": "light"
     },
     "output_type": "display_data"
    }
   ],
   "source": [
    "\n",
    "rang =[0.01, 1, 100]\n",
    "fig,axes = plt.subplots(1,3,figsize=(15,5))\n",
    "\n",
    "for r,ax in zip(rang,axes):\n",
    "    lr = LogisticRegression(C=r, max_iter=1000).fit(X_train,y_train)\n",
    "    print(\"C=\",r)\n",
    "    print(\"Test =\", lr.score(X_test, y_test))\n",
    "    print(\"Train =\",lr.score(X_train, y_train))\n",
    "    print(confusion_matrix(y_test,lr.predict(X_test)))\n",
    "    ax.set_ylim(-3,3)\n",
    "    ax.plot(range(X_test.shape[1]), lr.coef_[0], 'o')\n",
    "    ax.set_title(\"C = {}\".format(r))\n",
    "    ax.hlines(0,0,10)"
   ]
  },
  {
   "cell_type": "code",
   "execution_count": 61,
   "metadata": {},
   "outputs": [
    {
     "name": "stdout",
     "output_type": "stream",
     "text": [
      "[[ 0.58365586 -0.43607744  0.04173999  0.37871207 -0.40336031  0.04732502\n",
      "  -0.41304156 -0.57909862 -0.0298354   0.56596307  0.84421916]]\n"
     ]
    }
   ],
   "source": [
    "print(lr.coef_)"
   ]
  },
  {
   "cell_type": "markdown",
   "metadata": {},
   "source": [
    "C가 작아져서 규제가 강화될수록 계수가 0에 가까워짐"
   ]
  },
  {
   "cell_type": "markdown",
   "metadata": {
    "_cell_guid": "d6cd1c1f-9531-4c6a-87c1-262dd7fb6caf",
    "_uuid": "9f705df2b81e776eedc164c5d933ff4dd4c61d31"
   },
   "source": [
    "## Cross validation(교차 검증)"
   ]
  },
  {
   "cell_type": "code",
   "execution_count": 90,
   "metadata": {
    "_cell_guid": "a5507be9-a3eb-4bba-b8d5-928d015faadf",
    "_uuid": "24a7f7dc1bf59eaae6e5ea5a6f61130664fcd260"
   },
   "outputs": [
    {
     "name": "stdout",
     "output_type": "stream",
     "text": [
      "0.884375\n",
      "[0.878125   0.846875   0.896875   0.840625   0.88401254]\n"
     ]
    },
    {
     "data": {
      "text/plain": [
       "0.8693025078369907"
      ]
     },
     "execution_count": 90,
     "metadata": {},
     "output_type": "execute_result"
    }
   ],
   "source": [
    "# estimator = 모델, cv는 분할 테스트 숫자\n",
    "rfc = RandomForestClassifier(random_state=0, n_estimators=10).fit(X_train, y_train)\n",
    "\n",
    "print(rfc.score(X_test, y_test))\n",
    "rfc_eval = cross_val_score(rfc, X = X_new, y = y, cv = 5)  \n",
    "print(rfc_eval)  # 5번의 교차 검증 결과를 보여준다\n",
    "\n",
    "rfc_eval.mean()\n",
    "\n",
    "#randomforest"
   ]
  },
  {
   "cell_type": "code",
   "execution_count": 89,
   "metadata": {},
   "outputs": [
    {
     "name": "stdout",
     "output_type": "stream",
     "text": [
      "0.884375\n",
      "[0.859375   0.803125   0.8625     0.784375   0.86520376]\n"
     ]
    },
    {
     "data": {
      "text/plain": [
       "0.8349157523510972"
      ]
     },
     "execution_count": 89,
     "metadata": {},
     "output_type": "execute_result"
    }
   ],
   "source": [
    "# estimator = 모델, cv는 분할 테스트 숫자\n",
    "knn = KNeighborsClassifier(weights='distance', n_neighbors=3).fit(X_train, y_train)\n",
    "\n",
    "print(knn.score(X_test, y_test))\n",
    "knn_eval = cross_val_score(knn, X = X_new, y = y, cv = 5)  \n",
    "print(knn_eval)  # 5번의 교차 검증 결과를 보여준다\n",
    "\n",
    "knn_eval.mean()\n",
    "\n",
    "#knn"
   ]
  },
  {
   "cell_type": "code",
   "execution_count": 91,
   "metadata": {},
   "outputs": [
    {
     "name": "stdout",
     "output_type": "stream",
     "text": [
      "0.896875\n",
      "[0.875      0.875      0.88125    0.875      0.86833856]\n"
     ]
    },
    {
     "data": {
      "text/plain": [
       "0.8749177115987461"
      ]
     },
     "execution_count": 91,
     "metadata": {},
     "output_type": "execute_result"
    }
   ],
   "source": [
    "# estimator = 모델, cv는 분할 테스트 숫자\n",
    "gb = GradientBoostingClassifier(random_state=0, n_estimators=10).fit(X_train, y_train)\n",
    "\n",
    "print(gb.score(X_test, y_test))\n",
    "gb_eval = cross_val_score(gb, X = X_new, y = y, cv = 5)  \n",
    "print(gb_eval)  # 5번의 교차 검증 결과를 보여준다\n",
    "\n",
    "gb_eval.mean()\n",
    "\n",
    "#gradientBoosting"
   ]
  },
  {
   "cell_type": "code",
   "execution_count": 93,
   "metadata": {},
   "outputs": [
    {
     "name": "stdout",
     "output_type": "stream",
     "text": [
      "0.846875\n",
      "[0.853125   0.746875   0.875      0.759375   0.79310345]\n"
     ]
    },
    {
     "data": {
      "text/plain": [
       "0.8054956896551724"
      ]
     },
     "execution_count": 93,
     "metadata": {},
     "output_type": "execute_result"
    }
   ],
   "source": [
    "# estimator = 모델, cv는 분할 테스트 숫자\n",
    "dt = tree.DecisionTreeClassifier(random_state=0).fit(X_train, y_train)\n",
    "\n",
    "print(dt.score(X_test, y_test))\n",
    "dt_eval = cross_val_score(dt, X = X_new, y = y, cv = 5)  \n",
    "print(dt_eval)  # 5번의 교차 검증 결과를 보여준다\n",
    "\n",
    "dt_eval.mean()\n",
    "\n",
    "#decisionTree"
   ]
  },
  {
   "cell_type": "markdown",
   "metadata": {},
   "source": [
    "Percentile Test\n",
    "=="
   ]
  },
  {
   "cell_type": "markdown",
   "metadata": {},
   "source": [
    "분류 성능 평가 (정적)\n",
    "--"
   ]
  },
  {
   "cell_type": "code",
   "execution_count": 110,
   "metadata": {},
   "outputs": [],
   "source": [
    "from itertools import cycle\n",
    "from sklearn import svm, datasets\n",
    "import sklearn.metrics \n",
    "from sklearn.preprocessing import label_binarize\n",
    "from scipy import interp"
   ]
  },
  {
   "cell_type": "code",
   "execution_count": 113,
   "metadata": {},
   "outputs": [
    {
     "data": {
      "text/plain": [
       "((1599, 7), (1599,))"
      ]
     },
     "execution_count": 113,
     "metadata": {},
     "output_type": "execute_result"
    }
   ],
   "source": [
    "X_new.shape, y.shape"
   ]
  },
  {
   "cell_type": "markdown",
   "metadata": {},
   "source": [
    "선형모델\n",
    "--"
   ]
  },
  {
   "cell_type": "code",
   "execution_count": 141,
   "metadata": {
    "scrolled": true
   },
   "outputs": [
    {
     "name": "stdout",
     "output_type": "stream",
     "text": [
      "0.878125\n",
      "[[266  13]\n",
      " [ 26  15]]\n",
      "[292  28]\n"
     ]
    }
   ],
   "source": [
    "classifier = LogisticRegression(max_iter=1000)\n",
    "y_score = classifier.fit(X_train, y_train).decision_function(X_test)#decision_function() 어떤 클래스라고 분류한 확률을 리턴해줌\n",
    "\n",
    "#print(y_score)\n",
    "\n",
    "print(classifier.score(X_test, y_test))\n",
    "y_score = (y_score>0).astype(np.int)\n",
    "\n",
    "\n",
    "print(confusion_matrix(y_test, classifier.predict(X_test)))\n",
    "print(np.bincount(y_score))"
   ]
  },
  {
   "cell_type": "markdown",
   "metadata": {},
   "source": [
    "로지스틱으로 분류한 결과\n",
    "\n",
    "decision_function결과가 양수면 클래스1, 음수면 0..\n",
    "\n",
    "0으로 분류한 데이터 샘플 292개. 이 중 266개가 TP, 26이 FN..\n",
    "FP = 13, TN = 15"
   ]
  },
  {
   "cell_type": "code",
   "execution_count": 140,
   "metadata": {},
   "outputs": [
    {
     "name": "stdout",
     "output_type": "stream",
     "text": [
      "0.878125\n",
      "[[266  13]\n",
      " [ 26  15]]\n",
      "[292  28]\n"
     ]
    }
   ],
   "source": [
    "y_score = classifier.fit(X_train, y_train).predict_proba(X_test)\n",
    "#predict_proba() 어떤 클래스라고 분류한 확률을 리턴해줌\n",
    "\n",
    "#print(y_score)\n",
    "y_label = []\n",
    "for i in range(y_score.shape[0]):\n",
    "    y_label.append((y_score[i][0] < y_score[i][1]).astype(np.int))\n",
    "\n",
    "print(classifier.score(X_test, y_test))\n",
    "\n",
    "print(confusion_matrix(y_test, classifier.predict(X_test)))\n",
    "print(np.bincount(y_label))"
   ]
  },
  {
   "cell_type": "markdown",
   "metadata": {},
   "source": [
    "predict proba로 결과 관찰. / \n",
    "\n",
    "decision과 다르게 각각의 클래스에 대한 확률이므로 더 큰 확률값을 따라가도록 분류함"
   ]
  },
  {
   "cell_type": "markdown",
   "metadata": {},
   "source": [
    "ROC로 성능 평가 (맞춘 순서를 평가)\n",
    "--"
   ]
  },
  {
   "cell_type": "code",
   "execution_count": 133,
   "metadata": {},
   "outputs": [
    {
     "data": {
      "text/plain": [
       "0.8728909869743858"
      ]
     },
     "execution_count": 133,
     "metadata": {},
     "output_type": "execute_result"
    }
   ],
   "source": [
    "y_score = classifier.fit(X_train, y_train).decision_function(X_test)#decision_function() 어떤 클래스라고 분류한 확률을 리턴해줌\n",
    "\n",
    "\n",
    "fpr = dict()\n",
    "tpr = dict()\n",
    "roc_auc = dict()\n",
    "fpr, tpr, _ = roc_curve(y_test, y_score)\n",
    "roc_auc = auc(fpr, tpr)\n",
    "\n",
    "#roc_auc는 그래프의 넓이를 구한다. 초반에 빨리 올라가면 면적이 넓다.\n",
    "#가장 낮은건 평균인 0.5, 최대는 1이 된다.\n",
    "roc_auc"
   ]
  },
  {
   "cell_type": "markdown",
   "metadata": {},
   "source": [
    "# ROC그림 실습해보기"
   ]
  },
  {
   "cell_type": "code",
   "execution_count": 134,
   "metadata": {},
   "outputs": [
    {
     "data": {
      "text/plain": [
       "<matplotlib.legend.Legend at 0x21868b41be0>"
      ]
     },
     "execution_count": 134,
     "metadata": {},
     "output_type": "execute_result"
    },
    {
     "data": {
      "image/png": "[encoded data removed]",
      "text/plain": [
       "<Figure size 432x432 with 1 Axes>"
      ]
     },
     "metadata": {
      "needs_background": "light"
     },
     "output_type": "display_data"
    }
   ],
   "source": [
    "plt.figure(figsize=(6,6))\n",
    "plt.plot(fpr, tpr, color='r', label='ROC curve (area = %0.2f)' % roc_auc)\n",
    "plt.plot([0, 1], [0, 1], linestyle='--')\n",
    "plt.xlim([0.0, 1.0])\n",
    "plt.ylim([0.0, 1.05])\n",
    "plt.xlabel('False Positive Rate')\n",
    "plt.ylabel('True Positive Rate')\n",
    "plt.title('ROC')\n",
    "plt.legend(loc=\"lower right\")"
   ]
  },
  {
   "cell_type": "markdown",
   "metadata": {},
   "source": [
    "LogisticRegression의 ROC"
   ]
  },
  {
   "cell_type": "code",
   "execution_count": 139,
   "metadata": {},
   "outputs": [
    {
     "data": {
      "text/plain": [
       "0.8832502841157444"
      ]
     },
     "execution_count": 139,
     "metadata": {},
     "output_type": "execute_result"
    }
   ],
   "source": [
    "y_score = GradientBoostingClassifier().fit(X_train, y_train).decision_function(X_test)#decision_function() 어떤 클래스라고 분류한 확률을 리턴해줌\n",
    "\n",
    "\n",
    "fpr = dict()\n",
    "tpr = dict()\n",
    "roc_auc = dict()\n",
    "fpr, tpr, _ = roc_curve(y_test, y_score)\n",
    "roc_auc = auc(fpr, tpr)\n",
    "\n",
    "roc_auc"
   ]
  },
  {
   "cell_type": "code",
   "execution_count": 136,
   "metadata": {},
   "outputs": [
    {
     "data": {
      "text/plain": [
       "<matplotlib.legend.Legend at 0x21868cfc640>"
      ]
     },
     "execution_count": 136,
     "metadata": {},
     "output_type": "execute_result"
    },
    {
     "data": {
      "image/png": "[encoded data removed]",
      "text/plain": [
       "<Figure size 432x432 with 1 Axes>"
      ]
     },
     "metadata": {
      "needs_background": "light"
     },
     "output_type": "display_data"
    }
   ],
   "source": [
    "plt.figure(figsize=(6,6))\n",
    "plt.plot(fpr, tpr, color='r', label='ROC curve (area = %0.2f)' % roc_auc)\n",
    "plt.plot([0, 1], [0, 1], linestyle='--')\n",
    "plt.xlim([0.0, 1.0])\n",
    "plt.ylim([0.0, 1.05])\n",
    "plt.xlabel('False Positive Rate')\n",
    "plt.ylabel('True Positive Rate')\n",
    "plt.title('ROC')\n",
    "plt.legend(loc=\"lower right\")"
   ]
  },
  {
   "cell_type": "markdown",
   "metadata": {},
   "source": [
    "GradientBoostingClassifier의 ROC"
   ]
  },
  {
   "cell_type": "code",
   "execution_count": 149,
   "metadata": {},
   "outputs": [
    {
     "name": "stdout",
     "output_type": "stream",
     "text": [
      "Logistic 0.878125\n",
      "GradientBoosting 0.875\n"
     ]
    }
   ],
   "source": [
    "lr = LogisticRegression(max_iter=1000).fit(X_train, y_train)\n",
    "gb = GradientBoostingClassifier().fit(X_train, y_train)\n",
    "\n",
    "print(\"Logistic\", lr.score(X_test, y_test))\n",
    "print(\"GradientBoosting\", gb.score(X_test, y_test))"
   ]
  },
  {
   "cell_type": "markdown",
   "metadata": {},
   "source": [
    "# 2. 회귀"
   ]
  },
  {
   "cell_type": "code",
   "execution_count": 178,
   "metadata": {},
   "outputs": [],
   "source": [
    "def rmse(true,pred): #RMSE값 반환\n",
    "    return np.sqrt(mean_squared_error(true,pred))\n",
    "\n",
    "metrics = {'MSE': mean_squared_error,\n",
    "              'RMSE': rmse,\n",
    "              'MAE': mean_absolute_error,\n",
    "              'R2': r2_score}\n",
    "\n",
    "# RMSE와 MAE의 순서가 바뀌어져 있어서 수정했습니다.\n",
    "#\n",
    "\n",
    "def linear_eval(model):\n",
    "    for i in metrics.keys():\n",
    "        print(f'{i} : {metrics[i](y_test_, model.predict(X_test_))}')"
   ]
  },
  {
   "cell_type": "markdown",
   "metadata": {
    "_cell_guid": "cb7432d3-16a5-4764-b792-def2666dffbe",
    "_uuid": "6bb4d5afc35743acfd4630d12038c29f2459ce39"
   },
   "source": [
    "## 선형 모델"
   ]
  },
  {
   "cell_type": "code",
   "execution_count": 179,
   "metadata": {
    "_cell_guid": "d6835aea-7d7c-4602-b3f3-11e26a37f816",
    "_uuid": "2e1bc3b870d29573b09f1c590ee18011e29af7c3"
   },
   "outputs": [
    {
     "name": "stdout",
     "output_type": "stream",
     "text": [
      "MSE : 0.3795971085022988\n",
      "RMSE : 0.6161145254758232\n",
      "MAE : 0.48139673183329845\n",
      "R2 : 0.3468858137200854\n"
     ]
    }
   ],
   "source": [
    "lr = LinearRegression()\n",
    "lr.fit(X_train_, y_train_)\n",
    "linear_eval(lr)"
   ]
  },
  {
   "cell_type": "code",
   "execution_count": 187,
   "metadata": {},
   "outputs": [
    {
     "name": "stdout",
     "output_type": "stream",
     "text": [
      "MSE : 0.37684326150614733\n",
      "RMSE : 0.613875607518451\n",
      "MAE : 0.4814497006385282\n",
      "R2 : 0.3516239334258101\n"
     ]
    }
   ],
   "source": [
    "ridge = Ridge(alpha=0.001)\n",
    "ridge.fit(X_train_, y_train_)\n",
    "linear_eval(ridge)"
   ]
  },
  {
   "cell_type": "code",
   "execution_count": 181,
   "metadata": {},
   "outputs": [
    {
     "name": "stdout",
     "output_type": "stream",
     "text": [
      "MSE : 0.37418901920968467\n",
      "RMSE : 0.6117099142646657\n",
      "MAE : 0.48053221810481583\n",
      "R2 : 0.35619067869023946\n"
     ]
    }
   ],
   "source": [
    "lasso = Lasso(alpha=0.001)\n",
    "lasso.fit(X_train_, y_train_)\n",
    "linear_eval(lasso)"
   ]
  },
  {
   "cell_type": "markdown",
   "metadata": {},
   "source": [
    "## Support Vector Regressor(SVR)"
   ]
  },
  {
   "cell_type": "code",
   "execution_count": 182,
   "metadata": {},
   "outputs": [
    {
     "name": "stdout",
     "output_type": "stream",
     "text": [
      "MSE : 0.3927420272166743\n",
      "RMSE : 0.62669133328671\n",
      "MAE : 0.4732517815162476\n",
      "R2 : 0.3242693798812514\n"
     ]
    }
   ],
   "source": [
    "\n",
    "svr = SVR(kernel='rbf',gamma='auto',C=1, epsilon=0.1)\n",
    "svr.fit(X_train_, y_train_)\n",
    "linear_eval(svr)"
   ]
  },
  {
   "cell_type": "markdown",
   "metadata": {},
   "source": [
    "## RandomForestRegressor"
   ]
  },
  {
   "cell_type": "code",
   "execution_count": 167,
   "metadata": {
    "scrolled": true
   },
   "outputs": [
    {
     "name": "stdout",
     "output_type": "stream",
     "text": [
      "MSE : 0.28696031250000004\n",
      "RMSE : 0.5356867671503562\n",
      "MAE : 0.39028125\n",
      "R2 : 0.506271658041535\n"
     ]
    }
   ],
   "source": [
    "from sklearn.ensemble import RandomForestRegressor\n",
    "rfg = RandomForestRegressor(random_state=0).fit(X_train_, y_train_)\n",
    "linear_eval(rfg)\n"
   ]
  },
  {
   "cell_type": "markdown",
   "metadata": {},
   "source": [
    "## KNeighborsRegressor"
   ]
  },
  {
   "cell_type": "code",
   "execution_count": 168,
   "metadata": {},
   "outputs": [
    {
     "name": "stdout",
     "output_type": "stream",
     "text": [
      "MSE : 0.49912499999999993\n",
      "RMSE : 0.7064877918265821\n",
      "MAE : 0.5418750000000001\n",
      "R2 : 0.14123260971839524\n"
     ]
    }
   ],
   "source": [
    "from sklearn.neighbors import KNeighborsRegressor\n",
    "knn = KNeighborsRegressor().fit(X_train_, y_train_)\n",
    "linear_eval(knn)\n"
   ]
  },
  {
   "cell_type": "markdown",
   "metadata": {},
   "source": [
    "## GradientBoostingRegressor"
   ]
  },
  {
   "cell_type": "code",
   "execution_count": 192,
   "metadata": {
    "scrolled": true
   },
   "outputs": [
    {
     "name": "stdout",
     "output_type": "stream",
     "text": [
      "MSE : 0.3385241705516556\n",
      "RMSE : 0.5818282998889411\n",
      "MAE : 0.4569981533185475\n",
      "R2 : 0.4175536819596489\n"
     ]
    }
   ],
   "source": [
    "from sklearn.ensemble import GradientBoostingRegressor\n",
    "\n",
    "gbr = GradientBoostingRegressor().fit(X_train_, y_train_)\n",
    "linear_eval(gbr)"
   ]
  },
  {
   "cell_type": "markdown",
   "metadata": {},
   "source": [
    "## test size= 0.2 / 분류"
   ]
  },
  {
   "cell_type": "code",
   "execution_count": 69,
   "metadata": {
    "scrolled": true
   },
   "outputs": [
    {
     "name": "stdout",
     "output_type": "stream",
     "text": [
      "(1279, 11)\n",
      "(320, 11)\n",
      "knn  0.878125\n",
      "logistic  0.88125\n",
      "decisiontree  0.846875\n",
      "GradientBoosting  0.89375\n",
      "randomforest  0.903125\n",
      "gaussiannb  0.828125\n",
      "svm  0.8875\n",
      "mlp  0.8875\n"
     ]
    }
   ],
   "source": [
    "bins = (2.9, 6.5, 8.1)\n",
    "# 6.5부터 good(1)\n",
    "group_names = [0, 1]\n",
    "wine['qual'] = pd.cut(wine['quality'], bins = bins, labels = group_names) \n",
    "\n",
    "\n",
    "X_new = wine.drop(['quality', 'qual'], axis = 1)\n",
    "y_ = wine['quality'] # regression 용\n",
    "y = wine['qual'] \n",
    "\n",
    "\n",
    "X_train, X_test, y_train, y_test = train_test_split(X_new, y, test_size = 0.2, random_state = 7) # 분류용 = qual\n",
    "X_train_, X_test_, y_train_, y_test_ = train_test_split(X_new, y_, test_size = 0.2, random_state = 7) # 회귀용 = quality\n",
    "\n",
    "\n",
    "sc = StandardScaler().fit(X_train)\n",
    "\n",
    "X_train = sc.transform(X_train)\n",
    "X_test = sc.transform(X_test)\n",
    "\n",
    "X_train_ = sc.transform(X_train_)\n",
    "X_test_ = sc.transform(X_test_)\n",
    "\n",
    "\n",
    "print(X_train.shape)\n",
    "print(X_test.shape)\n",
    "\n",
    "\n",
    "knn = KNeighborsClassifier().fit(X_train, y_train)\n",
    "logistic = LogisticRegression().fit(X_train, y_train)\n",
    "mlp = MLPClassifier(random_state=0,max_iter=5000).fit(X_train, y_train)\n",
    "svm = SVC(random_state=0).fit(X_train, y_train)\n",
    "\n",
    "gb = GradientBoostingClassifier(random_state=0).fit(X_train, y_train)\n",
    "dt = tree.DecisionTreeClassifier(random_state=0).fit(X_train, y_train)\n",
    "rf= RandomForestClassifier(random_state=0).fit(X_train, y_train)\n",
    "nb = GaussianNB().fit(X_train, y_train)\n",
    "\n",
    "\n",
    "print('knn ', knn.score(X_test,y_test))\n",
    "print('logistic ', logistic.score(X_test,y_test))\n",
    "print('decisiontree ', dt.score(X_test,y_test))\n",
    "print('GradientBoosting ', gb.score(X_test,y_test))\n",
    "print('randomforest ', rf.score(X_test,y_test))\n",
    "print('gaussiannb ', nb.score(X_test,y_test))\n",
    "print('svm ', svm.score(X_test,y_test))\n",
    "print('mlp ', mlp.score(X_test,y_test))\n",
    "\n"
   ]
  },
  {
   "cell_type": "markdown",
   "metadata": {},
   "source": [
    "### test size = 0.3"
   ]
  },
  {
   "cell_type": "code",
   "execution_count": 105,
   "metadata": {},
   "outputs": [
    {
     "name": "stdout",
     "output_type": "stream",
     "text": [
      "(1119, 11)\n",
      "(480, 11)\n",
      "knn  0.8645833333333334\n",
      "logistic  0.8854166666666666\n",
      "decisiontree  0.8604166666666667\n",
      "GradientBoosting  0.8875\n",
      "randomforest  0.9041666666666667\n",
      "gaussiannb  0.8291666666666667\n",
      "svm  0.8854166666666666\n",
      "mlp  0.8895833333333333\n"
     ]
    }
   ],
   "source": [
    "# 6.5부터 good(1)\n",
    "\n",
    "bins = (2.9, 6.5, 8.1)\n",
    "\n",
    "group_names = [0, 1]\n",
    "wine['qual'] = pd.cut(wine['quality'], bins = bins, labels = group_names)\n",
    "\n",
    "\n",
    "X_new = wine.drop(['quality', 'qual'], axis = 1)\n",
    "y_ = wine['quality'] # regression 용\n",
    "y = wine['qual'] \n",
    "\n",
    "\n",
    "X_train, X_test, y_train, y_test = train_test_split(X_new, y, test_size = 0.3, random_state = 7) # 분류용 = qual\n",
    "X_train_, X_test_, y_train_, y_test_ = train_test_split(X_new, y_, test_size = 0.3, random_state = 7) # 회귀용 = quality\n",
    "\n",
    "\n",
    "sc = StandardScaler().fit(X_train)\n",
    "\n",
    "X_train = sc.transform(X_train)\n",
    "X_test = sc.transform(X_test)\n",
    "\n",
    "X_train_ = sc.transform(X_train_)\n",
    "X_test_ = sc.transform(X_test_)\n",
    "\n",
    "\n",
    "print(X_train.shape)\n",
    "print(X_test.shape)\n",
    "\n",
    "\n",
    "knn = KNeighborsClassifier().fit(X_train, y_train)\n",
    "logistic = LogisticRegression().fit(X_train, y_train)\n",
    "mlp = MLPClassifier(random_state=0,max_iter=5000).fit(X_train, y_train)\n",
    "svm = SVC(random_state=0).fit(X_train, y_train)\n",
    "\n",
    "gb = GradientBoostingClassifier(random_state=0).fit(X_train, y_train)\n",
    "dt = tree.DecisionTreeClassifier(random_state=0).fit(X_train, y_train)\n",
    "rf= RandomForestClassifier(random_state=0).fit(X_train, y_train)\n",
    "nb = GaussianNB().fit(X_train, y_train)\n",
    "\n",
    "\n",
    "print('knn ', knn.score(X_test,y_test))\n",
    "print('logistic ', logistic.score(X_test,y_test))\n",
    "print('decisiontree ', dt.score(X_test,y_test))\n",
    "print('GradientBoosting ', gb.score(X_test,y_test))\n",
    "print('randomforest ', rf.score(X_test,y_test))\n",
    "print('gaussiannb ', nb.score(X_test,y_test))\n",
    "print('svm ', svm.score(X_test,y_test))\n",
    "print('mlp ', mlp.score(X_test,y_test))\n",
    "\n"
   ]
  },
  {
   "cell_type": "code",
   "execution_count": 106,
   "metadata": {},
   "outputs": [
    {
     "name": "stdout",
     "output_type": "stream",
     "text": [
      "0    1581\n",
      "1      18\n",
      "Name: qual, dtype: int64\n",
      "knn  0.9895833333333334\n",
      "logistic  0.9875\n",
      "decisiontree  0.9708333333333333\n",
      "GradientBoosting  0.9833333333333333\n",
      "randomforest  0.9916666666666667\n",
      "gaussiannb  0.9625\n",
      "svm  0.9895833333333334\n",
      "mlp  0.9895833333333334\n"
     ]
    }
   ],
   "source": [
    "# 7부터 good(1)\n",
    "\n",
    "bins = (2.9, 7, 8.1)\n",
    "\n",
    "group_names = [0, 1]\n",
    "wine['qual'] = pd.cut(wine['quality'], bins = bins, labels = group_names) \n",
    "\n",
    "X_new = wine.drop(['quality', 'qual'], axis = 1)\n",
    "y_ = wine['quality'] # regression 용\n",
    "y = wine['qual'] \n",
    "\n",
    "print(wine['qual'].value_counts())\n",
    "\n",
    "X_train, X_test, y_train, y_test = train_test_split(X_new, y, test_size = 0.3, random_state = 7) # 분류용 = qual\n",
    "X_train_, X_test_, y_train_, y_test_ = train_test_split(X_new, y_, test_size = 0.3, random_state = 7) # 회귀용 = quality\n",
    "\n",
    "\n",
    "sc = StandardScaler().fit(X_train)\n",
    "\n",
    "X_train = sc.transform(X_train)\n",
    "X_test = sc.transform(X_test)\n",
    "\n",
    "X_train_ = sc.transform(X_train_)\n",
    "X_test_ = sc.transform(X_test_)\n",
    "\n",
    "knn = KNeighborsClassifier().fit(X_train, y_train)\n",
    "logistic = LogisticRegression().fit(X_train, y_train)\n",
    "mlp = MLPClassifier(random_state=0,max_iter=1000).fit(X_train, y_train)\n",
    "svm = SVC(random_state=0).fit(X_train, y_train)\n",
    "\n",
    "gb = GradientBoostingClassifier(random_state=0).fit(X_train, y_train)\n",
    "dt = tree.DecisionTreeClassifier(random_state=0).fit(X_train, y_train)\n",
    "rf= RandomForestClassifier(random_state=0).fit(X_train, y_train)\n",
    "nb = GaussianNB().fit(X_train, y_train)\n",
    "\n",
    "\n",
    "print('knn ', knn.score(X_test,y_test))\n",
    "print('logistic ', logistic.score(X_test,y_test))\n",
    "print('decisiontree ', dt.score(X_test,y_test))\n",
    "print('GradientBoosting ', gb.score(X_test,y_test))\n",
    "print('randomforest ', rf.score(X_test,y_test))\n",
    "print('gaussiannb ', nb.score(X_test,y_test))\n",
    "print('svm ', svm.score(X_test,y_test))\n",
    "print('mlp ', mlp.score(X_test,y_test))\n",
    "\n"
   ]
  },
  {
   "cell_type": "code",
   "execution_count": 107,
   "metadata": {},
   "outputs": [
    {
     "name": "stdout",
     "output_type": "stream",
     "text": [
      "1    855\n",
      "0    744\n",
      "Name: qual, dtype: int64\n",
      "knn  0.7458333333333333\n",
      "logistic  0.7416666666666667\n",
      "decisiontree  0.7729166666666667\n",
      "GradientBoosting  0.7875\n",
      "randomforest  0.83125\n",
      "gaussiannb  0.7229166666666667\n",
      "svm  0.76875\n",
      "mlp  0.7833333333333333\n"
     ]
    }
   ],
   "source": [
    "bins = (2.9, 5, 8.1)\n",
    "# 5부터 good(1)\n",
    "group_names = [0, 1]\n",
    "wine['qual'] = pd.cut(wine['quality'], bins = bins, labels = group_names)\n",
    "\n",
    "\n",
    "X_new = wine.drop(['quality', 'qual'], axis = 1)\n",
    "y_ = wine['quality'] # regression 용\n",
    "y = wine['qual'] \n",
    "\n",
    "print(wine['qual'].value_counts())\n",
    "\n",
    "X_train, X_test, y_train, y_test = train_test_split(X_new, y, test_size = 0.3, random_state = 7) # 분류용 = qual\n",
    "X_train_, X_test_, y_train_, y_test_ = train_test_split(X_new, y_, test_size = 0.3, random_state = 7) # 회귀용 = quality\n",
    "\n",
    "\n",
    "sc = StandardScaler().fit(X_train)\n",
    "\n",
    "X_train = sc.transform(X_train)\n",
    "X_test = sc.transform(X_test)\n",
    "\n",
    "X_train_ = sc.transform(X_train_)\n",
    "X_test_ = sc.transform(X_test_)\n",
    "\n",
    "knn = KNeighborsClassifier().fit(X_train, y_train)\n",
    "logistic = LogisticRegression().fit(X_train, y_train)\n",
    "mlp = MLPClassifier(random_state=0,max_iter=5000).fit(X_train, y_train)\n",
    "svm = SVC(random_state=0).fit(X_train, y_train)\n",
    "\n",
    "gb = GradientBoostingClassifier(random_state=0).fit(X_train, y_train)\n",
    "dt = tree.DecisionTreeClassifier(random_state=0).fit(X_train, y_train)\n",
    "rf= RandomForestClassifier(random_state=0).fit(X_train, y_train)\n",
    "nb = GaussianNB().fit(X_train, y_train)\n",
    "\n",
    "\n",
    "print('knn ', knn.score(X_test,y_test))\n",
    "print('logistic ', logistic.score(X_test,y_test))\n",
    "print('decisiontree ', dt.score(X_test,y_test))\n",
    "print('GradientBoosting ', gb.score(X_test,y_test))\n",
    "print('randomforest ', rf.score(X_test,y_test))\n",
    "print('gaussiannb ', nb.score(X_test,y_test))\n",
    "print('svm ', svm.score(X_test,y_test))\n",
    "print('mlp ', mlp.score(X_test,y_test))\n",
    "\n"
   ]
  },
  {
   "cell_type": "code",
   "execution_count": 108,
   "metadata": {},
   "outputs": [
    {
     "name": "stdout",
     "output_type": "stream",
     "text": [
      "0    1382\n",
      "1     217\n",
      "Name: qual, dtype: int64\n",
      "knn  0.875\n",
      "logistic  0.878125\n",
      "decisiontree  0.8625\n",
      "GradientBoosting  0.875\n",
      "randomforest  0.896875\n",
      "gaussiannb  0.8375\n",
      "svm  0.875\n",
      "mlp  0.875\n"
     ]
    }
   ],
   "source": [
    "# 박스플롯으로 살펴봤을때 품질에 따라 상승, 감소하는 정도가 잘 나타났던 \n",
    "#특성들만 모아서 test size=0.2로 다시 테스트.\n",
    "\n",
    "bins = (2.9, 6.5, 8.1)\n",
    "# 6.5부터 good(1)\n",
    "group_names = [0, 1]\n",
    "wine['qual'] = pd.cut(wine['quality'], bins = bins, labels = group_names) \n",
    "\n",
    "\n",
    "X_new = wine.drop(['quality', 'qual', 'residual sugar','density', 'free sulfur dioxide', 'total sulfur dioxide'], axis = 1)\n",
    "y_ = wine['quality'] # regression 용\n",
    "y = wine['qual'] \n",
    "\n",
    "print(wine['qual'].value_counts())\n",
    "\n",
    "X_train, X_test, y_train, y_test = train_test_split(X_new, y, test_size = 0.2, random_state = 7) # 분류용 = qual\n",
    "X_train_, X_test_, y_train_, y_test_ = train_test_split(X_new, y_, test_size = 0.2, random_state = 7) # 회귀용 = quality\n",
    "\n",
    "\n",
    "sc = StandardScaler().fit(X_train)\n",
    "\n",
    "X_train = sc.transform(X_train)\n",
    "X_test = sc.transform(X_test)\n",
    "\n",
    "X_train_ = sc.transform(X_train_)\n",
    "X_test_ = sc.transform(X_test_)\n",
    "\n",
    "knn = KNeighborsClassifier().fit(X_train, y_train)\n",
    "logistic = LogisticRegression().fit(X_train, y_train)\n",
    "mlp = MLPClassifier(random_state=0,max_iter=5000).fit(X_train, y_train)\n",
    "svm = SVC(random_state=0).fit(X_train, y_train)\n",
    "\n",
    "gb = GradientBoostingClassifier(random_state=0).fit(X_train, y_train)\n",
    "dt = tree.DecisionTreeClassifier(random_state=0).fit(X_train, y_train)\n",
    "rf= RandomForestClassifier(random_state=0).fit(X_train, y_train)\n",
    "nb = GaussianNB().fit(X_train, y_train)\n",
    "\n",
    "\n",
    "print('knn ', knn.score(X_test,y_test))\n",
    "print('logistic ', logistic.score(X_test,y_test))\n",
    "print('decisiontree ', dt.score(X_test,y_test))\n",
    "print('GradientBoosting ', gb.score(X_test,y_test))\n",
    "print('randomforest ', rf.score(X_test,y_test))\n",
    "print('gaussiannb ', nb.score(X_test,y_test))\n",
    "print('svm ', svm.score(X_test,y_test))\n",
    "print('mlp ', mlp.score(X_test,y_test))\n",
    "\n"
   ]
  },
  {
   "cell_type": "markdown",
   "metadata": {},
   "source": [
    "## test_size = 0.3 / 회귀"
   ]
  },
  {
   "cell_type": "code",
   "execution_count": 189,
   "metadata": {},
   "outputs": [
    {
     "name": "stdout",
     "output_type": "stream",
     "text": [
      "0    1382\n",
      "1     217\n",
      "Name: qual, dtype: int64\n",
      "Linear\n",
      "MSE : 0.42816456161020106\n",
      "RMSE : 0.6543428471452875\n",
      "MAE : 0.5073574335152197\n",
      "R2 : 0.32660881529195107\n",
      "\n",
      "Ridge\n",
      "MSE : 0.4275842741617416\n",
      "RMSE : 0.6538992844175177\n",
      "MAE : 0.5080541854142235\n",
      "R2 : 0.32752145610211014\n",
      "\n",
      "Lasso\n",
      "MSE : 0.4287209155186099\n",
      "RMSE : 0.6547678332955964\n",
      "MAE : 0.5087762869243557\n",
      "R2 : 0.3257338156981233\n",
      "\n",
      "KNN\n",
      "MSE : 0.5343333333333332\n",
      "RMSE : 0.7309810759064377\n",
      "MAE : 0.56\n",
      "R2 : 0.15963302752293584\n",
      "\n",
      "RandomForest\n",
      "MSE : 0.3529972916666667\n",
      "RMSE : 0.5941357518839164\n",
      "MAE : 0.42922916666666666\n",
      "R2 : 0.4448273263433813\n",
      "\n",
      "SVR\n",
      "MSE : 0.5325079362271237\n",
      "RMSE : 0.7297314137592842\n",
      "MAE : 0.555468646235866\n",
      "R2 : 0.16250390108447132\n",
      "\n",
      "GradientBoosting\n",
      "MSE : 0.3962691437037235\n",
      "RMSE : 0.6294991212890797\n",
      "MAE : 0.48754215743519796\n",
      "R2 : 0.37677198893254493\n"
     ]
    }
   ],
   "source": [
    "bins = (2.9, 6.5, 8.1)\n",
    "# 6.5부터 good(1)\n",
    "group_names = [0, 1]\n",
    "wine['qual'] = pd.cut(wine['quality'], bins = bins, labels = group_names) \n",
    "\n",
    "X_new = wine.drop(['quality', 'qual'], axis = 1)\n",
    "y_ = wine['quality'] # regression 용\n",
    "y = wine['qual'] \n",
    "\n",
    "print(wine['qual'].value_counts())\n",
    "X_train_, X_test_, y_train_, y_test_ = train_test_split(X_new, y_, test_size = 0.3, random_state = 7) # 회귀용 = quality\n",
    "\n",
    "print(\"Linear\")\n",
    "lr = LinearRegression().fit(X_train_, y_train_)\n",
    "linear_eval(lr)\n",
    "print(\"\\nRidge\")\n",
    "rg = Ridge(alpha=0.001).fit(X_train_, y_train_)\n",
    "linear_eval(rg)\n",
    "\n",
    "print(\"\\nLasso\")\n",
    "ls = Lasso(alpha=0.001).fit(X_train_, y_train_)\n",
    "linear_eval(ls)\n",
    "\n",
    "print(\"\\nKNN\")\n",
    "knn = KNeighborsRegressor().fit(X_train_, y_train_)\n",
    "linear_eval(knn)\n",
    "\n",
    "print(\"\\nRandomForest\")\n",
    "rfg = RandomForestRegressor().fit(X_train_, y_train_)\n",
    "linear_eval(rfg)\n",
    "\n",
    "print(\"\\nSVR\")\n",
    "svr = SVR().fit(X_train_, y_train_)\n",
    "linear_eval(svr)\n",
    "\n",
    "print(\"\\nGradientBoosting\")\n",
    "gbr = GradientBoostingRegressor().fit(X_train_, y_train_)\n",
    "linear_eval(gbr)\n"
   ]
  },
  {
   "cell_type": "code",
   "execution_count": 194,
   "metadata": {},
   "outputs": [
    {
     "name": "stdout",
     "output_type": "stream",
     "text": [
      "0    1382\n",
      "1     217\n",
      "Name: qual, dtype: int64\n",
      "Linear\n",
      "MSE : 0.4021379989079101\n",
      "RMSE : 0.6341435160181882\n",
      "MAE : 0.4841043935017259\n",
      "R2 : 0.37973158193551493\n",
      "\n",
      "Ridge\n",
      "MSE : 0.4022518035833375\n",
      "RMSE : 0.6342332406799075\n",
      "MAE : 0.48418758385654154\n",
      "R2 : 0.37955604655664643\n",
      "\n",
      "Lasso\n",
      "MSE : 0.4045803701173514\n",
      "RMSE : 0.6360663252502458\n",
      "MAE : 0.48548933263620303\n",
      "R2 : 0.37596440317966373\n",
      "\n",
      "KNN\n",
      "MSE : 0.5921666666666667\n",
      "RMSE : 0.7695236621876332\n",
      "MAE : 0.5716666666666667\n",
      "R2 : 0.08662627615062779\n",
      "\n",
      "RandomForest\n",
      "MSE : 0.31794083333333334\n",
      "RMSE : 0.5638624241189808\n",
      "MAE : 0.40395833333333336\n",
      "R2 : 0.5095995447698746\n",
      "\n",
      "SVR\n",
      "MSE : 0.5312922405000224\n",
      "RMSE : 0.7288979630236474\n",
      "MAE : 0.5391342336221768\n",
      "R2 : 0.1805206211802166\n",
      "\n",
      "GradientBoosting\n",
      "MSE : 0.3637867517553341\n",
      "RMSE : 0.6031473715066112\n",
      "MAE : 0.4636049995435734\n",
      "R2 : 0.43888557252265126\n"
     ]
    }
   ],
   "source": [
    "# 0.3 + stratify=y\n",
    "\n",
    "bins = (2.9, 6.5, 8.1)\n",
    "# 6.5부터 good(1)\n",
    "group_names = [0, 1]\n",
    "wine['qual'] = pd.cut(wine['quality'], bins = bins, labels = group_names) \n",
    "\n",
    "X_new = wine.drop(['quality', 'qual'], axis = 1)\n",
    "y_ = wine['quality'] # regression 용\n",
    "y = wine['qual'] \n",
    "\n",
    "print(wine['qual'].value_counts())\n",
    "X_train_, X_test_, y_train_, y_test_ = train_test_split(X_new, y_, test_size = 0.3, stratify=y_, random_state = 7) # 회귀용 = quality\n",
    "\n",
    "print(\"Linear\")\n",
    "lr = LinearRegression().fit(X_train_, y_train_)\n",
    "linear_eval(lr)\n",
    "print(\"\\nRidge\")\n",
    "rg = Ridge(alpha=0.001).fit(X_train_, y_train_)\n",
    "linear_eval(rg)\n",
    "\n",
    "print(\"\\nLasso\")\n",
    "ls = Lasso(alpha=0.001).fit(X_train_, y_train_)\n",
    "linear_eval(ls)\n",
    "\n",
    "print(\"\\nKNN\")\n",
    "knn = KNeighborsRegressor().fit(X_train_, y_train_)\n",
    "linear_eval(knn)\n",
    "\n",
    "print(\"\\nRandomForest\")\n",
    "rfg = RandomForestRegressor().fit(X_train_, y_train_)\n",
    "linear_eval(rfg)\n",
    "\n",
    "print(\"\\nSVR\")\n",
    "svr = SVR().fit(X_train_, y_train_)\n",
    "linear_eval(svr)\n",
    "\n",
    "print(\"\\nGradientBoosting\")\n",
    "gbr = GradientBoostingRegressor().fit(X_train_, y_train_)\n",
    "linear_eval(gbr)\n"
   ]
  }
 ],
 "metadata": {
  "kernelspec": {
   "display_name": "Python 3",
   "language": "python",
   "name": "python3"
  },
  "language_info": {
   "codemirror_mode": {
    "name": "ipython",
    "version": 3
   },
   "file_extension": ".py",
   "mimetype": "text/x-python",
   "name": "python",
   "nbconvert_exporter": "python",
   "pygments_lexer": "ipython3",
   "version": "3.8.5"
  }
 },
 "nbformat": 4,
 "nbformat_minor": 1
}
