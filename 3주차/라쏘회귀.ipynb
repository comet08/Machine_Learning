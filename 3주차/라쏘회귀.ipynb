{
 "cells": [
  {
   "cell_type": "markdown",
   "metadata": {},
   "source": [
    "#### 라쏘 회귀\n",
    "\n",
    "- penalty > 릿지에서는 L2-norm / 라쏘에서는 L1-norm\n",
    "- L1-norm은 가중치가 0이 될 수 있음 > w\n",
    "\n",
    "\n",
    "- L2-norm =  ∑w^2\n",
    "- L1-norm = ∑|w|\n",
    "\n",
    "\n",
    "- 반영되지 않는 특성이 생길 수 있음 = 특성을 선별적으로 사용\n",
    "- 특성 일부가 중요하고 일부는 중요하지 않을때"
   ]
  },
  {
   "cell_type": "code",
   "execution_count": 2,
   "metadata": {},
   "outputs": [],
   "source": [
    "import numpy as np\n",
    "import pandas as pd\n",
    "import matplotlib\n",
    "import matplotlib.pyplot as plt\n",
    "import mglearn\n",
    "from sklearn.model_selection import train_test_split\n",
    "\n",
    "%matplotlib inline\n",
    "from matplotlib import font_manager, rc\n",
    "font_name = font_manager.FontProperties(fname='c:/Windows/Fonts/NanumBarunGothic.ttf').get_name()\n",
    "rc('font',family=font_name)\n",
    "\n",
    "matplotlib.rcParams['axes.unicode_minus'] = False "
   ]
  },
  {
   "cell_type": "code",
   "execution_count": 3,
   "metadata": {},
   "outputs": [],
   "source": [
    "X, y = mglearn.datasets.load_extended_boston()\n",
    "X_train, X_test, y_train, y_test = train_test_split(X, y, random_state=0)"
   ]
  },
  {
   "cell_type": "code",
   "execution_count": 14,
   "metadata": {},
   "outputs": [
    {
     "name": "stdout",
     "output_type": "stream",
     "text": [
      "훈련 세트 점수: 0.29\n",
      "테스트 세트 점수: 0.21\n",
      "사용한 특성의 개수: 4\n",
      "\n",
      "계수값 [-0.          0.         -0.          0.         -0.          0.\n",
      " -0.          0.         -0.         -0.         -0.          0.\n",
      " -5.3529079  -0.          0.         -0.          0.         -0.\n",
      " -0.         -0.         -0.         -0.         -0.         -0.\n",
      " -0.         -0.          0.          0.          0.          0.\n",
      "  0.          0.          0.          0.          0.          0.\n",
      "  0.          0.         -0.          0.         -0.         -0.\n",
      " -0.         -0.         -0.         -0.         -0.         -0.\n",
      " -0.          0.          0.          0.          0.          0.\n",
      "  0.          0.          0.          0.         -0.         -0.\n",
      " -0.         -0.         -0.         -0.         -0.         -0.\n",
      " -0.         -0.          0.          0.          0.         -0.\n",
      " -0.         -0.          0.         -0.         -0.          0.\n",
      " -0.         -1.05063037 -3.3104274  -0.         -0.          0.\n",
      " -0.         -0.         -0.          0.         -0.         -0.41386744\n",
      " -0.         -0.         -0.         -0.         -0.         -0.\n",
      " -0.         -0.         -0.         -0.         -0.          0.\n",
      " -0.         -0.        ]\n",
      "(array([12, 79, 80, 89], dtype=int64),)\n"
     ]
    }
   ],
   "source": [
    "from sklearn.linear_model import Lasso\n",
    "\n",
    "lasso = Lasso().fit(X_train, y_train)\n",
    "print(\"훈련 세트 점수: {:.2f}\".format(lasso.score(X_train, y_train)))\n",
    "print(\"테스트 세트 점수: {:.2f}\".format(lasso.score(X_test, y_test)))\n",
    "print(\"사용한 특성의 개수: {}\".format(np.sum(lasso.coef_ !=0)))\n",
    "\n",
    "print('')\n",
    "print(\"계수값\", lasso.coef_)\n",
    "print(np.where(lasso.coef_!=0))\n",
    "\n",
    "#"
   ]
  },
  {
   "cell_type": "code",
   "execution_count": 5,
   "metadata": {},
   "outputs": [
    {
     "name": "stdout",
     "output_type": "stream",
     "text": [
      "훈련 세트 점수: 0.90\n",
      "테스트 세트 점수: 0.77\n",
      "사용한 특성의 개수: 33\n"
     ]
    }
   ],
   "source": [
    "lasso001 = Lasso(alpha=0.01, max_iter=100000).fit(X_train, y_train)\n",
    "print(\"훈련 세트 점수: {:.2f}\".format(lasso001.score(X_train, y_train)))\n",
    "print(\"테스트 세트 점수: {:.2f}\".format(lasso001.score(X_test, y_test)))\n",
    "print(\"사용한 특성의 개수: {}\".format(np.sum(lasso001.coef_ !=0)))\n",
    "\n",
    "# max_iter = lasso는 하강하는 방식의 학습법이라서\n",
    "# alpha값을 줄이면 반복 횟수를 늘려야 한다고 함.\n",
    "\n",
    "# 경사하강법의 학습률과 반복 횟수 같은 느낌인가?"
   ]
  },
  {
   "cell_type": "code",
   "execution_count": 12,
   "metadata": {},
   "outputs": [
    {
     "name": "stdout",
     "output_type": "stream",
     "text": [
      "훈련 세트 점수: 0.95\n",
      "테스트 세트 점수: 0.64\n",
      "사용한 특성의 개수: 96\n"
     ]
    }
   ],
   "source": [
    "lasso00001 = Lasso(alpha = 0.0001, max_iter=100000).fit(X_train, y_train)\n",
    "print(\"훈련 세트 점수: {:.2f}\".format(lasso00001.score(X_train, y_train)))\n",
    "print(\"테스트 세트 점수: {:.2f}\".format(lasso00001.score(X_test, y_test)))\n",
    "print(\"사용한 특성의 개수: {}\".format(np.sum(lasso00001.coef_ !=0)))\n",
    "\n",
    "# 0.01에 비해서 훈련 점수는 올라가고 테스트 점수가 떨어짐..\n",
    "# 일반화가 더 안됐음."
   ]
  },
  {
   "cell_type": "code",
   "execution_count": 17,
   "metadata": {},
   "outputs": [
    {
     "name": "stdout",
     "output_type": "stream",
     "text": [
      "훈련 세트 점수: 0.93\n",
      "테스트 세트 점수: 0.77\n",
      "훈련 세트 점수: 0.77\n",
      "테스트 세트 점수: 0.63\n"
     ]
    }
   ],
   "source": [
    "from sklearn.linear_model import Ridge\n",
    "\n",
    "ridge = Ridge(alpha = 0.1).fit(X_train, y_train)\n",
    "print(\"훈련 세트 점수: {:.2f}\".format(ridge.score(X_train, y_train)))\n",
    "print(\"테스트 세트 점수: {:.2f}\".format(ridge.score(X_test, y_test)))\n",
    "\n",
    "lasso001 = Lasso(alpha=0.1, max_iter=100000).fit(X_train, y_train)\n",
    "print(\"훈련 세트 점수: {:.2f}\".format(lasso001.score(X_train, y_train)))\n",
    "print(\"테스트 세트 점수: {:.2f}\".format(lasso001.score(X_test, y_test)))"
   ]
  },
  {
   "cell_type": "code",
   "execution_count": 26,
   "metadata": {},
   "outputs": [
    {
     "data": {
      "text/plain": [
       "Text(0, 0.5, '계수 크기')"
      ]
     },
     "execution_count": 26,
     "metadata": {},
     "output_type": "execute_result"
    },
    {
     "data": {
      "image/png": "[encoded data removed]",
      "text/plain": [
       "<Figure size 432x288 with 1 Axes>"
      ]
     },
     "metadata": {
      "needs_background": "light"
     },
     "output_type": "display_data"
    }
   ],
   "source": [
    "plt.plot(lasso.coef_, 's', label=\"Lasso alpha=1\")\n",
    "plt.plot(lasso001.coef_, '^', label=\"Lasso alpha=0.01\")\n",
    "plt.plot(lasso00001.coef_, 'v', label=\"Lasso alpha=0.0001\")\n",
    "plt.plot(ridge.coef_, 's', label=\"ridge alpha=0.1\")\n",
    "\n",
    "plt.legend(loc=(1,0))\n",
    "plt.ylim(-25,25)\n",
    "plt.xlabel(\"계수 목록\")\n",
    "plt.ylabel(\"계수 크기\")"
   ]
  },
  {
   "cell_type": "markdown",
   "metadata": {},
   "source": [
    "alpha = 1 계수 대부분이 0\n",
    "작아질수록 점점 0이 아닌 사용되는 계수가 늘어남"
   ]
  },
  {
   "cell_type": "code",
   "execution_count": null,
   "metadata": {},
   "outputs": [],
   "source": []
  }
 ],
 "metadata": {
  "kernelspec": {
   "display_name": "Python 3",
   "language": "python",
   "name": "python3"
  },
  "language_info": {
   "codemirror_mode": {
    "name": "ipython",
    "version": 3
   },
   "file_extension": ".py",
   "mimetype": "text/x-python",
   "name": "python",
   "nbconvert_exporter": "python",
   "pygments_lexer": "ipython3",
   "version": "3.8.5"
  }
 },
 "nbformat": 4,
 "nbformat_minor": 4
}
