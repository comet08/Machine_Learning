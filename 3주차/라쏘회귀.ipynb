{
 "cells": [
  {
   "cell_type": "markdown",
   "metadata": {},
   "source": [
    "#### 라쏘 회귀\n",
    "\n",
    "- penalty > 릿지에서는 L2-norm / 라쏘에서는 L1-norm\n",
    "- L1-norm은 가중치가 0이 될 수 있음 > w\n",
    "\n",
    "\n",
    "- L2-norm =  ∑w^2\n",
    "- L1-norm = ∑|w|\n",
    "\n",
    "\n",
    "- 반영되지 않는 특성이 생길 수 있음 = 특성을 선별적으로 사용\n",
    "- 특성 일부가 중요하고 일부는 중요하지 않을때"
   ]
  },
  {
   "cell_type": "code",
   "execution_count": 3,
   "metadata": {},
   "outputs": [],
   "source": [
    "import numpy as np\n",
    "import pandas as pd\n",
    "import matplotlib\n",
    "import matplotlib.pyplot as plt\n",
    "import mglearn\n",
    "from sklearn.model_selection import train_test_split\n",
    "\n",
    "%matplotlib inline\n",
    "from matplotlib import font_manager, rc\n",
    "font_name = font_manager.FontProperties(fname='c:/Windows/Fonts/NanumBarunGothic.ttf').get_name()\n",
    "rc('font',family=font_name)\n",
    "\n",
    "matplotlib.rcParams['axes.unicode_minus'] = False "
   ]
  },
  {
   "cell_type": "code",
   "execution_count": 4,
   "metadata": {},
   "outputs": [],
   "source": [
    "X, y = mglearn.datasets.load_extended_boston()\n",
    "X_train, X_test, y_train, y_test = train_test_split(X, y, random_state=0)"
   ]
  },
  {
   "cell_type": "code",
   "execution_count": 17,
   "metadata": {},
   "outputs": [
    {
     "name": "stdout",
     "output_type": "stream",
     "text": [
      "훈련 세트 점수: 0.29\n",
      "테스트 세트 점수: 0.21\n",
      "사용한 특성의 개수: 4\n",
      "\n",
      "계수값 [-0.          0.         -0.          0.         -0.          0.\n",
      " -0.          0.         -0.         -0.         -0.          0.\n",
      " -5.3529079  -0.          0.         -0.          0.         -0.\n",
      " -0.         -0.         -0.         -0.         -0.         -0.\n",
      " -0.         -0.          0.          0.          0.          0.\n",
      "  0.          0.          0.          0.          0.          0.\n",
      "  0.          0.         -0.          0.         -0.         -0.\n",
      " -0.         -0.         -0.         -0.         -0.         -0.\n",
      " -0.          0.          0.          0.          0.          0.\n",
      "  0.          0.          0.          0.         -0.         -0.\n",
      " -0.         -0.         -0.         -0.         -0.         -0.\n",
      " -0.         -0.          0.          0.          0.         -0.\n",
      " -0.         -0.          0.         -0.         -0.          0.\n",
      " -0.         -1.05063037 -3.3104274  -0.         -0.          0.\n",
      " -0.         -0.         -0.          0.         -0.         -0.41386744\n",
      " -0.         -0.         -0.         -0.         -0.         -0.\n",
      " -0.         -0.         -0.         -0.         -0.          0.\n",
      " -0.         -0.        ]\n",
      "(array([12, 79, 80, 89], dtype=int64),)\n"
     ]
    }
   ],
   "source": [
    "from sklearn.linear_model import Lasso\n",
    "\n",
    "lasso = Lasso().fit(X_train, y_train)\n",
    "print(\"훈련 세트 점수: {:.2f}\".format(lasso.score(X_train, y_train)))\n",
    "print(\"테스트 세트 점수: {:.2f}\".format(lasso.score(X_test, y_test)))\n",
    "print(\"사용한 특성의 개수: {}\".format(np.sum(lasso.coef_ !=0)))\n",
    "\n",
    "print('')\n",
    "print(\"계수값\", lasso.coef_)\n",
    "print(np.where(lasso.coef_!=0))\n",
    "\n",
    "#"
   ]
  },
  {
   "cell_type": "code",
   "execution_count": 6,
   "metadata": {},
   "outputs": [
    {
     "name": "stdout",
     "output_type": "stream",
     "text": [
      "훈련 세트 점수: 0.90\n",
      "테스트 세트 점수: 0.77\n",
      "사용한 특성의 개수: 33\n"
     ]
    }
   ],
   "source": [
    "lasso001 = Lasso(alpha=0.01, max_iter=100000).fit(X_train, y_train)\n",
    "print(\"훈련 세트 점수: {:.2f}\".format(lasso001.score(X_train, y_train)))\n",
    "print(\"테스트 세트 점수: {:.2f}\".format(lasso001.score(X_test, y_test)))\n",
    "print(\"사용한 특성의 개수: {}\".format(np.sum(lasso001.coef_ !=0)))\n",
    "\n",
    "# max_iter = lasso는 하강하는 방식의 학습법이라서\n",
    "# alpha값을 줄이면 반복 횟수를 늘려야 한다고 함.\n",
    "\n",
    "# 경사하강법의 학습률과 반복 횟수 같은 느낌인가?"
   ]
  },
  {
   "cell_type": "code",
   "execution_count": 7,
   "metadata": {},
   "outputs": [
    {
     "name": "stdout",
     "output_type": "stream",
     "text": [
      "훈련 세트 점수: 0.95\n",
      "테스트 세트 점수: 0.64\n",
      "사용한 특성의 개수: 96\n"
     ]
    }
   ],
   "source": [
    "lasso00001 = Lasso(alpha = 0.0001, max_iter=100000).fit(X_train, y_train)\n",
    "print(\"훈련 세트 점수: {:.2f}\".format(lasso00001.score(X_train, y_train)))\n",
    "print(\"테스트 세트 점수: {:.2f}\".format(lasso00001.score(X_test, y_test)))\n",
    "print(\"사용한 특성의 개수: {}\".format(np.sum(lasso00001.coef_ !=0)))\n",
    "\n",
    "# 0.01에 비해서 훈련 점수는 올라가고 테스트 점수가 떨어짐..\n",
    "# 일반화가 더 안됐음."
   ]
  },
  {
   "cell_type": "code",
   "execution_count": 14,
   "metadata": {},
   "outputs": [
    {
     "name": "stdout",
     "output_type": "stream",
     "text": [
      "훈련 세트 점수: 0.93\n",
      "테스트 세트 점수: 0.77\n",
      "훈련 세트 점수: 0.90\n",
      "테스트 세트 점수: 0.77\n"
     ]
    }
   ],
   "source": [
    "from sklearn.linear_model import Ridge\n",
    "\n",
    "ridge = Ridge(alpha = 0.1).fit(X_train, y_train)\n",
    "print(\"훈련 세트 점수: {:.2f}\".format(ridge.score(X_train, y_train)))\n",
    "print(\"테스트 세트 점수: {:.2f}\".format(ridge.score(X_test, y_test)))\n",
    "\n",
    "lasso001 = Lasso(alpha=0.01, max_iter=100000).fit(X_train, y_train)\n",
    "print(\"훈련 세트 점수: {:.2f}\".format(lasso001.score(X_train, y_train)))\n",
    "print(\"테스트 세트 점수: {:.2f}\".format(lasso001.score(X_test, y_test)))\n",
    "\n",
    "#"
   ]
  },
  {
   "cell_type": "code",
   "execution_count": 19,
   "metadata": {
    "scrolled": true
   },
   "outputs": [
    {
     "name": "stdout",
     "output_type": "stream",
     "text": [
      "alpha = 1 :   4\n",
      "alpha = 0.01 :   33\n",
      "alpha = 0.001 :   96\n",
      "Ridge :  104\n"
     ]
    },
    {
     "data": {
      "text/plain": [
       "Text(0, 0.5, '계수 크기')"
      ]
     },
     "execution_count": 19,
     "metadata": {},
     "output_type": "execute_result"
    },
    {
     "data": {
      "image/png": "[encoded data removed]",
      "text/plain": [
       "<Figure size 432x288 with 1 Axes>"
      ]
     },
     "metadata": {
      "needs_background": "light"
     },
     "output_type": "display_data"
    }
   ],
   "source": [
    "plt.plot(lasso.coef_, 's', label=\"Lasso alpha=1\")\n",
    "plt.plot(lasso001.coef_, '^', label=\"Lasso alpha=0.01\")\n",
    "plt.plot(lasso00001.coef_, 'v', label=\"Lasso alpha=0.0001\")\n",
    "plt.plot(ridge.coef_, 's', label=\"ridge alpha=0.1\")\n",
    "\n",
    "print('alpha = 1 :  ', np.sum(lasso.coef_!=0))\n",
    "print('alpha = 0.01 :  ', np.sum(lasso001.coef_!=0))\n",
    "print('alpha = 0.001 :  ', np.sum(lasso00001.coef_!=0))\n",
    "print(\"Ridge : \", np.sum(ridge.coef_!=0))\n",
    "plt.legend(loc=(1,0))\n",
    "plt.ylim(-25,25)\n",
    "plt.xlabel(\"계수 목록\")\n",
    "plt.ylabel(\"계수 크기\")"
   ]
  },
  {
   "cell_type": "markdown",
   "metadata": {},
   "source": [
    "alpha = 1 계수 대부분이 0\n",
    "작아질수록 점점 0이 아닌 사용되는 계수가 늘어남"
   ]
  },
  {
   "cell_type": "code",
   "execution_count": 67,
   "metadata": {},
   "outputs": [
    {
     "name": "stdout",
     "output_type": "stream",
     "text": [
      "[[[0.2666855509248528, 0.20366147879522123], [0.2578061348516594, 0.14718947453569653], [0.24938119758799937, 0.22470999933149782], [0.20462864135154146, 0.13546370431413957], [0.0, -0.0025304636643577183]], [[0.6090049856206103, 0.7485729595582387], [0.6157302723353866, 0.6038229084590105], [0.6054674977023747, 0.6186065233248108], [0.6627558383099512, 0.5438821806168832], [0.49925188366221274, 0.5909942670882591]], [[0.6090053279061554, 0.7487720212722673], [0.6157306302240895, 0.6039396702206058], [0.6054678537534223, 0.618734379369854], [0.6627562963917937, 0.5439642494422234], [0.49925306948000603, 0.5913394002822083]]]\n",
      "(5, 2)\n",
      "(5,)\n"
     ]
    },
    {
     "data": {
      "text/plain": [
       "<matplotlib.legend.Legend at 0x284cb305a30>"
      ]
     },
     "execution_count": 67,
     "metadata": {},
     "output_type": "execute_result"
    },
    {
     "data": {
      "image/png": "[encoded data removed]",
      "text/plain": [
       "<Figure size 432x288 with 1 Axes>"
      ]
     },
     "metadata": {
      "needs_background": "light"
     },
     "output_type": "display_data"
    }
   ],
   "source": [
    "import mglearn\n",
    "\n",
    "X, y = mglearn.datasets.make_wave(n_samples=100)\n",
    "\n",
    "score = [[],[],[]]\n",
    "sizes = [0.1, 0.3, 0.5, 0.7, 0.9]\n",
    "for size in sizes:\n",
    "    #print(\"\\nTest size = \" , size);\n",
    "    X_train, X_test, y_train, y_test = train_test_split(X, y, random_state=0, test_size=size)   \n",
    "    lasso = Lasso(alpha=1).fit(X_train, y_train)\n",
    "    score[0].append([lasso.score(X_train, y_train), lasso.score(X_test,y_test)])\n",
    "    lasso001 = Lasso(alpha=0.001).fit(X_train, y_train)\n",
    "    score[1].append([lasso001.score(X_train, y_train), lasso001.score(X_test,y_test)])\n",
    "    lasso00001 = Lasso(alpha=0.00001).fit(X_train, y_train)\n",
    "    score[2].append([lasso00001.score(X_train, y_train), lasso00001.score(X_test,y_test)])\n",
    "\n",
    "print(score)\n",
    "score = np.array(score)\n",
    "sizes = np.array(sizes)\n",
    "print(score[0,:].shape)\n",
    "print(sizes.shape)\n",
    "\n",
    "plt.plot(sizes, score[0,:,0], label = \"1 train\")\n",
    "plt.plot(sizes, score[0,:,1], label = \"1 test\")\n",
    "plt.plot(sizes, score[1,:,0], label = \"0.01 train\")\n",
    "plt.plot(sizes, score[1,:,1], label = \"0.01 test\")\n",
    "plt.plot(sizes, score[2,:,0], label = \"0.0001 train\")\n",
    "plt.plot(sizes, score[2,:,1], label = \"0.0001 test\")\n",
    "\n",
    "\n",
    "plt.legend(loc=(1,0))"
   ]
  },
  {
   "cell_type": "code",
   "execution_count": null,
   "metadata": {},
   "outputs": [],
   "source": []
  }
 ],
 "metadata": {
  "kernelspec": {
   "display_name": "Python 3",
   "language": "python",
   "name": "python3"
  },
  "language_info": {
   "codemirror_mode": {
    "name": "ipython",
    "version": 3
   },
   "file_extension": ".py",
   "mimetype": "text/x-python",
   "name": "python",
   "nbconvert_exporter": "python",
   "pygments_lexer": "ipython3",
   "version": "3.8.5"
  }
 },
 "nbformat": 4,
 "nbformat_minor": 4
}
