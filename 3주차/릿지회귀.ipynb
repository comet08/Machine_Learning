{
 "cells": [
  {
   "cell_type": "markdown",
   "metadata": {},
   "source": [
    "### 릿지회귀 = 선형모델 + 가중치 최소화\n",
    "\n",
    "y = W*x +b\n",
    "   = w[0]*x[0] + .... w[n]*x[n] + b\n",
    "\n",
    "w값이 많아지면.. 데이터 적으면 과적합 / 적으면 안 맞을 가능성..\n",
    "\n",
    "> 특징이 증가하면\n",
    ">- 특징들 사이의 관계로 인해 다중 공선성\n",
    ">- 모델이 지나치게 복잡해짐\n",
    "\n",
    "> 패널티?\n",
    ">- λ*∑wi^2      \n",
    ">- λ=조절 모수 ---- 이걸로 과적합을 방지!\n",
    ">- MSE(=RSS) + 패널티를 최소로 하는 w, b를 찾기\n",
    "\n",
    "RSS + λ*∑wi^2"
   ]
  },
  {
   "cell_type": "markdown",
   "metadata": {},
   "source": [
    "- 가중치 w.. 의 절대값을 가능한 작게! \n",
    "- w의 모든 원소가 0에 가깝게\n",
    "- 특성이 출력에 주는 영향 최소한\n",
    "- 기울기를 작게 : 규제/제약 -> 과대 적합이 되지 않도록 패널티로 강제 제한"
   ]
  },
  {
   "cell_type": "code",
   "execution_count": 5,
   "metadata": {},
   "outputs": [],
   "source": [
    "import numpy as np\n",
    "import pandas as pd\n",
    "import matplotlib\n",
    "import matplotlib.pyplot as plt\n",
    "\n",
    "from sklearn.model_selection import train_test_split\n",
    "\n",
    "import mglearn\n",
    "\n",
    "%matplotlib inline\n",
    "\n",
    "from matplotlib import font_manager, rc\n",
    "font_name = font_manager.FontProperties(fname='c:/Windows/Fonts/NanumBarunGothic.ttf').get_name()\n",
    "rc('font',family=font_name)\n",
    "\n",
    "matplotlib.rcParams['axes.unicode_minus'] = False  #minus가 깨져서 검색하여 코드 추가함\n"
   ]
  },
  {
   "cell_type": "code",
   "execution_count": 66,
   "metadata": {},
   "outputs": [],
   "source": [
    "X,y = mglearn.datasets.load_extended_boston()\n",
    "\n",
    "X_train, X_test, y_train, y_test = train_test_split(X,y,random_state=0)"
   ]
  },
  {
   "cell_type": "code",
   "execution_count": 18,
   "metadata": {},
   "outputs": [
    {
     "name": "stdout",
     "output_type": "stream",
     "text": [
      "훈련 세트 점수: 0.86\n",
      "훈련 세트 점수: 0.73\n"
     ]
    }
   ],
   "source": [
    "#릿지 회귀\n",
    "#여기서 조절 모수는 alpha.\n",
    "\n",
    "from sklearn.linear_model import Ridge\n",
    "\n",
    "ridge = Ridge().fit(X_train, y_train)\n",
    "print(\"훈련 세트 점수: {:.2f}\".format(ridge.score(X_train,y_train)))\n",
    "print(\"훈련 세트 점수: {:.2f}\".format(ridge.score(X_test,y_test)))"
   ]
  },
  {
   "cell_type": "code",
   "execution_count": 13,
   "metadata": {},
   "outputs": [
    {
     "name": "stdout",
     "output_type": "stream",
     "text": [
      "훈련 세트 점수: 0.95\n",
      "훈련 세트 점수: 0.61\n"
     ]
    }
   ],
   "source": [
    "#선형 회귀\n",
    "from sklearn.linear_model import LinearRegression\n",
    "\n",
    "lr = LinearRegression().fit(X_train, y_train)\n",
    "print(\"훈련 세트 점수: {:.2f}\".format(lr.score(X_train,y_train)))\n",
    "print(\"훈련 세트 점수: {:.2f}\".format(lr.score(X_test,y_test)))"
   ]
  },
  {
   "cell_type": "code",
   "execution_count": 14,
   "metadata": {
    "scrolled": true
   },
   "outputs": [
    {
     "name": "stdout",
     "output_type": "stream",
     "text": [
      "훈련 세트 점수: 0.90\n",
      "훈련 세트 점수: 0.61\n"
     ]
    }
   ],
   "source": [
    "#knn회귀\n",
    "from sklearn.neighbors import KNeighborsRegressor\n",
    "\n",
    "knn = KNeighborsRegressor(n_neighbors=3).fit(X_train, y_train)\n",
    "print(\"훈련 세트 점수: {:.2f}\".format(knn.score(X_train,y_train)))\n",
    "print(\"훈련 세트 점수: {:.2f}\".format(knn.score(X_test,y_test)))"
   ]
  },
  {
   "cell_type": "code",
   "execution_count": 17,
   "metadata": {},
   "outputs": [
    {
     "name": "stdout",
     "output_type": "stream",
     "text": [
      "X.shape : (506, 104)\n",
      "X_train.shape : (379, 104) X_test.shape : (127, 104)\n"
     ]
    }
   ],
   "source": [
    "print('X.shape : {}'.format(X.shape))\n",
    "print('X_train.shape : {} X_test.shape : {}'.format(X_train.shape, X_test.shape))"
   ]
  },
  {
   "cell_type": "code",
   "execution_count": 67,
   "metadata": {
    "scrolled": true
   },
   "outputs": [
    {
     "data": {
      "text/plain": [
       "(-5.15, 108.15)"
      ]
     },
     "execution_count": 67,
     "metadata": {},
     "output_type": "execute_result"
    },
    {
     "data": {
      "image/png": "[encoded data removed]",
      "text/plain": [
       "<Figure size 432x288 with 1 Axes>"
      ]
     },
     "metadata": {
      "needs_background": "light"
     },
     "output_type": "display_data"
    }
   ],
   "source": [
    "alpha = [10, 1, 0.1]\n",
    "coef = []\n",
    "\n",
    "for i in alpha:\n",
    "    ridge = Ridge(alpha=i).fit(X_train, y_train)\n",
    "    coef.append(ridge.coef_)\n",
    "\n",
    "#print(coef[0])\n",
    "for i in range(len(alpha)):\n",
    "    plt.plot(range(len(X_test[0])), coef[i],'^', label='Ridge alpha={}'.format(alpha[i]))\n",
    "plt.plot(lr.coef_, 'o', label='LinearRegression')\n",
    "\n",
    "plt.xlabel('계수 목록')\n",
    "plt.ylabel('계수 크기')\n",
    "plt.legend(loc=4)\n",
    "plt.ylim(-25,25)\n",
    "xlims = plt.xlim()\n",
    "plt.hlines(0, xlims[0], xlims[1])\n",
    "plt.xlim(xlims)\n",
    "\n"
   ]
  },
  {
   "cell_type": "code",
   "execution_count": 83,
   "metadata": {},
   "outputs": [
    {
     "name": "stdout",
     "output_type": "stream",
     "text": [
      "alpha =  10       β0 = 25.01\n",
      "alpha =  1       β0 = 21.39\n",
      "alpha =  0.1       β0 = 11.12\n",
      "linear b = 30.93\n"
     ]
    }
   ],
   "source": [
    "alpha = [10, 1, 0.1]\n",
    "inter = []\n",
    "\n",
    "for i in alpha:\n",
    "    ridge = Ridge(alpha=i).fit(X_train, y_train)\n",
    "    print(\"alpha = \", i, \"      β0 = {:.2f}\".format(ridge.intercept_))\n",
    "print(\"linear b = {:.2f}\".format(lr.intercept_))\n",
    "\n",
    "\n"
   ]
  },
  {
   "cell_type": "markdown",
   "metadata": {},
   "source": [
    "alpha = 10의 경우\n",
    "계수 크기가 거의 0에 수렴.. 영향력이 작아져서 가중치가 줄어듬\n",
    "\n",
    "선형회귀보다 패널티가 조금이라도 들어간 0.1의 진폭이 더 작은 것을 확인\n",
    "\n",
    "intercept의 경우 linear > 10 > 1 > 0.1 순서로\n",
    "선형이 릿지보다 큰 것을 알 수 있고 릿지간에는 coef와 반대로 alpha가 클수록 intercept도 크다. \n",
    "\n",
    "-> βj로 기울기가 커져서 β0는 작아지는.."
   ]
  },
  {
   "cell_type": "code",
   "execution_count": 60,
   "metadata": {},
   "outputs": [
    {
     "name": "stdout",
     "output_type": "stream",
     "text": [
      "alpha = 0.01 / train score = 0.94 , test score = 0.70\n",
      "alpha = 0.1 / train score = 0.93 , test score = 0.77\n",
      "alpha = 0.2 / train score = 0.92 , test score = 0.77\n",
      "alpha = 0.3 / train score = 0.91 , test score = 0.77\n",
      "alpha = 0.5 / train score = 0.90 , test score = 0.77\n",
      "alpha = 5 / train score = 0.82 , test score = 0.68\n",
      "alpha = 10 / train score = 0.79 , test score = 0.64\n"
     ]
    }
   ],
   "source": [
    "alpha = [0.01, 0.1, 0.2, 0.3, 0.5, 5, 10]\n",
    "\n",
    "for i in alpha:\n",
    "    ridge = Ridge(alpha = i).fit(X_train, y_train)\n",
    "    print(\"alpha = {} / train score = {:.2f} , test score = {:.2f}\".format(i, ridge.score(X_train,y_train), ridge.score(X_test,y_test)))\n",
    "          "
   ]
  },
  {
   "cell_type": "markdown",
   "metadata": {},
   "source": [
    "0.01 => 과대적합 / 계수 편차가 크다 / 복잡\n",
    "\n",
    "10 => 과소적합 / 계수 편차가 작다 / 단순"
   ]
  },
  {
   "cell_type": "code",
   "execution_count": 62,
   "metadata": {},
   "outputs": [
    {
     "data": {
      "image/png": "[encoded data removed]",
      "text/plain": [
       "<Figure size 432x288 with 1 Axes>"
      ]
     },
     "metadata": {
      "needs_background": "light"
     },
     "output_type": "display_data"
    }
   ],
   "source": [
    "mglearn.plots.plot_ridge_n_samples()\n",
    "\n",
    "# 선형 모델은 훈련데이터에 대해 성능이 좋지만 과대적합\n",
    "# 훈련 세트가 커질수록 과대적합이 감소함\n",
    "\n",
    "# 릿지는 테스트 데이터에 대해 성능이 좋고\n",
    "# 훈련 세트가 커지면서 규제 효과가 감소\n",
    "\n",
    "#그래프를 보면 릿지랑 선형이랑 만나는 지점이 생김..\n",
    "# => 이 정도로 훈련 세트가 커지면 사실상 알파의 영향이 거의 없음..\n"
   ]
  },
  {
   "cell_type": "code",
   "execution_count": null,
   "metadata": {},
   "outputs": [],
   "source": []
  }
 ],
 "metadata": {
  "kernelspec": {
   "display_name": "Python 3",
   "language": "python",
   "name": "python3"
  },
  "language_info": {
   "codemirror_mode": {
    "name": "ipython",
    "version": 3
   },
   "file_extension": ".py",
   "mimetype": "text/x-python",
   "name": "python",
   "nbconvert_exporter": "python",
   "pygments_lexer": "ipython3",
   "version": "3.8.5"
  }
 },
 "nbformat": 4,
 "nbformat_minor": 4
}
