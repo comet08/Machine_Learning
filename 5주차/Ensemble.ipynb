{
 "cells": [
  {
   "cell_type": "markdown",
   "metadata": {},
   "source": [
    "# Ensemble"
   ]
  },
  {
   "cell_type": "code",
   "execution_count": 1,
   "metadata": {},
   "outputs": [],
   "source": [
    "import numpy as np\n",
    "import pandas as pd\n",
    "import matplotlib\n",
    "import matplotlib.pyplot as plt\n",
    "import mglearn\n",
    "from sklearn.model_selection import train_test_split\n",
    "\n",
    "from matplotlib import font_manager, rc\n",
    "font_name = font_manager.FontProperties(fname='c:/Windows/Fonts/NanumBarunGothic.ttf').get_name()\n",
    "rc('font',family=font_name)\n",
    "\n",
    "matplotlib.rcParams['axes.unicode_minus'] = False"
   ]
  },
  {
   "cell_type": "code",
   "execution_count": 2,
   "metadata": {},
   "outputs": [],
   "source": [
    "from sklearn.tree import DecisionTreeClassifier\n",
    "from sklearn.ensemble import RandomForestClassifier\n",
    "from sklearn.linear_model import LogisticRegression\n",
    "from sklearn.naive_bayes import GaussianNB\n",
    "from sklearn.model_selection import cross_val_score\n",
    "from sklearn.ensemble import GradientBoostingClassifier # loss = 'deviance'\n",
    "from sklearn.model_selection import cross_val_score\n",
    "from sklearn.model_selection import cross_val_predict\n",
    "\n",
    "from sklearn.metrics import confusion_matrix\n",
    "from sklearn.metrics import accuracy_score"
   ]
  },
  {
   "cell_type": "code",
   "execution_count": 3,
   "metadata": {},
   "outputs": [],
   "source": [
    "#cancer data\n",
    "from sklearn.datasets import load_breast_cancer\n",
    "\n",
    "cancer = load_breast_cancer();\n",
    "cX_train, cX_test, cy_train, cy_test = train_test_split(cancer.data, cancer.target,                                                  \n",
    "                                                    random_state=0)\n",
    "\n",
    "#moon data\n",
    "from sklearn.datasets import make_moons\n",
    "\n",
    "X,y = make_moons(n_samples=500, random_state=42, noise=0.3)\n",
    "\n",
    "mX_train, mX_test, my_train, my_test = train_test_split(X,y,random_state=42)"
   ]
  },
  {
   "cell_type": "markdown",
   "metadata": {},
   "source": [
    "### Voting\n",
    "\n",
    "- 여러 개의 모델이 투표함\n",
    "- estimators = []에 분류기들을 넣고 사용\n",
    "- voting = 'hard' 'soft'  / 직접, 간접 투표\n",
    "- soft쓰려면 모든 모델이 확률 추정을 하는 것은 아니라 다른 작업 필요할 수도 있음"
   ]
  },
  {
   "cell_type": "code",
   "execution_count": 4,
   "metadata": {
    "scrolled": true
   },
   "outputs": [
    {
     "name": "stdout",
     "output_type": "stream",
     "text": [
      "Cancer Data\n",
      "\n",
      "LogisticRegression 0.960 , 0.951\n",
      "RandomForestClassifier 1.000 , 0.972\n",
      "GaussianNB 0.951 , 0.937\n",
      "DecisionTreeClassifier 1.000 , 0.881\n",
      "VotingClassifier 0.995 , 0.958\n",
      "VotingClassifier 0.995 , 0.951\n",
      "\n",
      "\n",
      "Moon Data\n",
      "\n",
      "LogisticRegression 0.843 , 0.864\n",
      "RandomForestClassifier 1.000 , 0.896\n",
      "GaussianNB 0.840 , 0.856\n",
      "DecisionTreeClassifier 1.000 , 0.888\n",
      "VotingClassifier 0.923 , 0.856\n",
      "VotingClassifier 0.968 , 0.920\n"
     ]
    }
   ],
   "source": [
    "from sklearn.ensemble import VotingClassifier\n",
    "\n",
    "#voting에 사용할 분류기들\n",
    "clf1 = LogisticRegression(random_state=0, max_iter=2000)\n",
    "clf2 = RandomForestClassifier(n_estimators=100, random_state=0)\n",
    "clf3 = GaussianNB()\n",
    "clf4 = DecisionTreeClassifier(random_state=0)\n",
    "\n",
    "\n",
    "vt_hard = VotingClassifier(estimators=[('lo', clf1), ('rf', clf2), ('gn', clf3), ('dt', clf4)])\n",
    "vt_soft = VotingClassifier(estimators=[('lo', clf1), ('rf', clf2), ('gn', clf3), ('dt', clf4)], voting='soft')\n",
    "\n",
    "\n",
    "\n",
    "print(\"Cancer Data\\n\")\n",
    "for clf in (clf1, clf2, clf3, clf4, vt_hard, vt_soft):\n",
    "    clf.fit(cX_train, cy_train)\n",
    "    print(clf.__class__.__name__, '{:.3f} , {:.3f}'.format(accuracy_score(cy_train, clf.predict(cX_train)),\n",
    "                                                                          accuracy_score(cy_test, clf.predict(cX_test))))\n",
    "\n",
    "print(\"\\n\\nMoon Data\\n\")\n",
    "for clf in (clf1, clf2, clf3, clf4, vt_hard, vt_soft):\n",
    "    clf.fit(mX_train, my_train)\n",
    "    print(clf.__class__.__name__, '{:.3f} , {:.3f}'.format(accuracy_score(my_train, clf.predict(mX_train)),\n",
    "                                                                          accuracy_score(my_test, clf.predict(mX_test))))\n"
   ]
  },
  {
   "cell_type": "markdown",
   "metadata": {},
   "source": [
    "위 voting model이 hard고 아래가 soft임\n",
    "\n",
    "- 랜덤포레스트랑 결정트리는 과적합\n",
    "- cancer data에서는 hard가 더 성능이 좋고 moon에선 soft가 더 높은 정확도를 가진다\n",
    "- 데이터 성격에 따라서도 hard와 soft 사이에 차이가 있는 것 같다"
   ]
  },
  {
   "cell_type": "code",
   "execution_count": 5,
   "metadata": {},
   "outputs": [
    {
     "name": "stdout",
     "output_type": "stream",
     "text": [
      "Cancer Data\n",
      "\n",
      "LogisticRegression 0.960 , 0.951\n",
      "RandomForestClassifier 1.000 , 0.972\n",
      "VotingClassifier 0.984 , 0.944\n",
      "VotingClassifier 0.991 , 0.965\n",
      "\n",
      "\n",
      "Moon Data\n",
      "\n",
      "LogisticRegression 0.843 , 0.864\n",
      "RandomForestClassifier 1.000 , 0.896\n",
      "VotingClassifier 0.920 , 0.848\n",
      "VotingClassifier 0.957 , 0.912\n"
     ]
    }
   ],
   "source": [
    "vt_hard = VotingClassifier(estimators=[('lo', clf1), ('rf', clf2)])\n",
    "vt_soft = VotingClassifier(estimators=[('lo', clf1), ('rf', clf2)], voting='soft')\n",
    "\n",
    "\n",
    "print(\"Cancer Data\\n\")\n",
    "for clf in (clf1, clf2, vt_hard, vt_soft):\n",
    "    clf.fit(cX_train, cy_train)\n",
    "    print(clf.__class__.__name__, '{:.3f} , {:.3f}'.format(accuracy_score(cy_train, clf.predict(cX_train)),\n",
    "                                                                          accuracy_score(cy_test, clf.predict(cX_test))))\n",
    "    \n",
    "    \n",
    "print(\"\\n\\nMoon Data\\n\")\n",
    "for clf in (clf1, clf2, vt_hard, vt_soft):\n",
    "    clf.fit(mX_train, my_train)\n",
    "    print(clf.__class__.__name__, '{:.3f} , {:.3f}'.format(accuracy_score(my_train, clf.predict(mX_train)),\n",
    "                                                                          accuracy_score(my_test, clf.predict(mX_test))))\n"
   ]
  },
  {
   "cell_type": "markdown",
   "metadata": {},
   "source": [
    "모델 두 가지를 빼고(가우시안과 결정트리) 테스트\n",
    "\n",
    "\n",
    "- 보팅분류기를 보니 cancer data의 경우는 점수가 조금 떨어졌고\n",
    "- moon은 이전과 비슷하다\n",
    "- 모델이 많다고 좋은 것이 아니라\n",
    "- 모델-데이터이므로 데이터에 잘 맞는 모델의 집합을 고르는 것이 좋은 것 같음"
   ]
  },
  {
   "cell_type": "markdown",
   "metadata": {},
   "source": [
    "### Bagging"
   ]
  },
  {
   "cell_type": "code",
   "execution_count": 6,
   "metadata": {},
   "outputs": [
    {
     "name": "stdout",
     "output_type": "stream",
     "text": [
      "bagging 테스트 세트 정확도 : 0.972\n",
      "random forest테스트 세트 정확도 : 0.972\n"
     ]
    }
   ],
   "source": [
    "from sklearn.ensemble import BaggingClassifier\n",
    "#base_estimator = None (결정트리가 기본)\n",
    "\n",
    "bc = BaggingClassifier(random_state=0).fit(cX_train, cy_train)\n",
    "print(\"bagging 테스트 세트 정확도 : {:.3f}\".format(bc.score(cX_test, cy_test)))\n",
    "\n",
    "rf = RandomForestClassifier(random_state=0).fit(cX_train, cy_train)\n",
    "print(\"random forest테스트 세트 정확도 : {:.3f}\".format(rf.score(cX_test, cy_test)))"
   ]
  },
  {
   "cell_type": "markdown",
   "metadata": {},
   "source": [
    "random forest와 유사하지만 max_samples를 설정 가능하다\n",
    "- max_samples = 부트 스트랩 샘플수\n",
    "- https://scikit-learn.org/stable/modules/generated/sklearn.ensemble.BaggingClassifier.html"
   ]
  },
  {
   "cell_type": "code",
   "execution_count": 7,
   "metadata": {},
   "outputs": [
    {
     "data": {
      "text/html": [
       "<div>\n",
       "<style scoped>\n",
       "    .dataframe tbody tr th:only-of-type {\n",
       "        vertical-align: middle;\n",
       "    }\n",
       "\n",
       "    .dataframe tbody tr th {\n",
       "        vertical-align: top;\n",
       "    }\n",
       "\n",
       "    .dataframe thead th {\n",
       "        text-align: right;\n",
       "    }\n",
       "</style>\n",
       "<table border=\"1\" class=\"dataframe\">\n",
       "  <thead>\n",
       "    <tr style=\"text-align: right;\">\n",
       "      <th></th>\n",
       "      <th>train</th>\n",
       "      <th>test</th>\n",
       "    </tr>\n",
       "  </thead>\n",
       "  <tbody>\n",
       "    <tr>\n",
       "      <th>0.1</th>\n",
       "      <td>0.946009</td>\n",
       "      <td>0.937063</td>\n",
       "    </tr>\n",
       "    <tr>\n",
       "      <th>0.3</th>\n",
       "      <td>0.978873</td>\n",
       "      <td>0.972028</td>\n",
       "    </tr>\n",
       "    <tr>\n",
       "      <th>0.5</th>\n",
       "      <td>0.978873</td>\n",
       "      <td>0.972028</td>\n",
       "    </tr>\n",
       "    <tr>\n",
       "      <th>0.7</th>\n",
       "      <td>0.988263</td>\n",
       "      <td>0.965035</td>\n",
       "    </tr>\n",
       "    <tr>\n",
       "      <th>1.0</th>\n",
       "      <td>0.626761</td>\n",
       "      <td>0.629371</td>\n",
       "    </tr>\n",
       "    <tr>\n",
       "      <th>3.0</th>\n",
       "      <td>0.856808</td>\n",
       "      <td>0.839161</td>\n",
       "    </tr>\n",
       "    <tr>\n",
       "      <th>5.0</th>\n",
       "      <td>0.903756</td>\n",
       "      <td>0.895105</td>\n",
       "    </tr>\n",
       "    <tr>\n",
       "      <th>10.0</th>\n",
       "      <td>0.913146</td>\n",
       "      <td>0.944056</td>\n",
       "    </tr>\n",
       "  </tbody>\n",
       "</table>\n",
       "</div>"
      ],
      "text/plain": [
       "         train      test\n",
       "0.1   0.946009  0.937063\n",
       "0.3   0.978873  0.972028\n",
       "0.5   0.978873  0.972028\n",
       "0.7   0.988263  0.965035\n",
       "1.0   0.626761  0.629371\n",
       "3.0   0.856808  0.839161\n",
       "5.0   0.903756  0.895105\n",
       "10.0  0.913146  0.944056"
      ]
     },
     "metadata": {},
     "output_type": "display_data"
    },
    {
     "data": {
      "text/plain": [
       "<matplotlib.legend.Legend at 0x1345c3fc3a0>"
      ]
     },
     "execution_count": 7,
     "metadata": {},
     "output_type": "execute_result"
    },
    {
     "data": {
      "image/png": "[encoded data removed]",
      "text/plain": [
       "<Figure size 432x288 with 1 Axes>"
      ]
     },
     "metadata": {
      "needs_background": "light"
     },
     "output_type": "display_data"
    }
   ],
   "source": [
    "score = []\n",
    "samples = [0.1,0.3,0.5,0.7,1,3,5,10]\n",
    "for s in samples:\n",
    "    bc = BaggingClassifier(random_state=0, max_samples=s).fit(cX_train, cy_train)\n",
    "    score.append([bc.score(cX_train, cy_train),bc.score(cX_test, cy_test)])\n",
    "\n",
    "df = pd.DataFrame(score, index=samples, columns = [\"train\",\"test\"])\n",
    "display(df)\n",
    "\n",
    "score = np.array(score)\n",
    "\n",
    "plt.plot(samples, score[:,0].reshape(-1,1), 'g-', label=\"train\")\n",
    "plt.plot(samples, score[:,1].reshape(-1,1), 'b-', label=\"test\")\n",
    "plt.legend()"
   ]
  },
  {
   "cell_type": "markdown",
   "metadata": {},
   "source": [
    "### max_samples에 따른 결과\n",
    "\n",
    "- 정수면 그대로 사용하고, 실수면 max_samples * X.shape[0](샘플의 수)로 사용\n",
    "- 정수면 그대로 사용이라서 max_samples = 1일때는 하나만 사용가능해서 정확도가 확 떨어진다\n",
    "- 그 후 샘플수가 늘어나면서 정확도가 다시 오르는 것을 확인할 수 있다"
   ]
  },
  {
   "cell_type": "markdown",
   "metadata": {},
   "source": [
    "### OOB Score\n",
    "\n",
    "- 데이터가 적을 경우 검증 데이터로 사용가능. 테스트 데이터와는 다름\n",
    "- bagging은 부트스트랩 샘플링 방식이라서 사용되지 않는 샘플들이 존재함\n",
    "- 63 : 37 정도\n",
    "- 이것들을 마지막 테스트 데이터로 사용하는 것\n",
    "- oob_score = True로 설정하면 알아서 평가"
   ]
  },
  {
   "cell_type": "code",
   "execution_count": 8,
   "metadata": {
    "scrolled": true
   },
   "outputs": [
    {
     "name": "stdout",
     "output_type": "stream",
     "text": [
      "bagging 테스트 세트 정확도 : 0.972\n",
      "bagging oob score :  0.9530516431924883\n"
     ]
    }
   ],
   "source": [
    "bc = BaggingClassifier(DecisionTreeClassifier(), random_state=40, n_estimators=500,\n",
    "                      bootstrap=True, oob_score=True).fit(cX_train,cy_train)\n",
    "\n",
    "print(\"bagging 테스트 세트 정확도 : {:.3f}\".format(bc.score(cX_test, cy_test)))\n",
    "print(\"bagging oob score : \", (bc.oob_score_))\n",
    "#accuracy_score(y_test, bc.predict(X_test))\n",
    "\n",
    "#cancer"
   ]
  },
  {
   "cell_type": "code",
   "execution_count": 9,
   "metadata": {},
   "outputs": [
    {
     "name": "stdout",
     "output_type": "stream",
     "text": [
      "bagging 테스트 세트 정확도 : 0.912\n",
      "bagging oob score :  0.8986666666666666\n"
     ]
    }
   ],
   "source": [
    "bc = BaggingClassifier(DecisionTreeClassifier(), random_state=40, n_estimators=500,\n",
    "                      bootstrap=True, oob_score=True).fit(mX_train,my_train)\n",
    "\n",
    "print(\"bagging 테스트 세트 정확도 : {:.3f}\".format(bc.score(mX_test, my_test)))\n",
    "print(\"bagging oob score : \", (bc.oob_score_))\n",
    "#accuracy_score(y_test, bc.predict(X_test))\n",
    "\n",
    "#moon Data"
   ]
  },
  {
   "cell_type": "code",
   "execution_count": 10,
   "metadata": {},
   "outputs": [
    {
     "name": "stdout",
     "output_type": "stream",
     "text": [
      "bagging 테스트 세트 정확도 : 0.896\n",
      "bagging oob score :  0.9066666666666666\n"
     ]
    }
   ],
   "source": [
    "rf = RandomForestClassifier(random_state=0, oob_score=True).fit(mX_train, my_train)\n",
    "\n",
    "print(\"bagging 테스트 세트 정확도 : {:.3f}\".format(rf.score(mX_test, my_test)))\n",
    "print(\"bagging oob score : \", (rf.oob_score_))\n",
    "\n",
    "#random forest oob"
   ]
  },
  {
   "cell_type": "code",
   "execution_count": 16,
   "metadata": {},
   "outputs": [
    {
     "name": "stdout",
     "output_type": "stream",
     "text": [
      "bagging 테스트 세트 정확도 : 0.904\n",
      "bagging oob score :  0.904\n"
     ]
    }
   ],
   "source": [
    "ex = ExtraTreesClassifier(random_state=0, oob_score=True, bootstrap=True).fit(mX_train, my_train)\n",
    "\n",
    "print(\"bagging 테스트 세트 정확도 : {:.3f}\".format(ex.score(mX_test, my_test)))\n",
    "print(\"bagging oob score : \", (ex.oob_score_))\n",
    "\n",
    "#extra tree forest oob"
   ]
  },
  {
   "cell_type": "markdown",
   "metadata": {},
   "source": [
    "- oob 결과를 보니 실제 테스트 데이터의 결과와는 다른 것을 확인할 수 있음..\n",
    "\n",
    "- 실제 = 0.912   \n",
    "- oob는 0.898 \n",
    "\n",
    "\n",
    "- Extratree와 random forest에도 oob score 가능\n",
    "\n",
    "\n",
    "- ExtraTree는 부트스트랩 샘플링을 적용하지 않기 때문에 bootstrap=True로 설정해줘야 oob score을 쓸 수 있다"
   ]
  },
  {
   "cell_type": "markdown",
   "metadata": {},
   "source": [
    "### Extratree"
   ]
  },
  {
   "cell_type": "code",
   "execution_count": 22,
   "metadata": {},
   "outputs": [
    {
     "name": "stdout",
     "output_type": "stream",
     "text": [
      "훈련 세트 정확도 : 1.000\n",
      "테스트 세트 정확도 : 0.972\n",
      "30\n"
     ]
    }
   ],
   "source": [
    "from sklearn.ensemble import ExtraTreesClassifier\n",
    "\n",
    "exc = ExtraTreesClassifier(random_state=0).fit(cX_train, cy_train)\n",
    "print(\"훈련 세트 정확도 : {:.3f}\".format(exc.score(cX_train, cy_train)))\n",
    "print(\"테스트 세트 정확도 : {:.3f}\".format(exc.score(cX_test, cy_test)))\n",
    "\n",
    "print(np.sum(exc.feature_importances_!=0))"
   ]
  },
  {
   "cell_type": "code",
   "execution_count": 23,
   "metadata": {
    "scrolled": true
   },
   "outputs": [
    {
     "name": "stdout",
     "output_type": "stream",
     "text": [
      "훈련 세트 정확도 : 1.000\n",
      "테스트 세트 정확도 : 0.972\n",
      "30\n"
     ]
    }
   ],
   "source": [
    "rf = RandomForestClassifier(random_state=0).fit(cX_train, cy_train)\n",
    "print(\"훈련 세트 정확도 : {:.3f}\".format(rf.score(cX_train, cy_train)))\n",
    "print(\"테스트 세트 정확도 : {:.3f}\".format(rf.score(cX_test, cy_test)))\n",
    "\n",
    "print(np.sum(exc.feature_importances_!=0))\n",
    "#결과는 같음"
   ]
  },
  {
   "cell_type": "code",
   "execution_count": 24,
   "metadata": {},
   "outputs": [],
   "source": [
    "# cancer-model의 중요도 함수\n",
    "def plot_feature_importances_cancer(model):\n",
    "    n_features = cancer.data.shape[1]\n",
    "    plt.barh(range(n_features), model.feature_importances_, align='center')\n",
    "    plt.yticks(np.arange(n_features), cancer.feature_names)\n",
    "    plt.xlabel(\"특성 중요도\")\n",
    "    plt.ylabel(\"특성\")\n",
    "    plt.title(model.__class__.__name__)\n",
    "    plt.ylim(-1, n_features)\n",
    "    plt.grid()"
   ]
  },
  {
   "cell_type": "code",
   "execution_count": 25,
   "metadata": {},
   "outputs": [
    {
     "data": {
      "image/png": "[encoded data removed]",
      "text/plain": [
       "<Figure size 432x288 with 1 Axes>"
      ]
     },
     "metadata": {
      "needs_background": "light"
     },
     "output_type": "display_data"
    }
   ],
   "source": [
    "plot_feature_importances_cancer(exc)"
   ]
  },
  {
   "cell_type": "code",
   "execution_count": 26,
   "metadata": {},
   "outputs": [
    {
     "data": {
      "image/png": "[encoded data removed]",
      "text/plain": [
       "<Figure size 432x288 with 1 Axes>"
      ]
     },
     "metadata": {
      "needs_background": "light"
     },
     "output_type": "display_data"
    }
   ],
   "source": [
    "plot_feature_importances_cancer(rf)"
   ]
  },
  {
   "cell_type": "markdown",
   "metadata": {},
   "source": [
    "결과는 같아도 사용되는 중요도는 다름"
   ]
  },
  {
   "cell_type": "markdown",
   "metadata": {},
   "source": [
    "- random forest보다 더 무작위성 주입\n",
    "- 후보 특성 무작위 분할하고 다음 최적 분할 찾음\n",
    "- 부트 스트랩 샘플링 안 씀 > 비복원추출\n",
    "- 중복이 발생하지 않음\n",
    "\n",
    "\n",
    "- https://blog.naver.com/jaemin408/221826591584\n"
   ]
  },
  {
   "cell_type": "markdown",
   "metadata": {},
   "source": [
    "### Adaboosting\n",
    "\n",
    "- 부스팅 방법\n",
    "- 이전 모델이 잘못 분류한 샘플에 가중치 높여서 다음 모델 훈련\n",
    "\n",
    "\n",
    "> base estimator\n",
    ">- deicisiontreeclassifier > max_depth=1\n",
    ">- decisiontreeRegressor > max_depth=3"
   ]
  },
  {
   "cell_type": "code",
   "execution_count": 18,
   "metadata": {},
   "outputs": [
    {
     "name": "stdout",
     "output_type": "stream",
     "text": [
      "훈련 세트 정확도 : 1.000\n",
      "테스트 세트 정확도 : 0.979\n"
     ]
    }
   ],
   "source": [
    "from sklearn.ensemble import AdaBoostClassifier\n",
    "\n",
    "ada = AdaBoostClassifier(random_state=0)\n",
    "ada.fit(cX_train, cy_train)\n",
    "\n",
    "print(\"훈련 세트 정확도 : {:.3f}\".format(ada.score(cX_train, cy_train)))\n",
    "print(\"테스트 세트 정확도 : {:.3f}\".format(ada.score(cX_test, cy_test)))\n",
    "\n",
    "#cancer"
   ]
  },
  {
   "cell_type": "code",
   "execution_count": 19,
   "metadata": {},
   "outputs": [
    {
     "name": "stdout",
     "output_type": "stream",
     "text": [
      "훈련 세트 정확도 : 1.000\n",
      "테스트 세트 정확도 : 0.896\n"
     ]
    }
   ],
   "source": [
    "ada = AdaBoostClassifier(random_state=0).fit(mX_train, my_train)\n",
    "\n",
    "print(\"훈련 세트 정확도 : {:.3f}\".format(rf.score(mX_train, my_train)))\n",
    "print(\"테스트 세트 정확도 : {:.3f}\".format(rf.score(mX_test, my_test)))"
   ]
  },
  {
   "cell_type": "markdown",
   "metadata": {},
   "source": [
    "부스팅 모델이라 과적합이 잘 된다"
   ]
  },
  {
   "cell_type": "markdown",
   "metadata": {},
   "source": [
    "### XGBoost\n",
    "\n",
    "- gradient boosting 최적화"
   ]
  },
  {
   "cell_type": "code",
   "execution_count": 45,
   "metadata": {},
   "outputs": [
    {
     "data": {
      "text/plain": [
       "0.872"
      ]
     },
     "execution_count": 45,
     "metadata": {},
     "output_type": "execute_result"
    }
   ],
   "source": [
    "from xgboost import XGBClassifier\n",
    "\n",
    "xgb = XGBClassifier(n_estimators=100, use_label_encoder =False\n",
    "                    ,max_depth=3, random_state=42, eval_metric='logloss')\n",
    "xgb.fit(X_train, y_train)\n",
    "accuracy_score(y_test, xgb.predict(X_test))\n",
    "\n"
   ]
  },
  {
   "cell_type": "markdown",
   "metadata": {},
   "source": [
    "https://stackoverflow.com/questions/45251126/deprecation-warning-on-xgboost-sklearn\n",
    "\n",
    "- xgb가 deprecated된 sklearn의 label 기능을 사용하고 있기 때문에\n",
    "- use_label_encoder =False 하지 않으면 경고가 뜬다. 모델 성능에는 영향 없음"
   ]
  },
  {
   "cell_type": "code",
   "execution_count": 53,
   "metadata": {},
   "outputs": [
    {
     "name": "stdout",
     "output_type": "stream",
     "text": [
      "훈련 세트 정확도 : 1.000\n",
      "테스트 세트 정확도 : 0.972\n"
     ]
    }
   ],
   "source": [
    "xgb = GradientBoostingClassifier(random_state=42).fit(cX_train, cy_train)\n",
    "\n",
    "print(\"훈련 세트 정확도 : {:.3f}\".format(xgb.score(cX_train, cy_train)))\n",
    "print(\"테스트 세트 정확도 : {:.3f}\".format(xgb.score(cX_test, cy_test)))"
   ]
  },
  {
   "cell_type": "code",
   "execution_count": 54,
   "metadata": {},
   "outputs": [
    {
     "name": "stdout",
     "output_type": "stream",
     "text": [
      "훈련 세트 정확도 : 0.979\n",
      "테스트 세트 정확도 : 0.888\n"
     ]
    }
   ],
   "source": [
    "xgb = GradientBoostingClassifier(random_state=42).fit(mX_train, my_train)\n",
    "\n",
    "print(\"훈련 세트 정확도 : {:.3f}\".format(xgb.score(mX_train, my_train)))\n",
    "print(\"테스트 세트 정확도 : {:.3f}\".format(xgb.score(mX_test, my_test)))"
   ]
  },
  {
   "cell_type": "markdown",
   "metadata": {},
   "source": [
    "역시 부스팅 모델이라 과적합 되는 경향이 있다"
   ]
  }
 ],
 "metadata": {
  "kernelspec": {
   "display_name": "Python 3",
   "language": "python",
   "name": "python3"
  },
  "language_info": {
   "codemirror_mode": {
    "name": "ipython",
    "version": 3
   },
   "file_extension": ".py",
   "mimetype": "text/x-python",
   "name": "python",
   "nbconvert_exporter": "python",
   "pygments_lexer": "ipython3",
   "version": "3.8.5"
  }
 },
 "nbformat": 4,
 "nbformat_minor": 4
}
